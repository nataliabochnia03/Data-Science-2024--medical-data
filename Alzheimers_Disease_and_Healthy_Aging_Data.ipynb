{
  "cells": [
    {
      "cell_type": "code",
      "execution_count": null,
      "metadata": {
        "id": "IbJW7MBMms2s"
      },
      "outputs": [],
      "source": [
        "import pandas as pd\n",
        "import numpy as np\n",
        "import matplotlib.pyplot as plt\n",
        "import seaborn as sns"
      ]
    },
    {
      "cell_type": "code",
      "execution_count": null,
      "metadata": {
        "id": "prRzUi8jnFaJ",
        "colab": {
          "base_uri": "https://localhost:8080/",
          "height": 1839
        },
        "outputId": "fb094ae3-0102-4434-f5c7-19e4a34f8208"
      },
      "outputs": [
        {
          "output_type": "stream",
          "name": "stderr",
          "text": [
            "<ipython-input-4-54b6e0e9be94>:1: DtypeWarning: Columns (17,18) have mixed types. Specify dtype option on import or set low_memory=False.\n",
            "  df = pd.read_csv(\"/content/drive/MyDrive/Colab Notebooks/Alzheimer_s_Disease_and_Healthy_Aging_Data (1).csv\")\n"
          ]
        },
        {
          "output_type": "execute_result",
          "data": {
            "text/plain": [
              "                                           RowId  YearStart  YearEnd  \\\n",
              "108009   BRFSS~2018~2018~9002~Q21~TAC03~AGE~RACE       2018     2018   \n",
              "214606     BRFSS~2019~2019~35~Q32~TOC07~AGE~RACE       2019     2019   \n",
              "8467     BRFSS~2017~2017~15~Q39~TGC04~AGE~GENDER       2017     2017   \n",
              "87064      BRFSS~2018~2018~25~Q17~TAC01~AGE~RACE       2018     2018   \n",
              "107626     BRFSS~2017~2017~10~Q13~TNC04~AGE~RACE       2017     2017   \n",
              "78026    BRFSS~2018~2018~09~Q08~TOC01~AGE~GENDER       2018     2018   \n",
              "61057      BRFSS~2017~2017~17~Q43~TOC11~AGE~RACE       2017     2017   \n",
              "206916     BRFSS~2016~2016~44~Q21~TAC03~AGE~RACE       2016     2016   \n",
              "217297     BRFSS~2019~2019~53~Q17~TAC01~AGE~RACE       2019     2019   \n",
              "179120  BRFSS~2016~2016~51~Q10~TSC10~AGE~OVERALL       2016     2016   \n",
              "\n",
              "       LocationAbbr   LocationDesc Datasource  \\\n",
              "108009          MDW        Midwest      BRFSS   \n",
              "214606           NM     New Mexico      BRFSS   \n",
              "8467             HI         Hawaii      BRFSS   \n",
              "87064            MA  Massachusetts      BRFSS   \n",
              "107626           DE       Delaware      BRFSS   \n",
              "78026            CT    Connecticut      BRFSS   \n",
              "61057            IL       Illinois      BRFSS   \n",
              "206916           RI   Rhode Island      BRFSS   \n",
              "217297           WA     Washington      BRFSS   \n",
              "179120           VA       Virginia      BRFSS   \n",
              "\n",
              "                                      Class  \\\n",
              "108009              Smoking and Alcohol Use   \n",
              "214606                       Overall Health   \n",
              "8467                             Caregiving   \n",
              "87064               Smoking and Alcohol Use   \n",
              "107626  Nutrition/Physical Activity/Obesity   \n",
              "78026                        Overall Health   \n",
              "61057                        Overall Health   \n",
              "206916              Smoking and Alcohol Use   \n",
              "217297              Smoking and Alcohol Use   \n",
              "179120              Screenings and Vaccines   \n",
              "\n",
              "                                                    Topic  \\\n",
              "108009                 Binge drinking within past 30 days   \n",
              "214606            Self-rated health (fair to poor health)   \n",
              "8467           Intensity of caregiving among older adults   \n",
              "87064                                     Current smoking   \n",
              "107626                                            Obesity   \n",
              "78026     Physically unhealthy days (mean number of days)   \n",
              "61057                        Arthritis among older adults   \n",
              "206916                 Binge drinking within past 30 days   \n",
              "217297                                    Current smoking   \n",
              "179120  Up-to-date with recommended vaccines and scree...   \n",
              "\n",
              "                                                 Question  Response  ...  \\\n",
              "108009  Percentage of older adults who reported binge ...       NaN  ...   \n",
              "214606  Percentage of older adults who self-reported t...       NaN  ...   \n",
              "8467    Average of 20 or more hours of care per week p...       NaN  ...   \n",
              "87064   Percentage of older adults who have smoked at ...       NaN  ...   \n",
              "107626  Percentage of older adults who are currently o...       NaN  ...   \n",
              "78026   Physically unhealthy days (mean number of days...       NaN  ...   \n",
              "61057   Percentage of older adults ever told they have...       NaN  ...   \n",
              "206916  Percentage of older adults who reported binge ...       NaN  ...   \n",
              "217297  Percentage of older adults who have smoked at ...       NaN  ...   \n",
              "179120  Percentage of older adult men who are up to da...       NaN  ...   \n",
              "\n",
              "       QuestionID ResponseID LocationID  StratificationCategoryID1  \\\n",
              "108009        Q21        NaN       9002                        AGE   \n",
              "214606        Q32        NaN         35                        AGE   \n",
              "8467          Q39        NaN         15                        AGE   \n",
              "87064         Q17        NaN         25                        AGE   \n",
              "107626        Q13        NaN         10                        AGE   \n",
              "78026         Q08        NaN          9                        AGE   \n",
              "61057         Q43        NaN         17                        AGE   \n",
              "206916        Q21        NaN         44                        AGE   \n",
              "217297        Q17        NaN         53                        AGE   \n",
              "179120        Q10        NaN         51                        AGE   \n",
              "\n",
              "        StratificationID1 StratificationCategoryID2 StratificationID2  \\\n",
              "108009               5064                      RACE               ASN   \n",
              "214606             65PLUS                      RACE               BLK   \n",
              "8467               65PLUS                    GENDER              MALE   \n",
              "87064         AGE_OVERALL                      RACE               ASN   \n",
              "107626        AGE_OVERALL                      RACE               HIS   \n",
              "78026         AGE_OVERALL                    GENDER            FEMALE   \n",
              "61057         AGE_OVERALL                      RACE               BLK   \n",
              "206916             65PLUS                      RACE               WHT   \n",
              "217297        AGE_OVERALL                      RACE               WHT   \n",
              "179120        AGE_OVERALL                   OVERALL           OVERALL   \n",
              "\n",
              "       StratificationCategoryID3 StratificationID3  Report  \n",
              "108009                       NaN               NaN     NaN  \n",
              "214606                       NaN               NaN     NaN  \n",
              "8467                         NaN               NaN     NaN  \n",
              "87064                        NaN               NaN     NaN  \n",
              "107626                       NaN               NaN     NaN  \n",
              "78026                        NaN               NaN     NaN  \n",
              "61057                        NaN               NaN     NaN  \n",
              "206916                       NaN               NaN     NaN  \n",
              "217297                       NaN               NaN     NaN  \n",
              "179120                       NaN               NaN     NaN  \n",
              "\n",
              "[10 rows x 39 columns]"
            ],
            "text/html": [
              "\n",
              "  <div id=\"df-5d9c3d78-5d4b-463c-864b-810b8b9859fe\" class=\"colab-df-container\">\n",
              "    <div>\n",
              "<style scoped>\n",
              "    .dataframe tbody tr th:only-of-type {\n",
              "        vertical-align: middle;\n",
              "    }\n",
              "\n",
              "    .dataframe tbody tr th {\n",
              "        vertical-align: top;\n",
              "    }\n",
              "\n",
              "    .dataframe thead th {\n",
              "        text-align: right;\n",
              "    }\n",
              "</style>\n",
              "<table border=\"1\" class=\"dataframe\">\n",
              "  <thead>\n",
              "    <tr style=\"text-align: right;\">\n",
              "      <th></th>\n",
              "      <th>RowId</th>\n",
              "      <th>YearStart</th>\n",
              "      <th>YearEnd</th>\n",
              "      <th>LocationAbbr</th>\n",
              "      <th>LocationDesc</th>\n",
              "      <th>Datasource</th>\n",
              "      <th>Class</th>\n",
              "      <th>Topic</th>\n",
              "      <th>Question</th>\n",
              "      <th>Response</th>\n",
              "      <th>...</th>\n",
              "      <th>QuestionID</th>\n",
              "      <th>ResponseID</th>\n",
              "      <th>LocationID</th>\n",
              "      <th>StratificationCategoryID1</th>\n",
              "      <th>StratificationID1</th>\n",
              "      <th>StratificationCategoryID2</th>\n",
              "      <th>StratificationID2</th>\n",
              "      <th>StratificationCategoryID3</th>\n",
              "      <th>StratificationID3</th>\n",
              "      <th>Report</th>\n",
              "    </tr>\n",
              "  </thead>\n",
              "  <tbody>\n",
              "    <tr>\n",
              "      <th>108009</th>\n",
              "      <td>BRFSS~2018~2018~9002~Q21~TAC03~AGE~RACE</td>\n",
              "      <td>2018</td>\n",
              "      <td>2018</td>\n",
              "      <td>MDW</td>\n",
              "      <td>Midwest</td>\n",
              "      <td>BRFSS</td>\n",
              "      <td>Smoking and Alcohol Use</td>\n",
              "      <td>Binge drinking within past 30 days</td>\n",
              "      <td>Percentage of older adults who reported binge ...</td>\n",
              "      <td>NaN</td>\n",
              "      <td>...</td>\n",
              "      <td>Q21</td>\n",
              "      <td>NaN</td>\n",
              "      <td>9002</td>\n",
              "      <td>AGE</td>\n",
              "      <td>5064</td>\n",
              "      <td>RACE</td>\n",
              "      <td>ASN</td>\n",
              "      <td>NaN</td>\n",
              "      <td>NaN</td>\n",
              "      <td>NaN</td>\n",
              "    </tr>\n",
              "    <tr>\n",
              "      <th>214606</th>\n",
              "      <td>BRFSS~2019~2019~35~Q32~TOC07~AGE~RACE</td>\n",
              "      <td>2019</td>\n",
              "      <td>2019</td>\n",
              "      <td>NM</td>\n",
              "      <td>New Mexico</td>\n",
              "      <td>BRFSS</td>\n",
              "      <td>Overall Health</td>\n",
              "      <td>Self-rated health (fair to poor health)</td>\n",
              "      <td>Percentage of older adults who self-reported t...</td>\n",
              "      <td>NaN</td>\n",
              "      <td>...</td>\n",
              "      <td>Q32</td>\n",
              "      <td>NaN</td>\n",
              "      <td>35</td>\n",
              "      <td>AGE</td>\n",
              "      <td>65PLUS</td>\n",
              "      <td>RACE</td>\n",
              "      <td>BLK</td>\n",
              "      <td>NaN</td>\n",
              "      <td>NaN</td>\n",
              "      <td>NaN</td>\n",
              "    </tr>\n",
              "    <tr>\n",
              "      <th>8467</th>\n",
              "      <td>BRFSS~2017~2017~15~Q39~TGC04~AGE~GENDER</td>\n",
              "      <td>2017</td>\n",
              "      <td>2017</td>\n",
              "      <td>HI</td>\n",
              "      <td>Hawaii</td>\n",
              "      <td>BRFSS</td>\n",
              "      <td>Caregiving</td>\n",
              "      <td>Intensity of caregiving among older adults</td>\n",
              "      <td>Average of 20 or more hours of care per week p...</td>\n",
              "      <td>NaN</td>\n",
              "      <td>...</td>\n",
              "      <td>Q39</td>\n",
              "      <td>NaN</td>\n",
              "      <td>15</td>\n",
              "      <td>AGE</td>\n",
              "      <td>65PLUS</td>\n",
              "      <td>GENDER</td>\n",
              "      <td>MALE</td>\n",
              "      <td>NaN</td>\n",
              "      <td>NaN</td>\n",
              "      <td>NaN</td>\n",
              "    </tr>\n",
              "    <tr>\n",
              "      <th>87064</th>\n",
              "      <td>BRFSS~2018~2018~25~Q17~TAC01~AGE~RACE</td>\n",
              "      <td>2018</td>\n",
              "      <td>2018</td>\n",
              "      <td>MA</td>\n",
              "      <td>Massachusetts</td>\n",
              "      <td>BRFSS</td>\n",
              "      <td>Smoking and Alcohol Use</td>\n",
              "      <td>Current smoking</td>\n",
              "      <td>Percentage of older adults who have smoked at ...</td>\n",
              "      <td>NaN</td>\n",
              "      <td>...</td>\n",
              "      <td>Q17</td>\n",
              "      <td>NaN</td>\n",
              "      <td>25</td>\n",
              "      <td>AGE</td>\n",
              "      <td>AGE_OVERALL</td>\n",
              "      <td>RACE</td>\n",
              "      <td>ASN</td>\n",
              "      <td>NaN</td>\n",
              "      <td>NaN</td>\n",
              "      <td>NaN</td>\n",
              "    </tr>\n",
              "    <tr>\n",
              "      <th>107626</th>\n",
              "      <td>BRFSS~2017~2017~10~Q13~TNC04~AGE~RACE</td>\n",
              "      <td>2017</td>\n",
              "      <td>2017</td>\n",
              "      <td>DE</td>\n",
              "      <td>Delaware</td>\n",
              "      <td>BRFSS</td>\n",
              "      <td>Nutrition/Physical Activity/Obesity</td>\n",
              "      <td>Obesity</td>\n",
              "      <td>Percentage of older adults who are currently o...</td>\n",
              "      <td>NaN</td>\n",
              "      <td>...</td>\n",
              "      <td>Q13</td>\n",
              "      <td>NaN</td>\n",
              "      <td>10</td>\n",
              "      <td>AGE</td>\n",
              "      <td>AGE_OVERALL</td>\n",
              "      <td>RACE</td>\n",
              "      <td>HIS</td>\n",
              "      <td>NaN</td>\n",
              "      <td>NaN</td>\n",
              "      <td>NaN</td>\n",
              "    </tr>\n",
              "    <tr>\n",
              "      <th>78026</th>\n",
              "      <td>BRFSS~2018~2018~09~Q08~TOC01~AGE~GENDER</td>\n",
              "      <td>2018</td>\n",
              "      <td>2018</td>\n",
              "      <td>CT</td>\n",
              "      <td>Connecticut</td>\n",
              "      <td>BRFSS</td>\n",
              "      <td>Overall Health</td>\n",
              "      <td>Physically unhealthy days (mean number of days)</td>\n",
              "      <td>Physically unhealthy days (mean number of days...</td>\n",
              "      <td>NaN</td>\n",
              "      <td>...</td>\n",
              "      <td>Q08</td>\n",
              "      <td>NaN</td>\n",
              "      <td>9</td>\n",
              "      <td>AGE</td>\n",
              "      <td>AGE_OVERALL</td>\n",
              "      <td>GENDER</td>\n",
              "      <td>FEMALE</td>\n",
              "      <td>NaN</td>\n",
              "      <td>NaN</td>\n",
              "      <td>NaN</td>\n",
              "    </tr>\n",
              "    <tr>\n",
              "      <th>61057</th>\n",
              "      <td>BRFSS~2017~2017~17~Q43~TOC11~AGE~RACE</td>\n",
              "      <td>2017</td>\n",
              "      <td>2017</td>\n",
              "      <td>IL</td>\n",
              "      <td>Illinois</td>\n",
              "      <td>BRFSS</td>\n",
              "      <td>Overall Health</td>\n",
              "      <td>Arthritis among older adults</td>\n",
              "      <td>Percentage of older adults ever told they have...</td>\n",
              "      <td>NaN</td>\n",
              "      <td>...</td>\n",
              "      <td>Q43</td>\n",
              "      <td>NaN</td>\n",
              "      <td>17</td>\n",
              "      <td>AGE</td>\n",
              "      <td>AGE_OVERALL</td>\n",
              "      <td>RACE</td>\n",
              "      <td>BLK</td>\n",
              "      <td>NaN</td>\n",
              "      <td>NaN</td>\n",
              "      <td>NaN</td>\n",
              "    </tr>\n",
              "    <tr>\n",
              "      <th>206916</th>\n",
              "      <td>BRFSS~2016~2016~44~Q21~TAC03~AGE~RACE</td>\n",
              "      <td>2016</td>\n",
              "      <td>2016</td>\n",
              "      <td>RI</td>\n",
              "      <td>Rhode Island</td>\n",
              "      <td>BRFSS</td>\n",
              "      <td>Smoking and Alcohol Use</td>\n",
              "      <td>Binge drinking within past 30 days</td>\n",
              "      <td>Percentage of older adults who reported binge ...</td>\n",
              "      <td>NaN</td>\n",
              "      <td>...</td>\n",
              "      <td>Q21</td>\n",
              "      <td>NaN</td>\n",
              "      <td>44</td>\n",
              "      <td>AGE</td>\n",
              "      <td>65PLUS</td>\n",
              "      <td>RACE</td>\n",
              "      <td>WHT</td>\n",
              "      <td>NaN</td>\n",
              "      <td>NaN</td>\n",
              "      <td>NaN</td>\n",
              "    </tr>\n",
              "    <tr>\n",
              "      <th>217297</th>\n",
              "      <td>BRFSS~2019~2019~53~Q17~TAC01~AGE~RACE</td>\n",
              "      <td>2019</td>\n",
              "      <td>2019</td>\n",
              "      <td>WA</td>\n",
              "      <td>Washington</td>\n",
              "      <td>BRFSS</td>\n",
              "      <td>Smoking and Alcohol Use</td>\n",
              "      <td>Current smoking</td>\n",
              "      <td>Percentage of older adults who have smoked at ...</td>\n",
              "      <td>NaN</td>\n",
              "      <td>...</td>\n",
              "      <td>Q17</td>\n",
              "      <td>NaN</td>\n",
              "      <td>53</td>\n",
              "      <td>AGE</td>\n",
              "      <td>AGE_OVERALL</td>\n",
              "      <td>RACE</td>\n",
              "      <td>WHT</td>\n",
              "      <td>NaN</td>\n",
              "      <td>NaN</td>\n",
              "      <td>NaN</td>\n",
              "    </tr>\n",
              "    <tr>\n",
              "      <th>179120</th>\n",
              "      <td>BRFSS~2016~2016~51~Q10~TSC10~AGE~OVERALL</td>\n",
              "      <td>2016</td>\n",
              "      <td>2016</td>\n",
              "      <td>VA</td>\n",
              "      <td>Virginia</td>\n",
              "      <td>BRFSS</td>\n",
              "      <td>Screenings and Vaccines</td>\n",
              "      <td>Up-to-date with recommended vaccines and scree...</td>\n",
              "      <td>Percentage of older adult men who are up to da...</td>\n",
              "      <td>NaN</td>\n",
              "      <td>...</td>\n",
              "      <td>Q10</td>\n",
              "      <td>NaN</td>\n",
              "      <td>51</td>\n",
              "      <td>AGE</td>\n",
              "      <td>AGE_OVERALL</td>\n",
              "      <td>OVERALL</td>\n",
              "      <td>OVERALL</td>\n",
              "      <td>NaN</td>\n",
              "      <td>NaN</td>\n",
              "      <td>NaN</td>\n",
              "    </tr>\n",
              "  </tbody>\n",
              "</table>\n",
              "<p>10 rows × 39 columns</p>\n",
              "</div>\n",
              "    <div class=\"colab-df-buttons\">\n",
              "\n",
              "  <div class=\"colab-df-container\">\n",
              "    <button class=\"colab-df-convert\" onclick=\"convertToInteractive('df-5d9c3d78-5d4b-463c-864b-810b8b9859fe')\"\n",
              "            title=\"Convert this dataframe to an interactive table.\"\n",
              "            style=\"display:none;\">\n",
              "\n",
              "  <svg xmlns=\"http://www.w3.org/2000/svg\" height=\"24px\" viewBox=\"0 -960 960 960\">\n",
              "    <path d=\"M120-120v-720h720v720H120Zm60-500h600v-160H180v160Zm220 220h160v-160H400v160Zm0 220h160v-160H400v160ZM180-400h160v-160H180v160Zm440 0h160v-160H620v160ZM180-180h160v-160H180v160Zm440 0h160v-160H620v160Z\"/>\n",
              "  </svg>\n",
              "    </button>\n",
              "\n",
              "  <style>\n",
              "    .colab-df-container {\n",
              "      display:flex;\n",
              "      gap: 12px;\n",
              "    }\n",
              "\n",
              "    .colab-df-convert {\n",
              "      background-color: #E8F0FE;\n",
              "      border: none;\n",
              "      border-radius: 50%;\n",
              "      cursor: pointer;\n",
              "      display: none;\n",
              "      fill: #1967D2;\n",
              "      height: 32px;\n",
              "      padding: 0 0 0 0;\n",
              "      width: 32px;\n",
              "    }\n",
              "\n",
              "    .colab-df-convert:hover {\n",
              "      background-color: #E2EBFA;\n",
              "      box-shadow: 0px 1px 2px rgba(60, 64, 67, 0.3), 0px 1px 3px 1px rgba(60, 64, 67, 0.15);\n",
              "      fill: #174EA6;\n",
              "    }\n",
              "\n",
              "    .colab-df-buttons div {\n",
              "      margin-bottom: 4px;\n",
              "    }\n",
              "\n",
              "    [theme=dark] .colab-df-convert {\n",
              "      background-color: #3B4455;\n",
              "      fill: #D2E3FC;\n",
              "    }\n",
              "\n",
              "    [theme=dark] .colab-df-convert:hover {\n",
              "      background-color: #434B5C;\n",
              "      box-shadow: 0px 1px 3px 1px rgba(0, 0, 0, 0.15);\n",
              "      filter: drop-shadow(0px 1px 2px rgba(0, 0, 0, 0.3));\n",
              "      fill: #FFFFFF;\n",
              "    }\n",
              "  </style>\n",
              "\n",
              "    <script>\n",
              "      const buttonEl =\n",
              "        document.querySelector('#df-5d9c3d78-5d4b-463c-864b-810b8b9859fe button.colab-df-convert');\n",
              "      buttonEl.style.display =\n",
              "        google.colab.kernel.accessAllowed ? 'block' : 'none';\n",
              "\n",
              "      async function convertToInteractive(key) {\n",
              "        const element = document.querySelector('#df-5d9c3d78-5d4b-463c-864b-810b8b9859fe');\n",
              "        const dataTable =\n",
              "          await google.colab.kernel.invokeFunction('convertToInteractive',\n",
              "                                                    [key], {});\n",
              "        if (!dataTable) return;\n",
              "\n",
              "        const docLinkHtml = 'Like what you see? Visit the ' +\n",
              "          '<a target=\"_blank\" href=https://colab.research.google.com/notebooks/data_table.ipynb>data table notebook</a>'\n",
              "          + ' to learn more about interactive tables.';\n",
              "        element.innerHTML = '';\n",
              "        dataTable['output_type'] = 'display_data';\n",
              "        await google.colab.output.renderOutput(dataTable, element);\n",
              "        const docLink = document.createElement('div');\n",
              "        docLink.innerHTML = docLinkHtml;\n",
              "        element.appendChild(docLink);\n",
              "      }\n",
              "    </script>\n",
              "  </div>\n",
              "\n",
              "\n",
              "<div id=\"df-6a6d7c5b-3adf-4e6a-ac6d-ca57b3049102\">\n",
              "  <button class=\"colab-df-quickchart\" onclick=\"quickchart('df-6a6d7c5b-3adf-4e6a-ac6d-ca57b3049102')\"\n",
              "            title=\"Suggest charts\"\n",
              "            style=\"display:none;\">\n",
              "\n",
              "<svg xmlns=\"http://www.w3.org/2000/svg\" height=\"24px\"viewBox=\"0 0 24 24\"\n",
              "     width=\"24px\">\n",
              "    <g>\n",
              "        <path d=\"M19 3H5c-1.1 0-2 .9-2 2v14c0 1.1.9 2 2 2h14c1.1 0 2-.9 2-2V5c0-1.1-.9-2-2-2zM9 17H7v-7h2v7zm4 0h-2V7h2v10zm4 0h-2v-4h2v4z\"/>\n",
              "    </g>\n",
              "</svg>\n",
              "  </button>\n",
              "\n",
              "<style>\n",
              "  .colab-df-quickchart {\n",
              "      --bg-color: #E8F0FE;\n",
              "      --fill-color: #1967D2;\n",
              "      --hover-bg-color: #E2EBFA;\n",
              "      --hover-fill-color: #174EA6;\n",
              "      --disabled-fill-color: #AAA;\n",
              "      --disabled-bg-color: #DDD;\n",
              "  }\n",
              "\n",
              "  [theme=dark] .colab-df-quickchart {\n",
              "      --bg-color: #3B4455;\n",
              "      --fill-color: #D2E3FC;\n",
              "      --hover-bg-color: #434B5C;\n",
              "      --hover-fill-color: #FFFFFF;\n",
              "      --disabled-bg-color: #3B4455;\n",
              "      --disabled-fill-color: #666;\n",
              "  }\n",
              "\n",
              "  .colab-df-quickchart {\n",
              "    background-color: var(--bg-color);\n",
              "    border: none;\n",
              "    border-radius: 50%;\n",
              "    cursor: pointer;\n",
              "    display: none;\n",
              "    fill: var(--fill-color);\n",
              "    height: 32px;\n",
              "    padding: 0;\n",
              "    width: 32px;\n",
              "  }\n",
              "\n",
              "  .colab-df-quickchart:hover {\n",
              "    background-color: var(--hover-bg-color);\n",
              "    box-shadow: 0 1px 2px rgba(60, 64, 67, 0.3), 0 1px 3px 1px rgba(60, 64, 67, 0.15);\n",
              "    fill: var(--button-hover-fill-color);\n",
              "  }\n",
              "\n",
              "  .colab-df-quickchart-complete:disabled,\n",
              "  .colab-df-quickchart-complete:disabled:hover {\n",
              "    background-color: var(--disabled-bg-color);\n",
              "    fill: var(--disabled-fill-color);\n",
              "    box-shadow: none;\n",
              "  }\n",
              "\n",
              "  .colab-df-spinner {\n",
              "    border: 2px solid var(--fill-color);\n",
              "    border-color: transparent;\n",
              "    border-bottom-color: var(--fill-color);\n",
              "    animation:\n",
              "      spin 1s steps(1) infinite;\n",
              "  }\n",
              "\n",
              "  @keyframes spin {\n",
              "    0% {\n",
              "      border-color: transparent;\n",
              "      border-bottom-color: var(--fill-color);\n",
              "      border-left-color: var(--fill-color);\n",
              "    }\n",
              "    20% {\n",
              "      border-color: transparent;\n",
              "      border-left-color: var(--fill-color);\n",
              "      border-top-color: var(--fill-color);\n",
              "    }\n",
              "    30% {\n",
              "      border-color: transparent;\n",
              "      border-left-color: var(--fill-color);\n",
              "      border-top-color: var(--fill-color);\n",
              "      border-right-color: var(--fill-color);\n",
              "    }\n",
              "    40% {\n",
              "      border-color: transparent;\n",
              "      border-right-color: var(--fill-color);\n",
              "      border-top-color: var(--fill-color);\n",
              "    }\n",
              "    60% {\n",
              "      border-color: transparent;\n",
              "      border-right-color: var(--fill-color);\n",
              "    }\n",
              "    80% {\n",
              "      border-color: transparent;\n",
              "      border-right-color: var(--fill-color);\n",
              "      border-bottom-color: var(--fill-color);\n",
              "    }\n",
              "    90% {\n",
              "      border-color: transparent;\n",
              "      border-bottom-color: var(--fill-color);\n",
              "    }\n",
              "  }\n",
              "</style>\n",
              "\n",
              "  <script>\n",
              "    async function quickchart(key) {\n",
              "      const quickchartButtonEl =\n",
              "        document.querySelector('#' + key + ' button');\n",
              "      quickchartButtonEl.disabled = true;  // To prevent multiple clicks.\n",
              "      quickchartButtonEl.classList.add('colab-df-spinner');\n",
              "      try {\n",
              "        const charts = await google.colab.kernel.invokeFunction(\n",
              "            'suggestCharts', [key], {});\n",
              "      } catch (error) {\n",
              "        console.error('Error during call to suggestCharts:', error);\n",
              "      }\n",
              "      quickchartButtonEl.classList.remove('colab-df-spinner');\n",
              "      quickchartButtonEl.classList.add('colab-df-quickchart-complete');\n",
              "    }\n",
              "    (() => {\n",
              "      let quickchartButtonEl =\n",
              "        document.querySelector('#df-6a6d7c5b-3adf-4e6a-ac6d-ca57b3049102 button');\n",
              "      quickchartButtonEl.style.display =\n",
              "        google.colab.kernel.accessAllowed ? 'block' : 'none';\n",
              "    })();\n",
              "  </script>\n",
              "</div>\n",
              "    </div>\n",
              "  </div>\n"
            ],
            "application/vnd.google.colaboratory.intrinsic+json": {
              "type": "dataframe"
            }
          },
          "metadata": {},
          "execution_count": 4
        },
        {
          "output_type": "stream",
          "name": "stdout",
          "text": [
            "Warning: Total number of columns (39) exceeds max_columns (20) limiting to first (20) columns.\n"
          ]
        }
      ],
      "source": [
        "df = pd.read_csv(\"/content/drive/MyDrive/Colab Notebooks/Alzheimer_s_Disease_and_Healthy_Aging_Data (1).csv\")\n",
        "df.sample(10)"
      ]
    },
    {
      "cell_type": "code",
      "execution_count": null,
      "metadata": {
        "id": "Pp54CeshnR3f",
        "colab": {
          "base_uri": "https://localhost:8080/"
        },
        "outputId": "2f6ca5df-7311-4040-915d-e459b3faacda"
      },
      "outputs": [
        {
          "output_type": "execute_result",
          "data": {
            "text/plain": [
              "(250937, 39)"
            ]
          },
          "metadata": {},
          "execution_count": 5
        }
      ],
      "source": [
        "df.shape"
      ]
    },
    {
      "cell_type": "code",
      "execution_count": null,
      "metadata": {
        "id": "CDyVFklcnYJD",
        "colab": {
          "base_uri": "https://localhost:8080/"
        },
        "outputId": "da8a2f5f-2bfa-4c4c-984f-e40092b6de2d"
      },
      "outputs": [
        {
          "output_type": "execute_result",
          "data": {
            "text/plain": [
              "RowId                         250937\n",
              "YearStart                     250937\n",
              "YearEnd                       250937\n",
              "LocationAbbr                  250937\n",
              "LocationDesc                  250937\n",
              "Datasource                    250937\n",
              "Class                         250937\n",
              "Topic                         250937\n",
              "Question                      250937\n",
              "Response                           0\n",
              "Data_Value_Unit               250937\n",
              "DataValueTypeID               250937\n",
              "Data_Value_Type               250937\n",
              "Data_Value                    169302\n",
              "Data_Value_Alt                169302\n",
              "Data_Value_Footnote_Symbol     99114\n",
              "Data_Value_Footnote            99114\n",
              "Low_Confidence_Limit          169152\n",
              "High_Confidence_Limit         169152\n",
              "Sample_Size                        0\n",
              "StratificationCategory1       250937\n",
              "Stratification1               250937\n",
              "StratificationCategory2       218561\n",
              "Stratification2               218561\n",
              "StratificationCategory3            0\n",
              "Stratification3                    0\n",
              "Geolocation                   224228\n",
              "ClassID                       250937\n",
              "TopicID                       250937\n",
              "QuestionID                    250937\n",
              "ResponseID                         0\n",
              "LocationID                    250937\n",
              "StratificationCategoryID1     250937\n",
              "StratificationID1             250937\n",
              "StratificationCategoryID2     250937\n",
              "StratificationID2             250937\n",
              "StratificationCategoryID3          0\n",
              "StratificationID3                  0\n",
              "Report                             0\n",
              "dtype: int64"
            ]
          },
          "metadata": {},
          "execution_count": 6
        }
      ],
      "source": [
        "df.count()"
      ]
    },
    {
      "cell_type": "code",
      "execution_count": null,
      "metadata": {
        "id": "a19tbq0OdXUA",
        "colab": {
          "base_uri": "https://localhost:8080/"
        },
        "outputId": "4b74c423-51f1-46ef-f886-1df36e142f7a"
      },
      "outputs": [
        {
          "output_type": "stream",
          "name": "stdout",
          "text": [
            "Columns with no values at all:\n",
            "Index(['Response', 'Sample_Size', 'StratificationCategory3', 'Stratification3',\n",
            "       'ResponseID', 'StratificationCategoryID3', 'StratificationID3',\n",
            "       'Report'],\n",
            "      dtype='object')\n"
          ]
        }
      ],
      "source": [
        "empty_columns = df.columns[df.isnull().all()]\n",
        "\n",
        "# Display columns with no values at all\n",
        "print(\"Columns with no values at all:\")\n",
        "print(empty_columns)"
      ]
    },
    {
      "cell_type": "code",
      "execution_count": null,
      "metadata": {
        "id": "MnJfjfUTBWz-"
      },
      "outputs": [],
      "source": [
        "#dropping columns that have no values\n",
        "df.drop(columns = [\"Response\", \"Sample_Size\", \"StratificationCategory3\", \"Stratification3\", \"ResponseID\", \"StratificationCategoryID3\", \"StratificationID3\", \"Report\"], inplace=True)"
      ]
    },
    {
      "cell_type": "code",
      "execution_count": null,
      "metadata": {
        "id": "v5Z-BpeoCRH8",
        "colab": {
          "base_uri": "https://localhost:8080/"
        },
        "outputId": "978f854b-5521-4fcb-d895-05692b2504c6"
      },
      "outputs": [
        {
          "output_type": "execute_result",
          "data": {
            "text/plain": [
              "Index(['RowId', 'YearStart', 'YearEnd', 'LocationAbbr', 'LocationDesc',\n",
              "       'Datasource', 'Class', 'Topic', 'Question', 'Data_Value_Unit',\n",
              "       'DataValueTypeID', 'Data_Value_Type', 'Data_Value', 'Data_Value_Alt',\n",
              "       'Data_Value_Footnote_Symbol', 'Data_Value_Footnote',\n",
              "       'Low_Confidence_Limit', 'High_Confidence_Limit',\n",
              "       'StratificationCategory1', 'Stratification1', 'StratificationCategory2',\n",
              "       'Stratification2', 'Geolocation', 'ClassID', 'TopicID', 'QuestionID',\n",
              "       'LocationID', 'StratificationCategoryID1', 'StratificationID1',\n",
              "       'StratificationCategoryID2', 'StratificationID2'],\n",
              "      dtype='object')"
            ]
          },
          "metadata": {},
          "execution_count": 9
        }
      ],
      "source": [
        "df.columns"
      ]
    },
    {
      "cell_type": "code",
      "execution_count": null,
      "metadata": {
        "colab": {
          "base_uri": "https://localhost:8080/"
        },
        "id": "bf2JtRACnTdr",
        "outputId": "bbd0f8ab-6b3e-4d51-f968-ceb29cb57531"
      },
      "outputs": [
        {
          "output_type": "execute_result",
          "data": {
            "text/plain": [
              "RowId                              0\n",
              "YearStart                          0\n",
              "YearEnd                            0\n",
              "LocationAbbr                       0\n",
              "LocationDesc                       0\n",
              "Datasource                         0\n",
              "Class                              0\n",
              "Topic                              0\n",
              "Question                           0\n",
              "Data_Value_Unit                    0\n",
              "DataValueTypeID                    0\n",
              "Data_Value_Type                    0\n",
              "Data_Value                     81635\n",
              "Data_Value_Alt                 81635\n",
              "Data_Value_Footnote_Symbol    151823\n",
              "Data_Value_Footnote           151823\n",
              "Low_Confidence_Limit           81785\n",
              "High_Confidence_Limit          81785\n",
              "StratificationCategory1            0\n",
              "Stratification1                    0\n",
              "StratificationCategory2        32376\n",
              "Stratification2                32376\n",
              "Geolocation                    26709\n",
              "ClassID                            0\n",
              "TopicID                            0\n",
              "QuestionID                         0\n",
              "LocationID                         0\n",
              "StratificationCategoryID1          0\n",
              "StratificationID1                  0\n",
              "StratificationCategoryID2          0\n",
              "StratificationID2                  0\n",
              "dtype: int64"
            ]
          },
          "metadata": {},
          "execution_count": 10
        }
      ],
      "source": [
        "df.isna().sum()"
      ]
    },
    {
      "cell_type": "code",
      "execution_count": null,
      "metadata": {
        "colab": {
          "base_uri": "https://localhost:8080/"
        },
        "id": "ZW6R7SKyvMht",
        "outputId": "e46b02a5-5455-430d-ef7d-cfb6824201fa"
      },
      "outputs": [
        {
          "output_type": "stream",
          "name": "stdout",
          "text": [
            "There is 60.50% of NaN values in Data_Value_Footnote_Symbol column\n"
          ]
        }
      ],
      "source": [
        "total_status = len(df[\"Data_Value_Footnote_Symbol\"])\n",
        "\n",
        "# Count occurrences of \"..\" and NaN in the 'STATUS' column\n",
        "null_values = df[\"Data_Value_Footnote_Symbol\"].isna().sum()\n",
        "\n",
        "# Calculate percentages\n",
        "percentage_null_values = (null_values / total_status) * 100\n",
        "\n",
        "print(f\"There is {percentage_null_values:.2f}% of NaN values in Data_Value_Footnote_Symbol column\")\n",
        "\n"
      ]
    },
    {
      "cell_type": "markdown",
      "metadata": {
        "id": "sJkN9sn-k-Mb"
      },
      "source": [
        "Checking unique values"
      ]
    },
    {
      "cell_type": "code",
      "execution_count": null,
      "metadata": {
        "colab": {
          "base_uri": "https://localhost:8080/"
        },
        "id": "TmH3I9Iqfo8U",
        "outputId": "d66c433a-ce50-48b8-b7c4-37a4403e3172"
      },
      "outputs": [
        {
          "output_type": "execute_result",
          "data": {
            "text/plain": [
              "array([nan, '****', '~', '&', '#', '**'], dtype=object)"
            ]
          },
          "metadata": {},
          "execution_count": 12
        }
      ],
      "source": [
        "df[\"Data_Value_Footnote_Symbol\"].unique()"
      ]
    },
    {
      "cell_type": "code",
      "execution_count": null,
      "metadata": {
        "id": "3egNKN_03dLq"
      },
      "outputs": [],
      "source": [
        "df.drop(columns = [\"Data_Value_Footnote_Symbol\", \"Data_Value_Footnote\", \"DataValueTypeID\",\"LocationAbbr\", \"RowId\", \"Datasource\",\n",
        "                   \"StratificationCategory1\", \"Stratification1\", \"StratificationCategory2\", \"Stratification2\", \"Data_Value_Unit\", \"StratificationCategoryID1\"], inplace = True)\n",
        "# Dropping explanatory columns related to stratification and keeping only the ID columns\n",
        "#I will cite the source, so Datasource column is unnecessary\n",
        "\n"
      ]
    },
    {
      "cell_type": "code",
      "execution_count": null,
      "metadata": {
        "colab": {
          "base_uri": "https://localhost:8080/"
        },
        "id": "5SD3IuLUJGaP",
        "outputId": "105822af-1483-4376-d487-90427a50501d"
      },
      "outputs": [
        {
          "output_type": "execute_result",
          "data": {
            "text/plain": [
              "Index(['YearStart', 'YearEnd', 'LocationDesc', 'Class', 'Topic', 'Question',\n",
              "       'Data_Value_Type', 'Data_Value', 'Data_Value_Alt',\n",
              "       'Low_Confidence_Limit', 'High_Confidence_Limit', 'Geolocation',\n",
              "       'ClassID', 'TopicID', 'QuestionID', 'LocationID', 'StratificationID1',\n",
              "       'StratificationCategoryID2', 'StratificationID2'],\n",
              "      dtype='object')"
            ]
          },
          "metadata": {},
          "execution_count": 14
        }
      ],
      "source": [
        "df.columns"
      ]
    },
    {
      "cell_type": "code",
      "execution_count": null,
      "metadata": {
        "colab": {
          "base_uri": "https://localhost:8080/"
        },
        "id": "U-hLI4ieKAdI",
        "outputId": "5d3dadc4-e1e7-4115-9796-dd3ca9f3b43e"
      },
      "outputs": [
        {
          "output_type": "stream",
          "name": "stdout",
          "text": [
            "        Data_Value_Alt  Data_Value\n",
            "90126             37.0        37.0\n",
            "53534             43.8        43.8\n",
            "227692             NaN         NaN\n",
            "151351            62.4        62.4\n",
            "155433            12.2        12.2\n",
            "170543            68.9        68.9\n",
            "15817             25.5        25.5\n",
            "195854            93.2        93.2\n",
            "200285             NaN         NaN\n",
            "1275              19.3        19.3\n",
            "223404            18.7        18.7\n",
            "105446            10.6        10.6\n",
            "54760              NaN         NaN\n",
            "13849             24.2        24.2\n",
            "200860             8.9         8.9\n",
            "35566             14.5        14.5\n",
            "162695             7.7         7.7\n",
            "189615            20.8        20.8\n",
            "155689             NaN         NaN\n",
            "202919            55.6        55.6\n"
          ]
        }
      ],
      "source": [
        "print(df[[\"Data_Value_Alt\", \"Data_Value\"]].sample(20))"
      ]
    },
    {
      "cell_type": "code",
      "execution_count": null,
      "metadata": {
        "id": "cLQhE-7NKahJ"
      },
      "outputs": [],
      "source": [
        "df.drop(columns = [\"Data_Value_Alt\"], inplace = True)"
      ]
    },
    {
      "cell_type": "code",
      "execution_count": null,
      "metadata": {
        "id": "-sDyPNumIG3W"
      },
      "outputs": [],
      "source": [
        "#Creating seperate data frame, before I drop another column, just in case I would need any of this infmormation later\n",
        "old_df = df.copy()"
      ]
    },
    {
      "cell_type": "code",
      "execution_count": null,
      "metadata": {
        "colab": {
          "base_uri": "https://localhost:8080/"
        },
        "id": "ZoclIK2uPf68",
        "outputId": "fcb902e3-b83b-4948-ee66-21b4fc15aab3"
      },
      "outputs": [
        {
          "output_type": "stream",
          "name": "stdout",
          "text": [
            "The number of rows where all columns have the same values: 0\n"
          ]
        }
      ],
      "source": [
        "unique_values = df.nunique(axis=1)\n",
        "same_values = unique_values[unique_values == 1].count()\n",
        "print(f\"The number of rows where all columns have the same values: {same_values}\")\n"
      ]
    },
    {
      "cell_type": "code",
      "execution_count": null,
      "metadata": {
        "colab": {
          "base_uri": "https://localhost:8080/"
        },
        "id": "aiMQ95b-R_LN",
        "outputId": "1b5aa5cb-a8d9-4f39-b150-c80983c02bd8"
      },
      "outputs": [
        {
          "output_type": "stream",
          "name": "stdout",
          "text": [
            "There is 95.42434953793183 % of the same values in YearStart and YearEnd\n"
          ]
        }
      ],
      "source": [
        "df['SameYear'] = df['YearStart'] == df['YearEnd']\n",
        "percentage_same_year = (df[df['SameYear'] == True].shape[0]/df.shape[0]) * 100\n",
        "print(f\"There is {percentage_same_year} % of the same values in YearStart and YearEnd\")"
      ]
    },
    {
      "cell_type": "code",
      "execution_count": null,
      "metadata": {
        "colab": {
          "base_uri": "https://localhost:8080/",
          "height": 170
        },
        "id": "hsoA94pVTDgN",
        "outputId": "06092134-e6d9-47ac-ac30-545506170d9f"
      },
      "outputs": [
        {
          "output_type": "execute_result",
          "data": {
            "text/plain": [
              "   Year LocationDesc           Class                         Topic  \\\n",
              "0  2021         West  Overall Health  Arthritis among older adults   \n",
              "\n",
              "                                            Question Data_Value_Type  \\\n",
              "0  Percentage of older adults ever told they have...      Percentage   \n",
              "\n",
              "   Data_Value Low_Confidence_Limit High_Confidence_Limit Geolocation ClassID  \\\n",
              "0        31.6                 28.8                  34.4         NaN     C01   \n",
              "\n",
              "  TopicID QuestionID  LocationID StratificationID1 StratificationCategoryID2  \\\n",
              "0   TOC11        Q43        9004       AGE_OVERALL                      RACE   \n",
              "\n",
              "  StratificationID2  SameYear  \n",
              "0               HIS      True  "
            ],
            "text/html": [
              "\n",
              "  <div id=\"df-1c6081cf-b5e1-4f8f-95ea-8d28a8d67f3c\" class=\"colab-df-container\">\n",
              "    <div>\n",
              "<style scoped>\n",
              "    .dataframe tbody tr th:only-of-type {\n",
              "        vertical-align: middle;\n",
              "    }\n",
              "\n",
              "    .dataframe tbody tr th {\n",
              "        vertical-align: top;\n",
              "    }\n",
              "\n",
              "    .dataframe thead th {\n",
              "        text-align: right;\n",
              "    }\n",
              "</style>\n",
              "<table border=\"1\" class=\"dataframe\">\n",
              "  <thead>\n",
              "    <tr style=\"text-align: right;\">\n",
              "      <th></th>\n",
              "      <th>Year</th>\n",
              "      <th>LocationDesc</th>\n",
              "      <th>Class</th>\n",
              "      <th>Topic</th>\n",
              "      <th>Question</th>\n",
              "      <th>Data_Value_Type</th>\n",
              "      <th>Data_Value</th>\n",
              "      <th>Low_Confidence_Limit</th>\n",
              "      <th>High_Confidence_Limit</th>\n",
              "      <th>Geolocation</th>\n",
              "      <th>ClassID</th>\n",
              "      <th>TopicID</th>\n",
              "      <th>QuestionID</th>\n",
              "      <th>LocationID</th>\n",
              "      <th>StratificationID1</th>\n",
              "      <th>StratificationCategoryID2</th>\n",
              "      <th>StratificationID2</th>\n",
              "      <th>SameYear</th>\n",
              "    </tr>\n",
              "  </thead>\n",
              "  <tbody>\n",
              "    <tr>\n",
              "      <th>0</th>\n",
              "      <td>2021</td>\n",
              "      <td>West</td>\n",
              "      <td>Overall Health</td>\n",
              "      <td>Arthritis among older adults</td>\n",
              "      <td>Percentage of older adults ever told they have...</td>\n",
              "      <td>Percentage</td>\n",
              "      <td>31.6</td>\n",
              "      <td>28.8</td>\n",
              "      <td>34.4</td>\n",
              "      <td>NaN</td>\n",
              "      <td>C01</td>\n",
              "      <td>TOC11</td>\n",
              "      <td>Q43</td>\n",
              "      <td>9004</td>\n",
              "      <td>AGE_OVERALL</td>\n",
              "      <td>RACE</td>\n",
              "      <td>HIS</td>\n",
              "      <td>True</td>\n",
              "    </tr>\n",
              "  </tbody>\n",
              "</table>\n",
              "</div>\n",
              "    <div class=\"colab-df-buttons\">\n",
              "\n",
              "  <div class=\"colab-df-container\">\n",
              "    <button class=\"colab-df-convert\" onclick=\"convertToInteractive('df-1c6081cf-b5e1-4f8f-95ea-8d28a8d67f3c')\"\n",
              "            title=\"Convert this dataframe to an interactive table.\"\n",
              "            style=\"display:none;\">\n",
              "\n",
              "  <svg xmlns=\"http://www.w3.org/2000/svg\" height=\"24px\" viewBox=\"0 -960 960 960\">\n",
              "    <path d=\"M120-120v-720h720v720H120Zm60-500h600v-160H180v160Zm220 220h160v-160H400v160Zm0 220h160v-160H400v160ZM180-400h160v-160H180v160Zm440 0h160v-160H620v160ZM180-180h160v-160H180v160Zm440 0h160v-160H620v160Z\"/>\n",
              "  </svg>\n",
              "    </button>\n",
              "\n",
              "  <style>\n",
              "    .colab-df-container {\n",
              "      display:flex;\n",
              "      gap: 12px;\n",
              "    }\n",
              "\n",
              "    .colab-df-convert {\n",
              "      background-color: #E8F0FE;\n",
              "      border: none;\n",
              "      border-radius: 50%;\n",
              "      cursor: pointer;\n",
              "      display: none;\n",
              "      fill: #1967D2;\n",
              "      height: 32px;\n",
              "      padding: 0 0 0 0;\n",
              "      width: 32px;\n",
              "    }\n",
              "\n",
              "    .colab-df-convert:hover {\n",
              "      background-color: #E2EBFA;\n",
              "      box-shadow: 0px 1px 2px rgba(60, 64, 67, 0.3), 0px 1px 3px 1px rgba(60, 64, 67, 0.15);\n",
              "      fill: #174EA6;\n",
              "    }\n",
              "\n",
              "    .colab-df-buttons div {\n",
              "      margin-bottom: 4px;\n",
              "    }\n",
              "\n",
              "    [theme=dark] .colab-df-convert {\n",
              "      background-color: #3B4455;\n",
              "      fill: #D2E3FC;\n",
              "    }\n",
              "\n",
              "    [theme=dark] .colab-df-convert:hover {\n",
              "      background-color: #434B5C;\n",
              "      box-shadow: 0px 1px 3px 1px rgba(0, 0, 0, 0.15);\n",
              "      filter: drop-shadow(0px 1px 2px rgba(0, 0, 0, 0.3));\n",
              "      fill: #FFFFFF;\n",
              "    }\n",
              "  </style>\n",
              "\n",
              "    <script>\n",
              "      const buttonEl =\n",
              "        document.querySelector('#df-1c6081cf-b5e1-4f8f-95ea-8d28a8d67f3c button.colab-df-convert');\n",
              "      buttonEl.style.display =\n",
              "        google.colab.kernel.accessAllowed ? 'block' : 'none';\n",
              "\n",
              "      async function convertToInteractive(key) {\n",
              "        const element = document.querySelector('#df-1c6081cf-b5e1-4f8f-95ea-8d28a8d67f3c');\n",
              "        const dataTable =\n",
              "          await google.colab.kernel.invokeFunction('convertToInteractive',\n",
              "                                                    [key], {});\n",
              "        if (!dataTable) return;\n",
              "\n",
              "        const docLinkHtml = 'Like what you see? Visit the ' +\n",
              "          '<a target=\"_blank\" href=https://colab.research.google.com/notebooks/data_table.ipynb>data table notebook</a>'\n",
              "          + ' to learn more about interactive tables.';\n",
              "        element.innerHTML = '';\n",
              "        dataTable['output_type'] = 'display_data';\n",
              "        await google.colab.output.renderOutput(dataTable, element);\n",
              "        const docLink = document.createElement('div');\n",
              "        docLink.innerHTML = docLinkHtml;\n",
              "        element.appendChild(docLink);\n",
              "      }\n",
              "    </script>\n",
              "  </div>\n",
              "\n",
              "    </div>\n",
              "  </div>\n"
            ],
            "application/vnd.google.colaboratory.intrinsic+json": {
              "type": "dataframe",
              "variable_name": "df"
            }
          },
          "metadata": {},
          "execution_count": 20
        }
      ],
      "source": [
        "#That's why I decided to keep only one column, and rename it to Year\n",
        "df.drop(columns = \"YearEnd\", inplace = True)\n",
        "df.rename(columns={\"YearStart\": \"Year\"}, inplace = True)\n",
        "df.head(1)"
      ]
    },
    {
      "cell_type": "code",
      "execution_count": null,
      "metadata": {
        "id": "OyM1RtAiZFbG"
      },
      "outputs": [],
      "source": [
        "df.drop(columns = [\"SameYear\"], inplace = True)"
      ]
    },
    {
      "cell_type": "markdown",
      "metadata": {
        "id": "cxv9k25gp9Ua"
      },
      "source": [
        "## Missing values"
      ]
    },
    {
      "cell_type": "code",
      "execution_count": null,
      "metadata": {
        "colab": {
          "base_uri": "https://localhost:8080/"
        },
        "id": "wSjjqPdbZl3a",
        "outputId": "7a9621f7-c81b-4c06-d455-b34fc102c548"
      },
      "outputs": [
        {
          "output_type": "execute_result",
          "data": {
            "text/plain": [
              "Year                             0\n",
              "LocationDesc                     0\n",
              "Class                            0\n",
              "Topic                            0\n",
              "Question                         0\n",
              "Data_Value_Type                  0\n",
              "Data_Value                   81635\n",
              "Low_Confidence_Limit         81785\n",
              "High_Confidence_Limit        81785\n",
              "Geolocation                  26709\n",
              "ClassID                          0\n",
              "TopicID                          0\n",
              "QuestionID                       0\n",
              "LocationID                       0\n",
              "StratificationID1                0\n",
              "StratificationCategoryID2        0\n",
              "StratificationID2                0\n",
              "dtype: int64"
            ]
          },
          "metadata": {},
          "execution_count": 22
        }
      ],
      "source": [
        "df.isna().sum()"
      ]
    },
    {
      "cell_type": "code",
      "execution_count": null,
      "metadata": {
        "colab": {
          "base_uri": "https://localhost:8080/"
        },
        "id": "5Wgbfk5AaNc-",
        "outputId": "180a0d68-dee1-40b1-f85d-b627e2910001"
      },
      "outputs": [
        {
          "output_type": "stream",
          "name": "stdout",
          "text": [
            "There is 32.53% of missing values in Data_Value column\n"
          ]
        }
      ],
      "source": [
        "total_status = len(df[\"Data_Value\"])\n",
        "null_values = df[\"Data_Value\"].isna().sum()\n",
        "percentage_null_values = (null_values / total_status) * 100\n",
        "print(f\"There is {percentage_null_values:.2f}% of missing values in Data_Value column\")"
      ]
    },
    {
      "cell_type": "code",
      "execution_count": null,
      "metadata": {
        "colab": {
          "base_uri": "https://localhost:8080/"
        },
        "id": "e342I_tSqhcp",
        "outputId": "e9700cb2-ca66-4bf7-bb61-e1a0f6bde780"
      },
      "outputs": [
        {
          "output_type": "stream",
          "name": "stdout",
          "text": [
            "There is 36.23% of missing values in Low_Confidence_Limit and High_Confidence_Limit columns\n"
          ]
        }
      ],
      "source": [
        "total_status = len(df[\"Low_Confidence_Limit\"])\n",
        "null_values = df[\"Low_Confidence_Limit\"].isna().sum()\n",
        "percentage_null_values = (null_values / total_status) * 100\n",
        "print(f\"There is {percentage_null_values:.2f}% of missing values in Low_Confidence_Limit column\")"
      ]
    },
    {
      "cell_type": "code",
      "execution_count": null,
      "metadata": {
        "colab": {
          "base_uri": "https://localhost:8080/"
        },
        "id": "WBpTK8O4a-Lz",
        "outputId": "921be5bf-6d2f-45ac-d9fd-306b421ba63e"
      },
      "outputs": [
        {
          "output_type": "stream",
          "name": "stdout",
          "text": [
            "There is 10.64% of missing values in Geolocation column\n"
          ]
        }
      ],
      "source": [
        "total_status = len(df[\"Geolocation\"])\n",
        "null_values = df[\"Geolocation\"].isna().sum()\n",
        "percentage_null_values = (null_values / total_status) * 100\n",
        "\n",
        "print(f\"There is {percentage_null_values:.2f}% of missing values in Geolocation column\")"
      ]
    },
    {
      "cell_type": "code",
      "execution_count": null,
      "metadata": {
        "colab": {
          "base_uri": "https://localhost:8080/"
        },
        "id": "al7e3G4qwkkc",
        "outputId": "4c9acbb8-62d5-4469-b0ee-67e98fee1c11"
      },
      "outputs": [
        {
          "output_type": "stream",
          "name": "stdout",
          "text": [
            "Year                             0\n",
            "LocationDesc                     0\n",
            "Class                            0\n",
            "Topic                            0\n",
            "Question                         0\n",
            "Data_Value_Type                  0\n",
            "Data_Value                   81238\n",
            "Low_Confidence_Limit         81238\n",
            "High_Confidence_Limit        81238\n",
            "Geolocation                      0\n",
            "ClassID                          0\n",
            "TopicID                          0\n",
            "QuestionID                       0\n",
            "LocationID                       0\n",
            "StratificationID1                0\n",
            "StratificationCategoryID2        0\n",
            "StratificationID2                0\n",
            "dtype: int64\n"
          ]
        }
      ],
      "source": [
        "df.dropna(subset=['Geolocation'], inplace=True)\n",
        "\n",
        "print(df.isna().sum())"
      ]
    },
    {
      "cell_type": "code",
      "execution_count": null,
      "metadata": {
        "colab": {
          "base_uri": "https://localhost:8080/",
          "height": 737
        },
        "id": "3PZlsPEUtsX5",
        "outputId": "246f969a-7648-4aa0-aa2a-ff032f9da645"
      },
      "outputs": [
        {
          "output_type": "stream",
          "name": "stderr",
          "text": [
            "<ipython-input-27-4a45b1c3a460>:3: FutureWarning: The default value of numeric_only in DataFrame.corr is deprecated. In a future version, it will default to False. Select only valid columns or specify the value of numeric_only to silence this warning.\n",
            "  sns.heatmap(data=df.corr(), annot = True, cmap=\"coolwarm\")\n"
          ]
        },
        {
          "output_type": "display_data",
          "data": {
            "text/plain": [
              "<Figure size 1200x800 with 2 Axes>"
            ],
            "image/png": "[encoded data removed]"
          },
          "metadata": {}
        }
      ],
      "source": [
        "plt.figure(figsize = (12,8))\n",
        "sns.heatmap(data=df.corr(), annot = True, cmap=\"coolwarm\")\n",
        "plt.show()"
      ]
    },
    {
      "cell_type": "markdown",
      "metadata": {
        "id": "mCGYH2AwdYWs"
      },
      "source": [
        "oultiers before imputation"
      ]
    },
    {
      "cell_type": "code",
      "execution_count": null,
      "metadata": {
        "id": "igN9vLUsdahQ",
        "colab": {
          "base_uri": "https://localhost:8080/"
        },
        "outputId": "aba5f5e6-5590-4d83-aa79-a86d288a7f99"
      },
      "outputs": [
        {
          "output_type": "stream",
          "name": "stdout",
          "text": [
            "Number of outliers in each numeric column:\n",
            "Year          0\n",
            "Data_Value    0\n",
            "LocationID    0\n",
            "dtype: int64\n"
          ]
        }
      ],
      "source": [
        "from scipy.stats import zscore\n",
        "\n",
        "numeric_columns = df.select_dtypes(include=['number']).columns\n",
        "z_scores = df[numeric_columns].apply(zscore)\n",
        "threshold = 3\n",
        "\n",
        "outliers = z_scores.abs() > threshold\n",
        "\n",
        "num_outliers = outliers.sum()\n",
        "print(\"Number of outliers in each numeric column:\")\n",
        "print(num_outliers)\n"
      ]
    },
    {
      "cell_type": "code",
      "execution_count": null,
      "metadata": {
        "id": "kbq0hIFKFm5R"
      },
      "outputs": [],
      "source": [
        "from sklearn.ensemble import RandomForestRegressor\n",
        "from sklearn.model_selection import train_test_split\n",
        "from sklearn.impute import SimpleImputer\n",
        "from sklearn.metrics import mean_absolute_error, mean_squared_error\n",
        "\n",
        "df_copy1 = df.copy()\n",
        "features = ['Year', 'LocationDesc', 'Class', 'Topic', 'Question']\n",
        "target = 'Data_Value'\n",
        "categorical_columns = ['LocationDesc', 'Class', 'Topic', 'Question']\n"
      ]
    },
    {
      "cell_type": "code",
      "execution_count": null,
      "metadata": {
        "colab": {
          "base_uri": "https://localhost:8080/",
          "height": 74
        },
        "id": "vkFxPtPbFo5d",
        "outputId": "6d0e8693-ce58-4b20-8206-c0de918905f5"
      },
      "outputs": [
        {
          "output_type": "execute_result",
          "data": {
            "text/plain": [
              "RandomForestRegressor(random_state=42)"
            ],
            "text/html": [
              "<style>#sk-container-id-1 {color: black;background-color: white;}#sk-container-id-1 pre{padding: 0;}#sk-container-id-1 div.sk-toggleable {background-color: white;}#sk-container-id-1 label.sk-toggleable__label {cursor: pointer;display: block;width: 100%;margin-bottom: 0;padding: 0.3em;box-sizing: border-box;text-align: center;}#sk-container-id-1 label.sk-toggleable__label-arrow:before {content: \"▸\";float: left;margin-right: 0.25em;color: #696969;}#sk-container-id-1 label.sk-toggleable__label-arrow:hover:before {color: black;}#sk-container-id-1 div.sk-estimator:hover label.sk-toggleable__label-arrow:before {color: black;}#sk-container-id-1 div.sk-toggleable__content {max-height: 0;max-width: 0;overflow: hidden;text-align: left;background-color: #f0f8ff;}#sk-container-id-1 div.sk-toggleable__content pre {margin: 0.2em;color: black;border-radius: 0.25em;background-color: #f0f8ff;}#sk-container-id-1 input.sk-toggleable__control:checked~div.sk-toggleable__content {max-height: 200px;max-width: 100%;overflow: auto;}#sk-container-id-1 input.sk-toggleable__control:checked~label.sk-toggleable__label-arrow:before {content: \"▾\";}#sk-container-id-1 div.sk-estimator input.sk-toggleable__control:checked~label.sk-toggleable__label {background-color: #d4ebff;}#sk-container-id-1 div.sk-label input.sk-toggleable__control:checked~label.sk-toggleable__label {background-color: #d4ebff;}#sk-container-id-1 input.sk-hidden--visually {border: 0;clip: rect(1px 1px 1px 1px);clip: rect(1px, 1px, 1px, 1px);height: 1px;margin: -1px;overflow: hidden;padding: 0;position: absolute;width: 1px;}#sk-container-id-1 div.sk-estimator {font-family: monospace;background-color: #f0f8ff;border: 1px dotted black;border-radius: 0.25em;box-sizing: border-box;margin-bottom: 0.5em;}#sk-container-id-1 div.sk-estimator:hover {background-color: #d4ebff;}#sk-container-id-1 div.sk-parallel-item::after {content: \"\";width: 100%;border-bottom: 1px solid gray;flex-grow: 1;}#sk-container-id-1 div.sk-label:hover label.sk-toggleable__label {background-color: #d4ebff;}#sk-container-id-1 div.sk-serial::before {content: \"\";position: absolute;border-left: 1px solid gray;box-sizing: border-box;top: 0;bottom: 0;left: 50%;z-index: 0;}#sk-container-id-1 div.sk-serial {display: flex;flex-direction: column;align-items: center;background-color: white;padding-right: 0.2em;padding-left: 0.2em;position: relative;}#sk-container-id-1 div.sk-item {position: relative;z-index: 1;}#sk-container-id-1 div.sk-parallel {display: flex;align-items: stretch;justify-content: center;background-color: white;position: relative;}#sk-container-id-1 div.sk-item::before, #sk-container-id-1 div.sk-parallel-item::before {content: \"\";position: absolute;border-left: 1px solid gray;box-sizing: border-box;top: 0;bottom: 0;left: 50%;z-index: -1;}#sk-container-id-1 div.sk-parallel-item {display: flex;flex-direction: column;z-index: 1;position: relative;background-color: white;}#sk-container-id-1 div.sk-parallel-item:first-child::after {align-self: flex-end;width: 50%;}#sk-container-id-1 div.sk-parallel-item:last-child::after {align-self: flex-start;width: 50%;}#sk-container-id-1 div.sk-parallel-item:only-child::after {width: 0;}#sk-container-id-1 div.sk-dashed-wrapped {border: 1px dashed gray;margin: 0 0.4em 0.5em 0.4em;box-sizing: border-box;padding-bottom: 0.4em;background-color: white;}#sk-container-id-1 div.sk-label label {font-family: monospace;font-weight: bold;display: inline-block;line-height: 1.2em;}#sk-container-id-1 div.sk-label-container {text-align: center;}#sk-container-id-1 div.sk-container {/* jupyter's `normalize.less` sets `[hidden] { display: none; }` but bootstrap.min.css set `[hidden] { display: none !important; }` so we also need the `!important` here to be able to override the default hidden behavior on the sphinx rendered scikit-learn.org. See: https://github.com/scikit-learn/scikit-learn/issues/21755 */display: inline-block !important;position: relative;}#sk-container-id-1 div.sk-text-repr-fallback {display: none;}</style><div id=\"sk-container-id-1\" class=\"sk-top-container\"><div class=\"sk-text-repr-fallback\"><pre>RandomForestRegressor(random_state=42)</pre><b>In a Jupyter environment, please rerun this cell to show the HTML representation or trust the notebook. <br />On GitHub, the HTML representation is unable to render, please try loading this page with nbviewer.org.</b></div><div class=\"sk-container\" hidden><div class=\"sk-item\"><div class=\"sk-estimator sk-toggleable\"><input class=\"sk-toggleable__control sk-hidden--visually\" id=\"sk-estimator-id-1\" type=\"checkbox\" checked><label for=\"sk-estimator-id-1\" class=\"sk-toggleable__label sk-toggleable__label-arrow\">RandomForestRegressor</label><div class=\"sk-toggleable__content\"><pre>RandomForestRegressor(random_state=42)</pre></div></div></div></div></div>"
            ]
          },
          "metadata": {},
          "execution_count": 30
        }
      ],
      "source": [
        "missing_values = df_copy1[target].isnull()\n",
        "df_complete1 = df_copy1[~missing_values]\n",
        "df_missing1 = df_copy1[missing_values]\n",
        "\n",
        "# One-hot encoding categorical features\n",
        "df_complete_encoded1 = pd.get_dummies(df_complete1[features])\n",
        "\n",
        "# Training a RandomForestRegressor\n",
        "model1 = RandomForestRegressor(random_state=42)\n",
        "model1.fit(df_complete_encoded1, df_complete1[target])\n"
      ]
    },
    {
      "cell_type": "code",
      "execution_count": null,
      "metadata": {
        "id": "ZgUTGlkfGA24",
        "colab": {
          "base_uri": "https://localhost:8080/"
        },
        "outputId": "d396409b-b279-42e8-ce27-f693646389cd"
      },
      "outputs": [
        {
          "output_type": "stream",
          "name": "stdout",
          "text": [
            "<class 'pandas.core.frame.DataFrame'>\n",
            "Int64Index: 224228 entries, 4 to 250936\n",
            "Data columns (total 17 columns):\n",
            " #   Column                     Non-Null Count   Dtype  \n",
            "---  ------                     --------------   -----  \n",
            " 0   Year                       224228 non-null  int64  \n",
            " 1   LocationDesc               224228 non-null  object \n",
            " 2   Class                      224228 non-null  object \n",
            " 3   Topic                      224228 non-null  object \n",
            " 4   Question                   224228 non-null  object \n",
            " 5   Data_Value_Type            224228 non-null  object \n",
            " 6   Data_Value                 142990 non-null  float64\n",
            " 7   Low_Confidence_Limit       142990 non-null  object \n",
            " 8   High_Confidence_Limit      142990 non-null  object \n",
            " 9   Geolocation                224228 non-null  object \n",
            " 10  ClassID                    224228 non-null  object \n",
            " 11  TopicID                    224228 non-null  object \n",
            " 12  QuestionID                 224228 non-null  object \n",
            " 13  LocationID                 224228 non-null  int64  \n",
            " 14  StratificationID1          224228 non-null  object \n",
            " 15  StratificationCategoryID2  224228 non-null  object \n",
            " 16  StratificationID2          224228 non-null  object \n",
            "dtypes: float64(1), int64(2), object(14)\n",
            "memory usage: 30.8+ MB\n",
            "None\n",
            "<class 'pandas.core.frame.DataFrame'>\n",
            "Int64Index: 224228 entries, 4 to 250936\n",
            "Data columns (total 17 columns):\n",
            " #   Column                     Non-Null Count   Dtype  \n",
            "---  ------                     --------------   -----  \n",
            " 0   Year                       224228 non-null  int64  \n",
            " 1   LocationDesc               224228 non-null  object \n",
            " 2   Class                      224228 non-null  object \n",
            " 3   Topic                      224228 non-null  object \n",
            " 4   Question                   224228 non-null  object \n",
            " 5   Data_Value_Type            224228 non-null  object \n",
            " 6   Data_Value                 224228 non-null  float64\n",
            " 7   Low_Confidence_Limit       142990 non-null  object \n",
            " 8   High_Confidence_Limit      142990 non-null  object \n",
            " 9   Geolocation                224228 non-null  object \n",
            " 10  ClassID                    224228 non-null  object \n",
            " 11  TopicID                    224228 non-null  object \n",
            " 12  QuestionID                 224228 non-null  object \n",
            " 13  LocationID                 224228 non-null  int64  \n",
            " 14  StratificationID1          224228 non-null  object \n",
            " 15  StratificationCategoryID2  224228 non-null  object \n",
            " 16  StratificationID2          224228 non-null  object \n",
            "dtypes: float64(1), int64(2), object(14)\n",
            "memory usage: 30.8+ MB\n",
            "None\n"
          ]
        }
      ],
      "source": [
        "df_missing_encoded1 = pd.get_dummies(df_missing1[features])\n",
        "print(df_copy1.info())\n",
        "missing_values_imputed1 = model1.predict(df_missing_encoded1)\n",
        "\n",
        "df_copy1.loc[missing_values, target] = missing_values_imputed1\n",
        "\n",
        "print(df_copy1.info())\n"
      ]
    },
    {
      "cell_type": "code",
      "execution_count": null,
      "metadata": {
        "colab": {
          "base_uri": "https://localhost:8080/"
        },
        "id": "ChzuOiqtGFBy",
        "outputId": "b51baa06-7a3b-4ecf-c321-44ed858f7e64"
      },
      "outputs": [
        {
          "output_type": "stream",
          "name": "stdout",
          "text": [
            "Mean Absolute Error (MAE): 4.5898\n",
            "Root Mean Squared Error (RMSE): 6.6181\n"
          ]
        }
      ],
      "source": [
        "# metrics\n",
        "mae1 = mean_absolute_error(df_complete1[target], model1.predict(df_complete_encoded1))\n",
        "rmse1 = mean_squared_error(df_complete1[target], model1.predict(df_complete_encoded1), squared=False)\n",
        "print(f'Mean Absolute Error (MAE): {mae1:.4f}')\n",
        "print(f'Root Mean Squared Error (RMSE): {rmse1:.4f}')\n"
      ]
    },
    {
      "cell_type": "code",
      "execution_count": null,
      "metadata": {
        "colab": {
          "base_uri": "https://localhost:8080/"
        },
        "id": "xuDMizxferfI",
        "outputId": "68004a2c-0327-4da2-feeb-4b14ae8b3b8b"
      },
      "outputs": [
        {
          "output_type": "execute_result",
          "data": {
            "text/plain": [
              "Year                             0\n",
              "LocationDesc                     0\n",
              "Class                            0\n",
              "Topic                            0\n",
              "Question                         0\n",
              "Data_Value_Type                  0\n",
              "Data_Value                       0\n",
              "Low_Confidence_Limit         81238\n",
              "High_Confidence_Limit        81238\n",
              "Geolocation                      0\n",
              "ClassID                          0\n",
              "TopicID                          0\n",
              "QuestionID                       0\n",
              "LocationID                       0\n",
              "StratificationID1                0\n",
              "StratificationCategoryID2        0\n",
              "StratificationID2                0\n",
              "dtype: int64"
            ]
          },
          "metadata": {},
          "execution_count": 33
        }
      ],
      "source": [
        "df_copy1.isna().sum()"
      ]
    },
    {
      "cell_type": "code",
      "execution_count": null,
      "metadata": {
        "colab": {
          "base_uri": "https://localhost:8080/"
        },
        "id": "t4qYBrma0l4P",
        "outputId": "39654ef4-2938-4583-99d2-361d412bedcd"
      },
      "outputs": [
        {
          "output_type": "stream",
          "name": "stdout",
          "text": [
            "Imputation Metrics:\n",
            "Mean Absolute Error (MAE): 25.7419\n",
            "Root Mean Squared Error (RMSE): 32.5312\n"
          ]
        }
      ],
      "source": [
        "df_copy2 = df.copy()\n",
        "imputer = SimpleImputer(strategy='median')\n",
        "df_copy2['Data_Value'] = imputer.fit_transform(df_copy2[['Data_Value']])\n",
        "original_values = df.loc[~df['Data_Value'].isnull(), 'Data_Value']\n",
        "imputed_values = df_copy2.loc[~df_copy2['Data_Value'].isnull(), 'Data_Value']\n",
        "\n",
        "\n",
        "min_length = min(len(original_values), len(imputed_values))\n",
        "original_values = original_values[:min_length]\n",
        "imputed_values = imputed_values[:min_length]\n",
        "\n",
        "mae = mean_absolute_error(original_values, imputed_values)\n",
        "rmse = mean_squared_error(original_values, imputed_values, squared=False)\n",
        "\n",
        "print(\"Imputation Metrics:\")\n",
        "print(f'Mean Absolute Error (MAE): {mae:.4f}')\n",
        "print(f'Root Mean Squared Error (RMSE): {rmse:.4f}')\n",
        "\n"
      ]
    },
    {
      "cell_type": "code",
      "execution_count": null,
      "metadata": {
        "colab": {
          "base_uri": "https://localhost:8080/"
        },
        "id": "k16XQR8beW1M",
        "outputId": "adbdf10c-4cec-4316-eb4c-bb199b14043d"
      },
      "outputs": [
        {
          "output_type": "execute_result",
          "data": {
            "text/plain": [
              "Year                             0\n",
              "LocationDesc                     0\n",
              "Class                            0\n",
              "Topic                            0\n",
              "Question                         0\n",
              "Data_Value_Type                  0\n",
              "Data_Value                       0\n",
              "Low_Confidence_Limit         81238\n",
              "High_Confidence_Limit        81238\n",
              "Geolocation                      0\n",
              "ClassID                          0\n",
              "TopicID                          0\n",
              "QuestionID                       0\n",
              "LocationID                       0\n",
              "StratificationID1                0\n",
              "StratificationCategoryID2        0\n",
              "StratificationID2                0\n",
              "dtype: int64"
            ]
          },
          "metadata": {},
          "execution_count": 35
        }
      ],
      "source": [
        "df_copy2.isna().sum()"
      ]
    },
    {
      "cell_type": "code",
      "execution_count": null,
      "metadata": {
        "colab": {
          "base_uri": "https://localhost:8080/"
        },
        "id": "hLuNriBB84Ck",
        "outputId": "87981b2d-8251-4e75-c1ff-04617480f414"
      },
      "outputs": [
        {
          "output_type": "stream",
          "name": "stdout",
          "text": [
            "Number of missing values after imputation: 0\n"
          ]
        }
      ],
      "source": [
        "from sklearn.impute import KNNImputer\n",
        "df_copy_knn = df.copy()\n",
        "features = ['Year', 'LocationDesc', 'Class', 'Topic', 'Question']\n",
        "target = 'Data_Value'\n",
        "\n",
        "knn_imputer = KNNImputer()\n",
        "\n",
        "# Imputing missing values in the 'Data_Value' column\n",
        "df_copy_knn[target] = knn_imputer.fit_transform(df_copy_knn[[target]])\n",
        "\n",
        "# Checking for any remaining missing values\n",
        "missing_values_after_imputation = df_copy_knn[target].isnull().sum()\n",
        "print(\"Number of missing values after imputation:\", missing_values_after_imputation)\n"
      ]
    },
    {
      "cell_type": "code",
      "execution_count": null,
      "metadata": {
        "colab": {
          "base_uri": "https://localhost:8080/"
        },
        "id": "1CILHaQS83_D",
        "outputId": "6fb3d014-5290-401e-c645-0eb0e1b6dab3"
      },
      "outputs": [
        {
          "output_type": "stream",
          "name": "stdout",
          "text": [
            "Imputation Metrics using KNNImputer:\n",
            "Mean Absolute Error (MAE): 25.8762\n",
            "Root Mean Squared Error (RMSE): 32.3771\n"
          ]
        }
      ],
      "source": [
        "original_values = df.loc[~df['Data_Value'].isnull(), 'Data_Value']\n",
        "imputed_values = df_copy_knn.loc[~df_copy_knn['Data_Value'].isnull(), 'Data_Value']\n",
        "\n",
        "min_length = min(len(original_values), len(imputed_values))\n",
        "original_values = original_values[:min_length]\n",
        "imputed_values = imputed_values[:min_length]\n",
        "\n",
        "\n",
        "mae = mean_absolute_error(original_values, imputed_values)\n",
        "rmse = mean_squared_error(original_values, imputed_values, squared=False)\n",
        "\n",
        "print(\"Imputation Metrics using KNNImputer:\")\n",
        "print(f'Mean Absolute Error (MAE): {mae:.4f}')\n",
        "print(f'Root Mean Squared Error (RMSE): {rmse:.4f}')\n"
      ]
    },
    {
      "cell_type": "code",
      "execution_count": null,
      "metadata": {
        "colab": {
          "base_uri": "https://localhost:8080/"
        },
        "id": "5Wl77bWh834f",
        "outputId": "b41a32f5-76ce-46d0-f4bc-3d46c07c253b"
      },
      "outputs": [
        {
          "output_type": "execute_result",
          "data": {
            "text/plain": [
              "Year                             0\n",
              "LocationDesc                     0\n",
              "Class                            0\n",
              "Topic                            0\n",
              "Question                         0\n",
              "Data_Value_Type                  0\n",
              "Data_Value                       0\n",
              "Low_Confidence_Limit         81238\n",
              "High_Confidence_Limit        81238\n",
              "Geolocation                      0\n",
              "ClassID                          0\n",
              "TopicID                          0\n",
              "QuestionID                       0\n",
              "LocationID                       0\n",
              "StratificationID1                0\n",
              "StratificationCategoryID2        0\n",
              "StratificationID2                0\n",
              "dtype: int64"
            ]
          },
          "metadata": {},
          "execution_count": 38
        }
      ],
      "source": [
        "df_copy_knn.isna().sum()"
      ]
    },
    {
      "cell_type": "markdown",
      "metadata": {
        "id": "BVi0GIx4O9XZ"
      },
      "source": [
        "Imputation metrics using RandomForestRegresor:\n",
        "Mean Absolute Error (MAE): 4.5898\n",
        "Root Mean Squared Error (RMSE): 6.6181\n",
        "\n",
        "Imputation Metrics using SimpleImputer:\n",
        "Mean Absolute Error (MAE): 25.7419\n",
        "Root Mean Squared Error (RMSE): 32.5312\n",
        "\n",
        "Imputation Metrics using KNNImputer:\n",
        "Mean Absolute Error (MAE): 25.8762\n",
        "Root Mean Squared Error (RMSE): 32.3771"
      ]
    },
    {
      "cell_type": "markdown",
      "metadata": {
        "id": "RgRwheA4dpiC"
      },
      "source": [
        "I decided to use RandomForestRegresor on my original data, as it is more advanced than SimplerImputer and has better metrics."
      ]
    },
    {
      "cell_type": "code",
      "execution_count": null,
      "metadata": {
        "colab": {
          "base_uri": "https://localhost:8080/"
        },
        "id": "RPP58Vd9Dh4j",
        "outputId": "4fdc2e02-1bca-4dd6-d077-3e306803c652"
      },
      "outputs": [
        {
          "output_type": "stream",
          "name": "stdout",
          "text": [
            "     Original    Imputed\n",
            "334       NaN  12.234613\n",
            "335       NaN  38.789033\n",
            "338       NaN  24.727895\n",
            "343       NaN  46.607832\n",
            "344       NaN  11.265113\n",
            "348       NaN  47.360087\n",
            "349       NaN  35.768973\n",
            "350       NaN  23.162097\n",
            "351       NaN  11.674263\n",
            "354       NaN  33.413626\n"
          ]
        }
      ],
      "source": [
        "subset_missing = df[df['Data_Value'].isnull()]\n",
        "\n",
        "comparison = pd.DataFrame({\n",
        "    'Original': subset_missing['Data_Value'],\n",
        "    'Imputed': df_copy1.loc[subset_missing.index, 'Data_Value']\n",
        "})\n",
        "\n",
        "print(comparison.head(10))\n"
      ]
    },
    {
      "cell_type": "code",
      "execution_count": null,
      "metadata": {
        "colab": {
          "base_uri": "https://localhost:8080/",
          "height": 74
        },
        "id": "KmyS1hw7OD3e",
        "outputId": "00275961-b15d-4e37-adc1-509476d2a2b5"
      },
      "outputs": [
        {
          "output_type": "execute_result",
          "data": {
            "text/plain": [
              "RandomForestRegressor(random_state=42)"
            ],
            "text/html": [
              "<style>#sk-container-id-2 {color: black;background-color: white;}#sk-container-id-2 pre{padding: 0;}#sk-container-id-2 div.sk-toggleable {background-color: white;}#sk-container-id-2 label.sk-toggleable__label {cursor: pointer;display: block;width: 100%;margin-bottom: 0;padding: 0.3em;box-sizing: border-box;text-align: center;}#sk-container-id-2 label.sk-toggleable__label-arrow:before {content: \"▸\";float: left;margin-right: 0.25em;color: #696969;}#sk-container-id-2 label.sk-toggleable__label-arrow:hover:before {color: black;}#sk-container-id-2 div.sk-estimator:hover label.sk-toggleable__label-arrow:before {color: black;}#sk-container-id-2 div.sk-toggleable__content {max-height: 0;max-width: 0;overflow: hidden;text-align: left;background-color: #f0f8ff;}#sk-container-id-2 div.sk-toggleable__content pre {margin: 0.2em;color: black;border-radius: 0.25em;background-color: #f0f8ff;}#sk-container-id-2 input.sk-toggleable__control:checked~div.sk-toggleable__content {max-height: 200px;max-width: 100%;overflow: auto;}#sk-container-id-2 input.sk-toggleable__control:checked~label.sk-toggleable__label-arrow:before {content: \"▾\";}#sk-container-id-2 div.sk-estimator input.sk-toggleable__control:checked~label.sk-toggleable__label {background-color: #d4ebff;}#sk-container-id-2 div.sk-label input.sk-toggleable__control:checked~label.sk-toggleable__label {background-color: #d4ebff;}#sk-container-id-2 input.sk-hidden--visually {border: 0;clip: rect(1px 1px 1px 1px);clip: rect(1px, 1px, 1px, 1px);height: 1px;margin: -1px;overflow: hidden;padding: 0;position: absolute;width: 1px;}#sk-container-id-2 div.sk-estimator {font-family: monospace;background-color: #f0f8ff;border: 1px dotted black;border-radius: 0.25em;box-sizing: border-box;margin-bottom: 0.5em;}#sk-container-id-2 div.sk-estimator:hover {background-color: #d4ebff;}#sk-container-id-2 div.sk-parallel-item::after {content: \"\";width: 100%;border-bottom: 1px solid gray;flex-grow: 1;}#sk-container-id-2 div.sk-label:hover label.sk-toggleable__label {background-color: #d4ebff;}#sk-container-id-2 div.sk-serial::before {content: \"\";position: absolute;border-left: 1px solid gray;box-sizing: border-box;top: 0;bottom: 0;left: 50%;z-index: 0;}#sk-container-id-2 div.sk-serial {display: flex;flex-direction: column;align-items: center;background-color: white;padding-right: 0.2em;padding-left: 0.2em;position: relative;}#sk-container-id-2 div.sk-item {position: relative;z-index: 1;}#sk-container-id-2 div.sk-parallel {display: flex;align-items: stretch;justify-content: center;background-color: white;position: relative;}#sk-container-id-2 div.sk-item::before, #sk-container-id-2 div.sk-parallel-item::before {content: \"\";position: absolute;border-left: 1px solid gray;box-sizing: border-box;top: 0;bottom: 0;left: 50%;z-index: -1;}#sk-container-id-2 div.sk-parallel-item {display: flex;flex-direction: column;z-index: 1;position: relative;background-color: white;}#sk-container-id-2 div.sk-parallel-item:first-child::after {align-self: flex-end;width: 50%;}#sk-container-id-2 div.sk-parallel-item:last-child::after {align-self: flex-start;width: 50%;}#sk-container-id-2 div.sk-parallel-item:only-child::after {width: 0;}#sk-container-id-2 div.sk-dashed-wrapped {border: 1px dashed gray;margin: 0 0.4em 0.5em 0.4em;box-sizing: border-box;padding-bottom: 0.4em;background-color: white;}#sk-container-id-2 div.sk-label label {font-family: monospace;font-weight: bold;display: inline-block;line-height: 1.2em;}#sk-container-id-2 div.sk-label-container {text-align: center;}#sk-container-id-2 div.sk-container {/* jupyter's `normalize.less` sets `[hidden] { display: none; }` but bootstrap.min.css set `[hidden] { display: none !important; }` so we also need the `!important` here to be able to override the default hidden behavior on the sphinx rendered scikit-learn.org. See: https://github.com/scikit-learn/scikit-learn/issues/21755 */display: inline-block !important;position: relative;}#sk-container-id-2 div.sk-text-repr-fallback {display: none;}</style><div id=\"sk-container-id-2\" class=\"sk-top-container\"><div class=\"sk-text-repr-fallback\"><pre>RandomForestRegressor(random_state=42)</pre><b>In a Jupyter environment, please rerun this cell to show the HTML representation or trust the notebook. <br />On GitHub, the HTML representation is unable to render, please try loading this page with nbviewer.org.</b></div><div class=\"sk-container\" hidden><div class=\"sk-item\"><div class=\"sk-estimator sk-toggleable\"><input class=\"sk-toggleable__control sk-hidden--visually\" id=\"sk-estimator-id-2\" type=\"checkbox\" checked><label for=\"sk-estimator-id-2\" class=\"sk-toggleable__label sk-toggleable__label-arrow\">RandomForestRegressor</label><div class=\"sk-toggleable__content\"><pre>RandomForestRegressor(random_state=42)</pre></div></div></div></div></div>"
            ]
          },
          "metadata": {},
          "execution_count": 40
        }
      ],
      "source": [
        "features = ['Year', 'LocationDesc', 'Class', 'Topic', 'Question']\n",
        "target = 'Data_Value'\n",
        "categorical_columns = ['LocationDesc', 'Class', 'Topic', 'Question']\n",
        "missing_values = df[target].isnull()\n",
        "df_complete1 = df[~missing_values]\n",
        "df_missing1 = df[missing_values]\n",
        "\n",
        "df_complete_encoded1 = pd.get_dummies(df_complete1[features])\n",
        "\n",
        "model1 = RandomForestRegressor(random_state=42)\n",
        "model1.fit(df_complete_encoded1, df_complete1[target])\n"
      ]
    },
    {
      "cell_type": "code",
      "execution_count": null,
      "metadata": {
        "id": "bnHLd035ODyB"
      },
      "outputs": [],
      "source": [
        "df_missing_encoded1 = pd.get_dummies(df_missing1[features])\n",
        "missing_values_imputed1 = model1.predict(df_missing_encoded1)\n",
        "df.loc[missing_values, target] = missing_values_imputed1\n"
      ]
    },
    {
      "cell_type": "code",
      "execution_count": null,
      "metadata": {
        "colab": {
          "base_uri": "https://localhost:8080/"
        },
        "id": "be10SUSCODvL",
        "outputId": "3b6524a9-c3ad-4ef1-df9e-79772222693c"
      },
      "outputs": [
        {
          "output_type": "execute_result",
          "data": {
            "text/plain": [
              "Year                             0\n",
              "LocationDesc                     0\n",
              "Class                            0\n",
              "Topic                            0\n",
              "Question                         0\n",
              "Data_Value_Type                  0\n",
              "Data_Value                       0\n",
              "Low_Confidence_Limit         81238\n",
              "High_Confidence_Limit        81238\n",
              "Geolocation                      0\n",
              "ClassID                          0\n",
              "TopicID                          0\n",
              "QuestionID                       0\n",
              "LocationID                       0\n",
              "StratificationID1                0\n",
              "StratificationCategoryID2        0\n",
              "StratificationID2                0\n",
              "dtype: int64"
            ]
          },
          "metadata": {},
          "execution_count": 42
        }
      ],
      "source": [
        "df.isna().sum()"
      ]
    },
    {
      "cell_type": "code",
      "execution_count": null,
      "metadata": {
        "colab": {
          "base_uri": "https://localhost:8080/"
        },
        "id": "9HxOevSHR_yA",
        "outputId": "a8c8eb97-d07b-4269-afa7-0f901dfbb57c"
      },
      "outputs": [
        {
          "output_type": "stream",
          "name": "stdout",
          "text": [
            "Imputation Metrics:\n",
            "Mean Absolute Error (MAE): 0.0000\n",
            "Root Mean Squared Error (RMSE): 0.0000\n"
          ]
        }
      ],
      "source": [
        "df_copy3_metrics = df.copy()\n",
        "df_copy3_metrics['Low_Confidence_Limit'] = df_copy3_metrics.groupby('LocationDesc')['Low_Confidence_Limit'].transform(lambda x: x.fillna(x.median()))\n",
        "df_copy3_metrics['High_Confidence_Limit'] = df_copy3_metrics.groupby('LocationDesc')['High_Confidence_Limit'].transform(lambda x: x.fillna(x.median()))\n",
        "\n",
        "df_complete3_metrics = df_copy3_metrics[~df_copy3_metrics['Low_Confidence_Limit'].isnull()]\n",
        "mae = mean_absolute_error(df_complete3_metrics['Low_Confidence_Limit'], df_copy3_metrics.loc[~df_copy3_metrics['Low_Confidence_Limit'].isnull(), 'Low_Confidence_Limit'])\n",
        "rmse = mean_squared_error(df_complete3_metrics['Low_Confidence_Limit'], df_copy3_metrics.loc[~df_copy3_metrics['Low_Confidence_Limit'].isnull(), 'Low_Confidence_Limit'], squared=False)\n",
        "\n",
        "print(\"Imputation Metrics:\")\n",
        "print(f'Mean Absolute Error (MAE): {mae:.4f}')\n",
        "print(f'Root Mean Squared Error (RMSE): {rmse:.4f}')"
      ]
    },
    {
      "cell_type": "code",
      "execution_count": null,
      "metadata": {
        "colab": {
          "base_uri": "https://localhost:8080/"
        },
        "id": "X5a9MXMXRieb",
        "outputId": "9d4c563d-6afe-47d4-ee97-c62c7b819a95"
      },
      "outputs": [
        {
          "output_type": "execute_result",
          "data": {
            "text/plain": [
              "Year                         0\n",
              "LocationDesc                 0\n",
              "Class                        0\n",
              "Topic                        0\n",
              "Question                     0\n",
              "Data_Value_Type              0\n",
              "Data_Value                   0\n",
              "Low_Confidence_Limit         0\n",
              "High_Confidence_Limit        0\n",
              "Geolocation                  0\n",
              "ClassID                      0\n",
              "TopicID                      0\n",
              "QuestionID                   0\n",
              "LocationID                   0\n",
              "StratificationID1            0\n",
              "StratificationCategoryID2    0\n",
              "StratificationID2            0\n",
              "dtype: int64"
            ]
          },
          "metadata": {},
          "execution_count": 45
        }
      ],
      "source": [
        "df_copy3_metrics.isna().sum()"
      ]
    },
    {
      "cell_type": "code",
      "execution_count": null,
      "metadata": {
        "id": "EGzGVNT7Q7cT"
      },
      "outputs": [],
      "source": [
        "df['Low_Confidence_Limit'] = df.groupby('LocationDesc')['Low_Confidence_Limit'].transform(lambda x: x.fillna(x.median()))\n",
        "df['High_Confidence_Limit'] = df.groupby('LocationDesc')['High_Confidence_Limit'].transform(lambda x: x.fillna(x.median()))\n"
      ]
    },
    {
      "cell_type": "code",
      "execution_count": null,
      "metadata": {
        "colab": {
          "base_uri": "https://localhost:8080/"
        },
        "id": "YjwBJSu1TInU",
        "outputId": "6db260fe-84f5-4723-e62d-f0172a393a73"
      },
      "outputs": [
        {
          "output_type": "execute_result",
          "data": {
            "text/plain": [
              "Year                         0\n",
              "LocationDesc                 0\n",
              "Class                        0\n",
              "Topic                        0\n",
              "Question                     0\n",
              "Data_Value_Type              0\n",
              "Data_Value                   0\n",
              "Low_Confidence_Limit         0\n",
              "High_Confidence_Limit        0\n",
              "Geolocation                  0\n",
              "ClassID                      0\n",
              "TopicID                      0\n",
              "QuestionID                   0\n",
              "LocationID                   0\n",
              "StratificationID1            0\n",
              "StratificationCategoryID2    0\n",
              "StratificationID2            0\n",
              "dtype: int64"
            ]
          },
          "metadata": {},
          "execution_count": 47
        }
      ],
      "source": [
        "df.isna().sum()"
      ]
    },
    {
      "cell_type": "code",
      "execution_count": null,
      "metadata": {
        "colab": {
          "base_uri": "https://localhost:8080/",
          "height": 1000
        },
        "id": "hj1IK3Aio4dY",
        "outputId": "6b19700c-33e1-4481-eba6-6fc2e8e8d5fa"
      },
      "outputs": [
        {
          "output_type": "execute_result",
          "data": {
            "text/plain": [
              "        Year LocationDesc                                Class  \\\n",
              "112812  2016      Arizona                       Overall Health   \n",
              "17720   2019  Mississippi              Smoking and Alcohol Use   \n",
              "65174   2021     Maryland              Screenings and Vaccines   \n",
              "31484   2018      Florida                       Overall Health   \n",
              "158519  2021        Maine                           Caregiving   \n",
              "232143  2016     New York                           Caregiving   \n",
              "30212   2020     Colorado                       Overall Health   \n",
              "32230   2015       Alaska              Screenings and Vaccines   \n",
              "69944   2015      Georgia              Screenings and Vaccines   \n",
              "215769  2017         Utah  Nutrition/Physical Activity/Obesity   \n",
              "\n",
              "                                                    Topic  \\\n",
              "112812    Physically unhealthy days (mean number of days)   \n",
              "17720                                     Current smoking   \n",
              "65174                  Influenza vaccine within past year   \n",
              "31484                      Prevalence of sufficient sleep   \n",
              "158519  Provide care for someone with cognitive impair...   \n",
              "232143         Intensity of caregiving among older adults   \n",
              "30212        Self-rated health (good to excellent health)   \n",
              "32230                            High blood pressure ever   \n",
              "69944                  Influenza vaccine within past year   \n",
              "215769                                            Obesity   \n",
              "\n",
              "                                                 Question Data_Value_Type  \\\n",
              "112812  Physically unhealthy days (mean number of days...            Mean   \n",
              "17720   Percentage of older adults who have smoked at ...      Percentage   \n",
              "65174   Percentage of older adults who reported influe...      Percentage   \n",
              "31484   Percentage of older adults getting sufficient ...      Percentage   \n",
              "158519  Percentage of older adults who provided care f...      Percentage   \n",
              "232143  Average of 20 or more hours of care per week p...      Percentage   \n",
              "30212   Percentage of older adults who self-reported t...      Percentage   \n",
              "32230   Percentage of older adults who have ever been ...      Percentage   \n",
              "69944   Percentage of older adults who reported influe...      Percentage   \n",
              "215769  Percentage of older adults who are currently o...      Percentage   \n",
              "\n",
              "        Data_Value Low_Confidence_Limit High_Confidence_Limit  \\\n",
              "112812    6.478444                 27.9                  39.9   \n",
              "17720    17.700000                 15.9                  19.6   \n",
              "65174    65.000000                 51.9                  76.2   \n",
              "31484    57.700000                 47.7                  67.0   \n",
              "158519   30.400000                 23.1                  38.9   \n",
              "232143   35.400320                25.75                 37.55   \n",
              "30212    72.900000                 57.7                  84.1   \n",
              "32230    63.000000                 56.4                  69.2   \n",
              "69944    46.025753                 29.0                  40.1   \n",
              "215769   31.500000                 29.1                  34.1   \n",
              "\n",
              "                                           Geolocation ClassID TopicID  \\\n",
              "112812  POINT (-111.76381127699972 34.865970280000454)     C01   TOC01   \n",
              "17720    POINT (-89.53803082499968 32.745510099000455)     C04   TAC01   \n",
              "65174     POINT (-76.60926011099963 39.29058096400047)     C03   TSC08   \n",
              "31484    POINT (-81.92896053899966 28.932040377000476)     C01   TOC09   \n",
              "158519   POINT (-68.98503133599962 45.254228894000505)     C07   TGC05   \n",
              "232143    POINT (-75.54397042699964 42.82700103200045)     C07   TGC04   \n",
              "30212   POINT (-106.13361092099967 38.843840757000464)     C01   TOC08   \n",
              "32230    POINT (-147.72205903599973 64.84507995700051)     C03   TSC07   \n",
              "69944     POINT (-83.62758034599966 32.83968109300048)     C03   TSC08   \n",
              "215769  POINT (-111.58713063499971 39.360700171000474)     C02   TNC04   \n",
              "\n",
              "       QuestionID  LocationID StratificationID1 StratificationCategoryID2  \\\n",
              "112812        Q08           4       AGE_OVERALL                      RACE   \n",
              "17720         Q17          28       AGE_OVERALL                   OVERALL   \n",
              "65174         Q18          24              5064                      RACE   \n",
              "31484         Q34          12              5064                      RACE   \n",
              "158519        Q40          23            65PLUS                    GENDER   \n",
              "232143        Q39          36       AGE_OVERALL                      RACE   \n",
              "30212         Q33           8            65PLUS                      RACE   \n",
              "32230         Q22           2            65PLUS                    GENDER   \n",
              "69944         Q18          13       AGE_OVERALL                      RACE   \n",
              "215769        Q13          49       AGE_OVERALL                    GENDER   \n",
              "\n",
              "       StratificationID2  \n",
              "112812               ASN  \n",
              "17720            OVERALL  \n",
              "65174                ASN  \n",
              "31484                HIS  \n",
              "158519            FEMALE  \n",
              "232143               BLK  \n",
              "30212                BLK  \n",
              "32230             FEMALE  \n",
              "69944                HIS  \n",
              "215769              MALE  "
            ],
            "text/html": [
              "\n",
              "  <div id=\"df-aa1b952b-8cab-4bef-be9e-a23f240dd840\" class=\"colab-df-container\">\n",
              "    <div>\n",
              "<style scoped>\n",
              "    .dataframe tbody tr th:only-of-type {\n",
              "        vertical-align: middle;\n",
              "    }\n",
              "\n",
              "    .dataframe tbody tr th {\n",
              "        vertical-align: top;\n",
              "    }\n",
              "\n",
              "    .dataframe thead th {\n",
              "        text-align: right;\n",
              "    }\n",
              "</style>\n",
              "<table border=\"1\" class=\"dataframe\">\n",
              "  <thead>\n",
              "    <tr style=\"text-align: right;\">\n",
              "      <th></th>\n",
              "      <th>Year</th>\n",
              "      <th>LocationDesc</th>\n",
              "      <th>Class</th>\n",
              "      <th>Topic</th>\n",
              "      <th>Question</th>\n",
              "      <th>Data_Value_Type</th>\n",
              "      <th>Data_Value</th>\n",
              "      <th>Low_Confidence_Limit</th>\n",
              "      <th>High_Confidence_Limit</th>\n",
              "      <th>Geolocation</th>\n",
              "      <th>ClassID</th>\n",
              "      <th>TopicID</th>\n",
              "      <th>QuestionID</th>\n",
              "      <th>LocationID</th>\n",
              "      <th>StratificationID1</th>\n",
              "      <th>StratificationCategoryID2</th>\n",
              "      <th>StratificationID2</th>\n",
              "    </tr>\n",
              "  </thead>\n",
              "  <tbody>\n",
              "    <tr>\n",
              "      <th>112812</th>\n",
              "      <td>2016</td>\n",
              "      <td>Arizona</td>\n",
              "      <td>Overall Health</td>\n",
              "      <td>Physically unhealthy days (mean number of days)</td>\n",
              "      <td>Physically unhealthy days (mean number of days...</td>\n",
              "      <td>Mean</td>\n",
              "      <td>6.478444</td>\n",
              "      <td>27.9</td>\n",
              "      <td>39.9</td>\n",
              "      <td>POINT (-111.76381127699972 34.865970280000454)</td>\n",
              "      <td>C01</td>\n",
              "      <td>TOC01</td>\n",
              "      <td>Q08</td>\n",
              "      <td>4</td>\n",
              "      <td>AGE_OVERALL</td>\n",
              "      <td>RACE</td>\n",
              "      <td>ASN</td>\n",
              "    </tr>\n",
              "    <tr>\n",
              "      <th>17720</th>\n",
              "      <td>2019</td>\n",
              "      <td>Mississippi</td>\n",
              "      <td>Smoking and Alcohol Use</td>\n",
              "      <td>Current smoking</td>\n",
              "      <td>Percentage of older adults who have smoked at ...</td>\n",
              "      <td>Percentage</td>\n",
              "      <td>17.700000</td>\n",
              "      <td>15.9</td>\n",
              "      <td>19.6</td>\n",
              "      <td>POINT (-89.53803082499968 32.745510099000455)</td>\n",
              "      <td>C04</td>\n",
              "      <td>TAC01</td>\n",
              "      <td>Q17</td>\n",
              "      <td>28</td>\n",
              "      <td>AGE_OVERALL</td>\n",
              "      <td>OVERALL</td>\n",
              "      <td>OVERALL</td>\n",
              "    </tr>\n",
              "    <tr>\n",
              "      <th>65174</th>\n",
              "      <td>2021</td>\n",
              "      <td>Maryland</td>\n",
              "      <td>Screenings and Vaccines</td>\n",
              "      <td>Influenza vaccine within past year</td>\n",
              "      <td>Percentage of older adults who reported influe...</td>\n",
              "      <td>Percentage</td>\n",
              "      <td>65.000000</td>\n",
              "      <td>51.9</td>\n",
              "      <td>76.2</td>\n",
              "      <td>POINT (-76.60926011099963 39.29058096400047)</td>\n",
              "      <td>C03</td>\n",
              "      <td>TSC08</td>\n",
              "      <td>Q18</td>\n",
              "      <td>24</td>\n",
              "      <td>5064</td>\n",
              "      <td>RACE</td>\n",
              "      <td>ASN</td>\n",
              "    </tr>\n",
              "    <tr>\n",
              "      <th>31484</th>\n",
              "      <td>2018</td>\n",
              "      <td>Florida</td>\n",
              "      <td>Overall Health</td>\n",
              "      <td>Prevalence of sufficient sleep</td>\n",
              "      <td>Percentage of older adults getting sufficient ...</td>\n",
              "      <td>Percentage</td>\n",
              "      <td>57.700000</td>\n",
              "      <td>47.7</td>\n",
              "      <td>67.0</td>\n",
              "      <td>POINT (-81.92896053899966 28.932040377000476)</td>\n",
              "      <td>C01</td>\n",
              "      <td>TOC09</td>\n",
              "      <td>Q34</td>\n",
              "      <td>12</td>\n",
              "      <td>5064</td>\n",
              "      <td>RACE</td>\n",
              "      <td>HIS</td>\n",
              "    </tr>\n",
              "    <tr>\n",
              "      <th>158519</th>\n",
              "      <td>2021</td>\n",
              "      <td>Maine</td>\n",
              "      <td>Caregiving</td>\n",
              "      <td>Provide care for someone with cognitive impair...</td>\n",
              "      <td>Percentage of older adults who provided care f...</td>\n",
              "      <td>Percentage</td>\n",
              "      <td>30.400000</td>\n",
              "      <td>23.1</td>\n",
              "      <td>38.9</td>\n",
              "      <td>POINT (-68.98503133599962 45.254228894000505)</td>\n",
              "      <td>C07</td>\n",
              "      <td>TGC05</td>\n",
              "      <td>Q40</td>\n",
              "      <td>23</td>\n",
              "      <td>65PLUS</td>\n",
              "      <td>GENDER</td>\n",
              "      <td>FEMALE</td>\n",
              "    </tr>\n",
              "    <tr>\n",
              "      <th>232143</th>\n",
              "      <td>2016</td>\n",
              "      <td>New York</td>\n",
              "      <td>Caregiving</td>\n",
              "      <td>Intensity of caregiving among older adults</td>\n",
              "      <td>Average of 20 or more hours of care per week p...</td>\n",
              "      <td>Percentage</td>\n",
              "      <td>35.400320</td>\n",
              "      <td>25.75</td>\n",
              "      <td>37.55</td>\n",
              "      <td>POINT (-75.54397042699964 42.82700103200045)</td>\n",
              "      <td>C07</td>\n",
              "      <td>TGC04</td>\n",
              "      <td>Q39</td>\n",
              "      <td>36</td>\n",
              "      <td>AGE_OVERALL</td>\n",
              "      <td>RACE</td>\n",
              "      <td>BLK</td>\n",
              "    </tr>\n",
              "    <tr>\n",
              "      <th>30212</th>\n",
              "      <td>2020</td>\n",
              "      <td>Colorado</td>\n",
              "      <td>Overall Health</td>\n",
              "      <td>Self-rated health (good to excellent health)</td>\n",
              "      <td>Percentage of older adults who self-reported t...</td>\n",
              "      <td>Percentage</td>\n",
              "      <td>72.900000</td>\n",
              "      <td>57.7</td>\n",
              "      <td>84.1</td>\n",
              "      <td>POINT (-106.13361092099967 38.843840757000464)</td>\n",
              "      <td>C01</td>\n",
              "      <td>TOC08</td>\n",
              "      <td>Q33</td>\n",
              "      <td>8</td>\n",
              "      <td>65PLUS</td>\n",
              "      <td>RACE</td>\n",
              "      <td>BLK</td>\n",
              "    </tr>\n",
              "    <tr>\n",
              "      <th>32230</th>\n",
              "      <td>2015</td>\n",
              "      <td>Alaska</td>\n",
              "      <td>Screenings and Vaccines</td>\n",
              "      <td>High blood pressure ever</td>\n",
              "      <td>Percentage of older adults who have ever been ...</td>\n",
              "      <td>Percentage</td>\n",
              "      <td>63.000000</td>\n",
              "      <td>56.4</td>\n",
              "      <td>69.2</td>\n",
              "      <td>POINT (-147.72205903599973 64.84507995700051)</td>\n",
              "      <td>C03</td>\n",
              "      <td>TSC07</td>\n",
              "      <td>Q22</td>\n",
              "      <td>2</td>\n",
              "      <td>65PLUS</td>\n",
              "      <td>GENDER</td>\n",
              "      <td>FEMALE</td>\n",
              "    </tr>\n",
              "    <tr>\n",
              "      <th>69944</th>\n",
              "      <td>2015</td>\n",
              "      <td>Georgia</td>\n",
              "      <td>Screenings and Vaccines</td>\n",
              "      <td>Influenza vaccine within past year</td>\n",
              "      <td>Percentage of older adults who reported influe...</td>\n",
              "      <td>Percentage</td>\n",
              "      <td>46.025753</td>\n",
              "      <td>29.0</td>\n",
              "      <td>40.1</td>\n",
              "      <td>POINT (-83.62758034599966 32.83968109300048)</td>\n",
              "      <td>C03</td>\n",
              "      <td>TSC08</td>\n",
              "      <td>Q18</td>\n",
              "      <td>13</td>\n",
              "      <td>AGE_OVERALL</td>\n",
              "      <td>RACE</td>\n",
              "      <td>HIS</td>\n",
              "    </tr>\n",
              "    <tr>\n",
              "      <th>215769</th>\n",
              "      <td>2017</td>\n",
              "      <td>Utah</td>\n",
              "      <td>Nutrition/Physical Activity/Obesity</td>\n",
              "      <td>Obesity</td>\n",
              "      <td>Percentage of older adults who are currently o...</td>\n",
              "      <td>Percentage</td>\n",
              "      <td>31.500000</td>\n",
              "      <td>29.1</td>\n",
              "      <td>34.1</td>\n",
              "      <td>POINT (-111.58713063499971 39.360700171000474)</td>\n",
              "      <td>C02</td>\n",
              "      <td>TNC04</td>\n",
              "      <td>Q13</td>\n",
              "      <td>49</td>\n",
              "      <td>AGE_OVERALL</td>\n",
              "      <td>GENDER</td>\n",
              "      <td>MALE</td>\n",
              "    </tr>\n",
              "  </tbody>\n",
              "</table>\n",
              "</div>\n",
              "    <div class=\"colab-df-buttons\">\n",
              "\n",
              "  <div class=\"colab-df-container\">\n",
              "    <button class=\"colab-df-convert\" onclick=\"convertToInteractive('df-aa1b952b-8cab-4bef-be9e-a23f240dd840')\"\n",
              "            title=\"Convert this dataframe to an interactive table.\"\n",
              "            style=\"display:none;\">\n",
              "\n",
              "  <svg xmlns=\"http://www.w3.org/2000/svg\" height=\"24px\" viewBox=\"0 -960 960 960\">\n",
              "    <path d=\"M120-120v-720h720v720H120Zm60-500h600v-160H180v160Zm220 220h160v-160H400v160Zm0 220h160v-160H400v160ZM180-400h160v-160H180v160Zm440 0h160v-160H620v160ZM180-180h160v-160H180v160Zm440 0h160v-160H620v160Z\"/>\n",
              "  </svg>\n",
              "    </button>\n",
              "\n",
              "  <style>\n",
              "    .colab-df-container {\n",
              "      display:flex;\n",
              "      gap: 12px;\n",
              "    }\n",
              "\n",
              "    .colab-df-convert {\n",
              "      background-color: #E8F0FE;\n",
              "      border: none;\n",
              "      border-radius: 50%;\n",
              "      cursor: pointer;\n",
              "      display: none;\n",
              "      fill: #1967D2;\n",
              "      height: 32px;\n",
              "      padding: 0 0 0 0;\n",
              "      width: 32px;\n",
              "    }\n",
              "\n",
              "    .colab-df-convert:hover {\n",
              "      background-color: #E2EBFA;\n",
              "      box-shadow: 0px 1px 2px rgba(60, 64, 67, 0.3), 0px 1px 3px 1px rgba(60, 64, 67, 0.15);\n",
              "      fill: #174EA6;\n",
              "    }\n",
              "\n",
              "    .colab-df-buttons div {\n",
              "      margin-bottom: 4px;\n",
              "    }\n",
              "\n",
              "    [theme=dark] .colab-df-convert {\n",
              "      background-color: #3B4455;\n",
              "      fill: #D2E3FC;\n",
              "    }\n",
              "\n",
              "    [theme=dark] .colab-df-convert:hover {\n",
              "      background-color: #434B5C;\n",
              "      box-shadow: 0px 1px 3px 1px rgba(0, 0, 0, 0.15);\n",
              "      filter: drop-shadow(0px 1px 2px rgba(0, 0, 0, 0.3));\n",
              "      fill: #FFFFFF;\n",
              "    }\n",
              "  </style>\n",
              "\n",
              "    <script>\n",
              "      const buttonEl =\n",
              "        document.querySelector('#df-aa1b952b-8cab-4bef-be9e-a23f240dd840 button.colab-df-convert');\n",
              "      buttonEl.style.display =\n",
              "        google.colab.kernel.accessAllowed ? 'block' : 'none';\n",
              "\n",
              "      async function convertToInteractive(key) {\n",
              "        const element = document.querySelector('#df-aa1b952b-8cab-4bef-be9e-a23f240dd840');\n",
              "        const dataTable =\n",
              "          await google.colab.kernel.invokeFunction('convertToInteractive',\n",
              "                                                    [key], {});\n",
              "        if (!dataTable) return;\n",
              "\n",
              "        const docLinkHtml = 'Like what you see? Visit the ' +\n",
              "          '<a target=\"_blank\" href=https://colab.research.google.com/notebooks/data_table.ipynb>data table notebook</a>'\n",
              "          + ' to learn more about interactive tables.';\n",
              "        element.innerHTML = '';\n",
              "        dataTable['output_type'] = 'display_data';\n",
              "        await google.colab.output.renderOutput(dataTable, element);\n",
              "        const docLink = document.createElement('div');\n",
              "        docLink.innerHTML = docLinkHtml;\n",
              "        element.appendChild(docLink);\n",
              "      }\n",
              "    </script>\n",
              "  </div>\n",
              "\n",
              "\n",
              "<div id=\"df-5236d4ca-ce0a-445d-887b-9f3577b366d4\">\n",
              "  <button class=\"colab-df-quickchart\" onclick=\"quickchart('df-5236d4ca-ce0a-445d-887b-9f3577b366d4')\"\n",
              "            title=\"Suggest charts\"\n",
              "            style=\"display:none;\">\n",
              "\n",
              "<svg xmlns=\"http://www.w3.org/2000/svg\" height=\"24px\"viewBox=\"0 0 24 24\"\n",
              "     width=\"24px\">\n",
              "    <g>\n",
              "        <path d=\"M19 3H5c-1.1 0-2 .9-2 2v14c0 1.1.9 2 2 2h14c1.1 0 2-.9 2-2V5c0-1.1-.9-2-2-2zM9 17H7v-7h2v7zm4 0h-2V7h2v10zm4 0h-2v-4h2v4z\"/>\n",
              "    </g>\n",
              "</svg>\n",
              "  </button>\n",
              "\n",
              "<style>\n",
              "  .colab-df-quickchart {\n",
              "      --bg-color: #E8F0FE;\n",
              "      --fill-color: #1967D2;\n",
              "      --hover-bg-color: #E2EBFA;\n",
              "      --hover-fill-color: #174EA6;\n",
              "      --disabled-fill-color: #AAA;\n",
              "      --disabled-bg-color: #DDD;\n",
              "  }\n",
              "\n",
              "  [theme=dark] .colab-df-quickchart {\n",
              "      --bg-color: #3B4455;\n",
              "      --fill-color: #D2E3FC;\n",
              "      --hover-bg-color: #434B5C;\n",
              "      --hover-fill-color: #FFFFFF;\n",
              "      --disabled-bg-color: #3B4455;\n",
              "      --disabled-fill-color: #666;\n",
              "  }\n",
              "\n",
              "  .colab-df-quickchart {\n",
              "    background-color: var(--bg-color);\n",
              "    border: none;\n",
              "    border-radius: 50%;\n",
              "    cursor: pointer;\n",
              "    display: none;\n",
              "    fill: var(--fill-color);\n",
              "    height: 32px;\n",
              "    padding: 0;\n",
              "    width: 32px;\n",
              "  }\n",
              "\n",
              "  .colab-df-quickchart:hover {\n",
              "    background-color: var(--hover-bg-color);\n",
              "    box-shadow: 0 1px 2px rgba(60, 64, 67, 0.3), 0 1px 3px 1px rgba(60, 64, 67, 0.15);\n",
              "    fill: var(--button-hover-fill-color);\n",
              "  }\n",
              "\n",
              "  .colab-df-quickchart-complete:disabled,\n",
              "  .colab-df-quickchart-complete:disabled:hover {\n",
              "    background-color: var(--disabled-bg-color);\n",
              "    fill: var(--disabled-fill-color);\n",
              "    box-shadow: none;\n",
              "  }\n",
              "\n",
              "  .colab-df-spinner {\n",
              "    border: 2px solid var(--fill-color);\n",
              "    border-color: transparent;\n",
              "    border-bottom-color: var(--fill-color);\n",
              "    animation:\n",
              "      spin 1s steps(1) infinite;\n",
              "  }\n",
              "\n",
              "  @keyframes spin {\n",
              "    0% {\n",
              "      border-color: transparent;\n",
              "      border-bottom-color: var(--fill-color);\n",
              "      border-left-color: var(--fill-color);\n",
              "    }\n",
              "    20% {\n",
              "      border-color: transparent;\n",
              "      border-left-color: var(--fill-color);\n",
              "      border-top-color: var(--fill-color);\n",
              "    }\n",
              "    30% {\n",
              "      border-color: transparent;\n",
              "      border-left-color: var(--fill-color);\n",
              "      border-top-color: var(--fill-color);\n",
              "      border-right-color: var(--fill-color);\n",
              "    }\n",
              "    40% {\n",
              "      border-color: transparent;\n",
              "      border-right-color: var(--fill-color);\n",
              "      border-top-color: var(--fill-color);\n",
              "    }\n",
              "    60% {\n",
              "      border-color: transparent;\n",
              "      border-right-color: var(--fill-color);\n",
              "    }\n",
              "    80% {\n",
              "      border-color: transparent;\n",
              "      border-right-color: var(--fill-color);\n",
              "      border-bottom-color: var(--fill-color);\n",
              "    }\n",
              "    90% {\n",
              "      border-color: transparent;\n",
              "      border-bottom-color: var(--fill-color);\n",
              "    }\n",
              "  }\n",
              "</style>\n",
              "\n",
              "  <script>\n",
              "    async function quickchart(key) {\n",
              "      const quickchartButtonEl =\n",
              "        document.querySelector('#' + key + ' button');\n",
              "      quickchartButtonEl.disabled = true;  // To prevent multiple clicks.\n",
              "      quickchartButtonEl.classList.add('colab-df-spinner');\n",
              "      try {\n",
              "        const charts = await google.colab.kernel.invokeFunction(\n",
              "            'suggestCharts', [key], {});\n",
              "      } catch (error) {\n",
              "        console.error('Error during call to suggestCharts:', error);\n",
              "      }\n",
              "      quickchartButtonEl.classList.remove('colab-df-spinner');\n",
              "      quickchartButtonEl.classList.add('colab-df-quickchart-complete');\n",
              "    }\n",
              "    (() => {\n",
              "      let quickchartButtonEl =\n",
              "        document.querySelector('#df-5236d4ca-ce0a-445d-887b-9f3577b366d4 button');\n",
              "      quickchartButtonEl.style.display =\n",
              "        google.colab.kernel.accessAllowed ? 'block' : 'none';\n",
              "    })();\n",
              "  </script>\n",
              "</div>\n",
              "    </div>\n",
              "  </div>\n"
            ],
            "application/vnd.google.colaboratory.intrinsic+json": {
              "type": "dataframe",
              "summary": "{\n  \"name\": \"df\",\n  \"rows\": 10,\n  \"fields\": [\n    {\n      \"column\": \"Year\",\n      \"properties\": {\n        \"dtype\": \"number\",\n        \"std\": 2,\n        \"min\": 2015,\n        \"max\": 2021,\n        \"samples\": [\n          2016,\n          2019,\n          2015\n        ],\n        \"num_unique_values\": 7,\n        \"semantic_type\": \"\",\n        \"description\": \"\"\n      }\n    },\n    {\n      \"column\": \"LocationDesc\",\n      \"properties\": {\n        \"dtype\": \"string\",\n        \"samples\": [\n          \"Georgia\",\n          \"Mississippi\",\n          \"New York\"\n        ],\n        \"num_unique_values\": 10,\n        \"semantic_type\": \"\",\n        \"description\": \"\"\n      }\n    },\n    {\n      \"column\": \"Class\",\n      \"properties\": {\n        \"dtype\": \"string\",\n        \"samples\": [\n          \"Smoking and Alcohol Use\",\n          \"Nutrition/Physical Activity/Obesity\",\n          \"Screenings and Vaccines\"\n        ],\n        \"num_unique_values\": 5,\n        \"semantic_type\": \"\",\n        \"description\": \"\"\n      }\n    },\n    {\n      \"column\": \"Topic\",\n      \"properties\": {\n        \"dtype\": \"string\",\n        \"samples\": [\n          \"High blood pressure ever\",\n          \"Current smoking\",\n          \"Intensity of caregiving among older adults\"\n        ],\n        \"num_unique_values\": 9,\n        \"semantic_type\": \"\",\n        \"description\": \"\"\n      }\n    },\n    {\n      \"column\": \"Question\",\n      \"properties\": {\n        \"dtype\": \"string\",\n        \"samples\": [\n          \"Percentage of older adults who have ever been told by a health professional that they have high blood pressure\",\n          \"Percentage of older adults who have smoked at least 100 cigarettes in their entire life and still smoke every day or some days\",\n          \"Average of 20 or more hours of care per week provided to a friend or family member\"\n        ],\n        \"num_unique_values\": 9,\n        \"semantic_type\": \"\",\n        \"description\": \"\"\n      }\n    },\n    {\n      \"column\": \"Data_Value_Type\",\n      \"properties\": {\n        \"dtype\": \"category\",\n        \"samples\": [\n          \"Percentage\",\n          \"Mean\"\n        ],\n        \"num_unique_values\": 2,\n        \"semantic_type\": \"\",\n        \"description\": \"\"\n      }\n    },\n    {\n      \"column\": \"Data_Value\",\n      \"properties\": {\n        \"dtype\": \"number\",\n        \"std\": 21.920099646503783,\n        \"min\": 6.478443666713733,\n        \"max\": 72.9,\n        \"samples\": [\n          46.02575253474852,\n          17.7\n        ],\n        \"num_unique_values\": 10,\n        \"semantic_type\": \"\",\n        \"description\": \"\"\n      }\n    },\n    {\n      \"column\": \"Low_Confidence_Limit\",\n      \"properties\": {\n        \"dtype\": \"string\",\n        \"samples\": [\n          29.0,\n          \"15.9\"\n        ],\n        \"num_unique_values\": 10,\n        \"semantic_type\": \"\",\n        \"description\": \"\"\n      }\n    },\n    {\n      \"column\": \"High_Confidence_Limit\",\n      \"properties\": {\n        \"dtype\": \"string\",\n        \"samples\": [\n          40.1,\n          \"19.6\"\n        ],\n        \"num_unique_values\": 10,\n        \"semantic_type\": \"\",\n        \"description\": \"\"\n      }\n    },\n    {\n      \"column\": \"Geolocation\",\n      \"properties\": {\n        \"dtype\": \"string\",\n        \"samples\": [\n          \"POINT (-83.62758034599966 32.83968109300048)\",\n          \"POINT (-89.53803082499968 32.745510099000455)\"\n        ],\n        \"num_unique_values\": 10,\n        \"semantic_type\": \"\",\n        \"description\": \"\"\n      }\n    },\n    {\n      \"column\": \"ClassID\",\n      \"properties\": {\n        \"dtype\": \"string\",\n        \"samples\": [\n          \"C04\",\n          \"C02\"\n        ],\n        \"num_unique_values\": 5,\n        \"semantic_type\": \"\",\n        \"description\": \"\"\n      }\n    },\n    {\n      \"column\": \"TopicID\",\n      \"properties\": {\n        \"dtype\": \"string\",\n        \"samples\": [\n          \"TSC07\",\n          \"TAC01\"\n        ],\n        \"num_unique_values\": 9,\n        \"semantic_type\": \"\",\n        \"description\": \"\"\n      }\n    },\n    {\n      \"column\": \"QuestionID\",\n      \"properties\": {\n        \"dtype\": \"string\",\n        \"samples\": [\n          \"Q22\",\n          \"Q17\"\n        ],\n        \"num_unique_values\": 9,\n        \"semantic_type\": \"\",\n        \"description\": \"\"\n      }\n    },\n    {\n      \"column\": \"LocationID\",\n      \"properties\": {\n        \"dtype\": \"number\",\n        \"std\": 14,\n        \"min\": 2,\n        \"max\": 49,\n        \"samples\": [\n          13,\n          28\n        ],\n        \"num_unique_values\": 10,\n        \"semantic_type\": \"\",\n        \"description\": \"\"\n      }\n    },\n    {\n      \"column\": \"StratificationID1\",\n      \"properties\": {\n        \"dtype\": \"category\",\n        \"samples\": [\n          \"AGE_OVERALL\",\n          \"5064\"\n        ],\n        \"num_unique_values\": 3,\n        \"semantic_type\": \"\",\n        \"description\": \"\"\n      }\n    },\n    {\n      \"column\": \"StratificationCategoryID2\",\n      \"properties\": {\n        \"dtype\": \"category\",\n        \"samples\": [\n          \"RACE\",\n          \"OVERALL\"\n        ],\n        \"num_unique_values\": 3,\n        \"semantic_type\": \"\",\n        \"description\": \"\"\n      }\n    },\n    {\n      \"column\": \"StratificationID2\",\n      \"properties\": {\n        \"dtype\": \"string\",\n        \"samples\": [\n          \"ASN\",\n          \"OVERALL\"\n        ],\n        \"num_unique_values\": 6,\n        \"semantic_type\": \"\",\n        \"description\": \"\"\n      }\n    }\n  ]\n}"
            }
          },
          "metadata": {},
          "execution_count": 48
        }
      ],
      "source": [
        "df.sample(10)"
      ]
    },
    {
      "cell_type": "code",
      "execution_count": null,
      "metadata": {
        "id": "JlKFe9DCVw_A",
        "colab": {
          "base_uri": "https://localhost:8080/"
        },
        "outputId": "61ac79ca-3155-4df7-b3d2-ce7eb57ae63e"
      },
      "outputs": [
        {
          "output_type": "stream",
          "name": "stdout",
          "text": [
            "Values with more than three decimal points:\n",
            "334       12.234613\n",
            "335       38.789033\n",
            "338       24.727895\n",
            "343       46.607832\n",
            "344       11.265113\n",
            "            ...    \n",
            "250921    51.077163\n",
            "250923    26.823826\n",
            "250929    30.792403\n",
            "250932     9.478185\n",
            "250935    32.788491\n",
            "Name: Data_Value, Length: 81238, dtype: float64\n"
          ]
        }
      ],
      "source": [
        "ptn = r'\\.\\d{4,}$'\n",
        "has_more = df['Data_Value'].astype(str).str.contains(ptn)\n",
        "\n",
        "# Filtering the DataFrame to get values with more than three decimal points\n",
        "more_values = df[has_more]['Data_Value']\n",
        "\n",
        "if not more_values.empty:\n",
        "    print(\"Values with more than three decimal points:\")\n",
        "    print(more_values)\n",
        "else:\n",
        "    print(\"No values with more than three decimal points found.\")"
      ]
    },
    {
      "cell_type": "code",
      "execution_count": null,
      "metadata": {
        "id": "2ohB9W-_k_lN"
      },
      "outputs": [],
      "source": [
        "df[['Data_Value']] = df[['Data_Value']].round(2)"
      ]
    },
    {
      "cell_type": "code",
      "execution_count": null,
      "metadata": {
        "colab": {
          "base_uri": "https://localhost:8080/"
        },
        "id": "kTPl-D4Qq6rx",
        "outputId": "16bdb9a7-3be5-4264-d83c-7300899b2d7c"
      },
      "outputs": [
        {
          "output_type": "stream",
          "name": "stdout",
          "text": [
            "No values with more than three decimal points found.\n"
          ]
        }
      ],
      "source": [
        "ptn = r'\\.\\d{4,}$'\n",
        "has_more = df['Low_Confidence_Limit'].astype(str).str.contains(ptn)\n",
        "\n",
        "more_values = df[has_more]['Low_Confidence_Limit']\n",
        "\n",
        "if not more_values.empty:\n",
        "    print(\"Values with more than three decimal points:\")\n",
        "    print(more_values)\n",
        "else:\n",
        "    print(\"No values with more than three decimal points found.\")"
      ]
    },
    {
      "cell_type": "code",
      "execution_count": null,
      "metadata": {
        "colab": {
          "base_uri": "https://localhost:8080/",
          "height": 389
        },
        "id": "InDSA82qqcdh",
        "outputId": "2b8084ec-9b45-489a-e3f2-fc04376e5f8b"
      },
      "outputs": [
        {
          "output_type": "execute_result",
          "data": {
            "text/plain": [
              "        Year LocationDesc                    Class  \\\n",
              "122287  2018     Kentucky  Smoking and Alcohol Use   \n",
              "236803  2017    Tennessee  Smoking and Alcohol Use   \n",
              "123220  2021       Kansas  Smoking and Alcohol Use   \n",
              "\n",
              "                                     Topic  \\\n",
              "122287                     Current smoking   \n",
              "236803  Binge drinking within past 30 days   \n",
              "123220  Binge drinking within past 30 days   \n",
              "\n",
              "                                                 Question Data_Value_Type  \\\n",
              "122287  Percentage of older adults who have smoked at ...      Percentage   \n",
              "236803  Percentage of older adults who reported binge ...      Percentage   \n",
              "123220  Percentage of older adults who reported binge ...      Percentage   \n",
              "\n",
              "        Data_Value Low_Confidence_Limit High_Confidence_Limit  \\\n",
              "122287       18.50                 16.3                  21.0   \n",
              "236803        6.73                 30.3                  41.8   \n",
              "123220       10.34                 27.0                  37.2   \n",
              "\n",
              "                                          Geolocation ClassID TopicID  \\\n",
              "122287  POINT (-84.77497104799966 37.645970271000465)     C04   TAC01   \n",
              "236803   POINT (-85.77449091399967 35.68094058000048)     C04   TAC03   \n",
              "123220   POINT (-98.20078122699965 38.34774030000045)     C04   TAC03   \n",
              "\n",
              "       QuestionID  LocationID StratificationID1 StratificationCategoryID2  \\\n",
              "122287        Q17          21       AGE_OVERALL                    GENDER   \n",
              "236803        Q21          47            65PLUS                      RACE   \n",
              "123220        Q21          20       AGE_OVERALL                      RACE   \n",
              "\n",
              "       StratificationID2  \n",
              "122287            FEMALE  \n",
              "236803               NAA  \n",
              "123220               ASN  "
            ],
            "text/html": [
              "\n",
              "  <div id=\"df-17b5e7a6-db20-4eb9-bfff-1d97659461b3\" class=\"colab-df-container\">\n",
              "    <div>\n",
              "<style scoped>\n",
              "    .dataframe tbody tr th:only-of-type {\n",
              "        vertical-align: middle;\n",
              "    }\n",
              "\n",
              "    .dataframe tbody tr th {\n",
              "        vertical-align: top;\n",
              "    }\n",
              "\n",
              "    .dataframe thead th {\n",
              "        text-align: right;\n",
              "    }\n",
              "</style>\n",
              "<table border=\"1\" class=\"dataframe\">\n",
              "  <thead>\n",
              "    <tr style=\"text-align: right;\">\n",
              "      <th></th>\n",
              "      <th>Year</th>\n",
              "      <th>LocationDesc</th>\n",
              "      <th>Class</th>\n",
              "      <th>Topic</th>\n",
              "      <th>Question</th>\n",
              "      <th>Data_Value_Type</th>\n",
              "      <th>Data_Value</th>\n",
              "      <th>Low_Confidence_Limit</th>\n",
              "      <th>High_Confidence_Limit</th>\n",
              "      <th>Geolocation</th>\n",
              "      <th>ClassID</th>\n",
              "      <th>TopicID</th>\n",
              "      <th>QuestionID</th>\n",
              "      <th>LocationID</th>\n",
              "      <th>StratificationID1</th>\n",
              "      <th>StratificationCategoryID2</th>\n",
              "      <th>StratificationID2</th>\n",
              "    </tr>\n",
              "  </thead>\n",
              "  <tbody>\n",
              "    <tr>\n",
              "      <th>122287</th>\n",
              "      <td>2018</td>\n",
              "      <td>Kentucky</td>\n",
              "      <td>Smoking and Alcohol Use</td>\n",
              "      <td>Current smoking</td>\n",
              "      <td>Percentage of older adults who have smoked at ...</td>\n",
              "      <td>Percentage</td>\n",
              "      <td>18.50</td>\n",
              "      <td>16.3</td>\n",
              "      <td>21.0</td>\n",
              "      <td>POINT (-84.77497104799966 37.645970271000465)</td>\n",
              "      <td>C04</td>\n",
              "      <td>TAC01</td>\n",
              "      <td>Q17</td>\n",
              "      <td>21</td>\n",
              "      <td>AGE_OVERALL</td>\n",
              "      <td>GENDER</td>\n",
              "      <td>FEMALE</td>\n",
              "    </tr>\n",
              "    <tr>\n",
              "      <th>236803</th>\n",
              "      <td>2017</td>\n",
              "      <td>Tennessee</td>\n",
              "      <td>Smoking and Alcohol Use</td>\n",
              "      <td>Binge drinking within past 30 days</td>\n",
              "      <td>Percentage of older adults who reported binge ...</td>\n",
              "      <td>Percentage</td>\n",
              "      <td>6.73</td>\n",
              "      <td>30.3</td>\n",
              "      <td>41.8</td>\n",
              "      <td>POINT (-85.77449091399967 35.68094058000048)</td>\n",
              "      <td>C04</td>\n",
              "      <td>TAC03</td>\n",
              "      <td>Q21</td>\n",
              "      <td>47</td>\n",
              "      <td>65PLUS</td>\n",
              "      <td>RACE</td>\n",
              "      <td>NAA</td>\n",
              "    </tr>\n",
              "    <tr>\n",
              "      <th>123220</th>\n",
              "      <td>2021</td>\n",
              "      <td>Kansas</td>\n",
              "      <td>Smoking and Alcohol Use</td>\n",
              "      <td>Binge drinking within past 30 days</td>\n",
              "      <td>Percentage of older adults who reported binge ...</td>\n",
              "      <td>Percentage</td>\n",
              "      <td>10.34</td>\n",
              "      <td>27.0</td>\n",
              "      <td>37.2</td>\n",
              "      <td>POINT (-98.20078122699965 38.34774030000045)</td>\n",
              "      <td>C04</td>\n",
              "      <td>TAC03</td>\n",
              "      <td>Q21</td>\n",
              "      <td>20</td>\n",
              "      <td>AGE_OVERALL</td>\n",
              "      <td>RACE</td>\n",
              "      <td>ASN</td>\n",
              "    </tr>\n",
              "  </tbody>\n",
              "</table>\n",
              "</div>\n",
              "    <div class=\"colab-df-buttons\">\n",
              "\n",
              "  <div class=\"colab-df-container\">\n",
              "    <button class=\"colab-df-convert\" onclick=\"convertToInteractive('df-17b5e7a6-db20-4eb9-bfff-1d97659461b3')\"\n",
              "            title=\"Convert this dataframe to an interactive table.\"\n",
              "            style=\"display:none;\">\n",
              "\n",
              "  <svg xmlns=\"http://www.w3.org/2000/svg\" height=\"24px\" viewBox=\"0 -960 960 960\">\n",
              "    <path d=\"M120-120v-720h720v720H120Zm60-500h600v-160H180v160Zm220 220h160v-160H400v160Zm0 220h160v-160H400v160ZM180-400h160v-160H180v160Zm440 0h160v-160H620v160ZM180-180h160v-160H180v160Zm440 0h160v-160H620v160Z\"/>\n",
              "  </svg>\n",
              "    </button>\n",
              "\n",
              "  <style>\n",
              "    .colab-df-container {\n",
              "      display:flex;\n",
              "      gap: 12px;\n",
              "    }\n",
              "\n",
              "    .colab-df-convert {\n",
              "      background-color: #E8F0FE;\n",
              "      border: none;\n",
              "      border-radius: 50%;\n",
              "      cursor: pointer;\n",
              "      display: none;\n",
              "      fill: #1967D2;\n",
              "      height: 32px;\n",
              "      padding: 0 0 0 0;\n",
              "      width: 32px;\n",
              "    }\n",
              "\n",
              "    .colab-df-convert:hover {\n",
              "      background-color: #E2EBFA;\n",
              "      box-shadow: 0px 1px 2px rgba(60, 64, 67, 0.3), 0px 1px 3px 1px rgba(60, 64, 67, 0.15);\n",
              "      fill: #174EA6;\n",
              "    }\n",
              "\n",
              "    .colab-df-buttons div {\n",
              "      margin-bottom: 4px;\n",
              "    }\n",
              "\n",
              "    [theme=dark] .colab-df-convert {\n",
              "      background-color: #3B4455;\n",
              "      fill: #D2E3FC;\n",
              "    }\n",
              "\n",
              "    [theme=dark] .colab-df-convert:hover {\n",
              "      background-color: #434B5C;\n",
              "      box-shadow: 0px 1px 3px 1px rgba(0, 0, 0, 0.15);\n",
              "      filter: drop-shadow(0px 1px 2px rgba(0, 0, 0, 0.3));\n",
              "      fill: #FFFFFF;\n",
              "    }\n",
              "  </style>\n",
              "\n",
              "    <script>\n",
              "      const buttonEl =\n",
              "        document.querySelector('#df-17b5e7a6-db20-4eb9-bfff-1d97659461b3 button.colab-df-convert');\n",
              "      buttonEl.style.display =\n",
              "        google.colab.kernel.accessAllowed ? 'block' : 'none';\n",
              "\n",
              "      async function convertToInteractive(key) {\n",
              "        const element = document.querySelector('#df-17b5e7a6-db20-4eb9-bfff-1d97659461b3');\n",
              "        const dataTable =\n",
              "          await google.colab.kernel.invokeFunction('convertToInteractive',\n",
              "                                                    [key], {});\n",
              "        if (!dataTable) return;\n",
              "\n",
              "        const docLinkHtml = 'Like what you see? Visit the ' +\n",
              "          '<a target=\"_blank\" href=https://colab.research.google.com/notebooks/data_table.ipynb>data table notebook</a>'\n",
              "          + ' to learn more about interactive tables.';\n",
              "        element.innerHTML = '';\n",
              "        dataTable['output_type'] = 'display_data';\n",
              "        await google.colab.output.renderOutput(dataTable, element);\n",
              "        const docLink = document.createElement('div');\n",
              "        docLink.innerHTML = docLinkHtml;\n",
              "        element.appendChild(docLink);\n",
              "      }\n",
              "    </script>\n",
              "  </div>\n",
              "\n",
              "\n",
              "<div id=\"df-c1cb28c3-eb89-4237-a43b-5d225058081b\">\n",
              "  <button class=\"colab-df-quickchart\" onclick=\"quickchart('df-c1cb28c3-eb89-4237-a43b-5d225058081b')\"\n",
              "            title=\"Suggest charts\"\n",
              "            style=\"display:none;\">\n",
              "\n",
              "<svg xmlns=\"http://www.w3.org/2000/svg\" height=\"24px\"viewBox=\"0 0 24 24\"\n",
              "     width=\"24px\">\n",
              "    <g>\n",
              "        <path d=\"M19 3H5c-1.1 0-2 .9-2 2v14c0 1.1.9 2 2 2h14c1.1 0 2-.9 2-2V5c0-1.1-.9-2-2-2zM9 17H7v-7h2v7zm4 0h-2V7h2v10zm4 0h-2v-4h2v4z\"/>\n",
              "    </g>\n",
              "</svg>\n",
              "  </button>\n",
              "\n",
              "<style>\n",
              "  .colab-df-quickchart {\n",
              "      --bg-color: #E8F0FE;\n",
              "      --fill-color: #1967D2;\n",
              "      --hover-bg-color: #E2EBFA;\n",
              "      --hover-fill-color: #174EA6;\n",
              "      --disabled-fill-color: #AAA;\n",
              "      --disabled-bg-color: #DDD;\n",
              "  }\n",
              "\n",
              "  [theme=dark] .colab-df-quickchart {\n",
              "      --bg-color: #3B4455;\n",
              "      --fill-color: #D2E3FC;\n",
              "      --hover-bg-color: #434B5C;\n",
              "      --hover-fill-color: #FFFFFF;\n",
              "      --disabled-bg-color: #3B4455;\n",
              "      --disabled-fill-color: #666;\n",
              "  }\n",
              "\n",
              "  .colab-df-quickchart {\n",
              "    background-color: var(--bg-color);\n",
              "    border: none;\n",
              "    border-radius: 50%;\n",
              "    cursor: pointer;\n",
              "    display: none;\n",
              "    fill: var(--fill-color);\n",
              "    height: 32px;\n",
              "    padding: 0;\n",
              "    width: 32px;\n",
              "  }\n",
              "\n",
              "  .colab-df-quickchart:hover {\n",
              "    background-color: var(--hover-bg-color);\n",
              "    box-shadow: 0 1px 2px rgba(60, 64, 67, 0.3), 0 1px 3px 1px rgba(60, 64, 67, 0.15);\n",
              "    fill: var(--button-hover-fill-color);\n",
              "  }\n",
              "\n",
              "  .colab-df-quickchart-complete:disabled,\n",
              "  .colab-df-quickchart-complete:disabled:hover {\n",
              "    background-color: var(--disabled-bg-color);\n",
              "    fill: var(--disabled-fill-color);\n",
              "    box-shadow: none;\n",
              "  }\n",
              "\n",
              "  .colab-df-spinner {\n",
              "    border: 2px solid var(--fill-color);\n",
              "    border-color: transparent;\n",
              "    border-bottom-color: var(--fill-color);\n",
              "    animation:\n",
              "      spin 1s steps(1) infinite;\n",
              "  }\n",
              "\n",
              "  @keyframes spin {\n",
              "    0% {\n",
              "      border-color: transparent;\n",
              "      border-bottom-color: var(--fill-color);\n",
              "      border-left-color: var(--fill-color);\n",
              "    }\n",
              "    20% {\n",
              "      border-color: transparent;\n",
              "      border-left-color: var(--fill-color);\n",
              "      border-top-color: var(--fill-color);\n",
              "    }\n",
              "    30% {\n",
              "      border-color: transparent;\n",
              "      border-left-color: var(--fill-color);\n",
              "      border-top-color: var(--fill-color);\n",
              "      border-right-color: var(--fill-color);\n",
              "    }\n",
              "    40% {\n",
              "      border-color: transparent;\n",
              "      border-right-color: var(--fill-color);\n",
              "      border-top-color: var(--fill-color);\n",
              "    }\n",
              "    60% {\n",
              "      border-color: transparent;\n",
              "      border-right-color: var(--fill-color);\n",
              "    }\n",
              "    80% {\n",
              "      border-color: transparent;\n",
              "      border-right-color: var(--fill-color);\n",
              "      border-bottom-color: var(--fill-color);\n",
              "    }\n",
              "    90% {\n",
              "      border-color: transparent;\n",
              "      border-bottom-color: var(--fill-color);\n",
              "    }\n",
              "  }\n",
              "</style>\n",
              "\n",
              "  <script>\n",
              "    async function quickchart(key) {\n",
              "      const quickchartButtonEl =\n",
              "        document.querySelector('#' + key + ' button');\n",
              "      quickchartButtonEl.disabled = true;  // To prevent multiple clicks.\n",
              "      quickchartButtonEl.classList.add('colab-df-spinner');\n",
              "      try {\n",
              "        const charts = await google.colab.kernel.invokeFunction(\n",
              "            'suggestCharts', [key], {});\n",
              "      } catch (error) {\n",
              "        console.error('Error during call to suggestCharts:', error);\n",
              "      }\n",
              "      quickchartButtonEl.classList.remove('colab-df-spinner');\n",
              "      quickchartButtonEl.classList.add('colab-df-quickchart-complete');\n",
              "    }\n",
              "    (() => {\n",
              "      let quickchartButtonEl =\n",
              "        document.querySelector('#df-c1cb28c3-eb89-4237-a43b-5d225058081b button');\n",
              "      quickchartButtonEl.style.display =\n",
              "        google.colab.kernel.accessAllowed ? 'block' : 'none';\n",
              "    })();\n",
              "  </script>\n",
              "</div>\n",
              "    </div>\n",
              "  </div>\n"
            ],
            "application/vnd.google.colaboratory.intrinsic+json": {
              "type": "dataframe",
              "summary": "{\n  \"name\": \"df\",\n  \"rows\": 3,\n  \"fields\": [\n    {\n      \"column\": \"Year\",\n      \"properties\": {\n        \"dtype\": \"number\",\n        \"std\": 2,\n        \"min\": 2017,\n        \"max\": 2021,\n        \"samples\": [\n          2018,\n          2017,\n          2021\n        ],\n        \"num_unique_values\": 3,\n        \"semantic_type\": \"\",\n        \"description\": \"\"\n      }\n    },\n    {\n      \"column\": \"LocationDesc\",\n      \"properties\": {\n        \"dtype\": \"string\",\n        \"samples\": [\n          \"Kentucky\",\n          \"Tennessee\",\n          \"Kansas\"\n        ],\n        \"num_unique_values\": 3,\n        \"semantic_type\": \"\",\n        \"description\": \"\"\n      }\n    },\n    {\n      \"column\": \"Class\",\n      \"properties\": {\n        \"dtype\": \"category\",\n        \"samples\": [\n          \"Smoking and Alcohol Use\"\n        ],\n        \"num_unique_values\": 1,\n        \"semantic_type\": \"\",\n        \"description\": \"\"\n      }\n    },\n    {\n      \"column\": \"Topic\",\n      \"properties\": {\n        \"dtype\": \"string\",\n        \"samples\": [\n          \"Binge drinking within past 30 days\"\n        ],\n        \"num_unique_values\": 2,\n        \"semantic_type\": \"\",\n        \"description\": \"\"\n      }\n    },\n    {\n      \"column\": \"Question\",\n      \"properties\": {\n        \"dtype\": \"string\",\n        \"samples\": [\n          \"Percentage of older adults who reported binge drinking within the past 30 days\"\n        ],\n        \"num_unique_values\": 2,\n        \"semantic_type\": \"\",\n        \"description\": \"\"\n      }\n    },\n    {\n      \"column\": \"Data_Value_Type\",\n      \"properties\": {\n        \"dtype\": \"category\",\n        \"samples\": [\n          \"Percentage\"\n        ],\n        \"num_unique_values\": 1,\n        \"semantic_type\": \"\",\n        \"description\": \"\"\n      }\n    },\n    {\n      \"column\": \"Data_Value\",\n      \"properties\": {\n        \"dtype\": \"number\",\n        \"std\": 6.029795463639984,\n        \"min\": 6.73,\n        \"max\": 18.5,\n        \"samples\": [\n          18.5\n        ],\n        \"num_unique_values\": 3,\n        \"semantic_type\": \"\",\n        \"description\": \"\"\n      }\n    },\n    {\n      \"column\": \"Low_Confidence_Limit\",\n      \"properties\": {\n        \"dtype\": \"string\",\n        \"samples\": [\n          \"16.3\"\n        ],\n        \"num_unique_values\": 3,\n        \"semantic_type\": \"\",\n        \"description\": \"\"\n      }\n    },\n    {\n      \"column\": \"High_Confidence_Limit\",\n      \"properties\": {\n        \"dtype\": \"string\",\n        \"samples\": [\n          \"21.0\"\n        ],\n        \"num_unique_values\": 3,\n        \"semantic_type\": \"\",\n        \"description\": \"\"\n      }\n    },\n    {\n      \"column\": \"Geolocation\",\n      \"properties\": {\n        \"dtype\": \"string\",\n        \"samples\": [\n          \"POINT (-84.77497104799966 37.645970271000465)\"\n        ],\n        \"num_unique_values\": 3,\n        \"semantic_type\": \"\",\n        \"description\": \"\"\n      }\n    },\n    {\n      \"column\": \"ClassID\",\n      \"properties\": {\n        \"dtype\": \"category\",\n        \"samples\": [\n          \"C04\"\n        ],\n        \"num_unique_values\": 1,\n        \"semantic_type\": \"\",\n        \"description\": \"\"\n      }\n    },\n    {\n      \"column\": \"TopicID\",\n      \"properties\": {\n        \"dtype\": \"string\",\n        \"samples\": [\n          \"TAC03\"\n        ],\n        \"num_unique_values\": 2,\n        \"semantic_type\": \"\",\n        \"description\": \"\"\n      }\n    },\n    {\n      \"column\": \"QuestionID\",\n      \"properties\": {\n        \"dtype\": \"string\",\n        \"samples\": [\n          \"Q21\"\n        ],\n        \"num_unique_values\": 2,\n        \"semantic_type\": \"\",\n        \"description\": \"\"\n      }\n    },\n    {\n      \"column\": \"LocationID\",\n      \"properties\": {\n        \"dtype\": \"number\",\n        \"std\": 15,\n        \"min\": 20,\n        \"max\": 47,\n        \"samples\": [\n          21\n        ],\n        \"num_unique_values\": 3,\n        \"semantic_type\": \"\",\n        \"description\": \"\"\n      }\n    },\n    {\n      \"column\": \"StratificationID1\",\n      \"properties\": {\n        \"dtype\": \"string\",\n        \"samples\": [\n          \"65PLUS\"\n        ],\n        \"num_unique_values\": 2,\n        \"semantic_type\": \"\",\n        \"description\": \"\"\n      }\n    },\n    {\n      \"column\": \"StratificationCategoryID2\",\n      \"properties\": {\n        \"dtype\": \"string\",\n        \"samples\": [\n          \"RACE\"\n        ],\n        \"num_unique_values\": 2,\n        \"semantic_type\": \"\",\n        \"description\": \"\"\n      }\n    },\n    {\n      \"column\": \"StratificationID2\",\n      \"properties\": {\n        \"dtype\": \"string\",\n        \"samples\": [\n          \"FEMALE\"\n        ],\n        \"num_unique_values\": 3,\n        \"semantic_type\": \"\",\n        \"description\": \"\"\n      }\n    }\n  ]\n}"
            }
          },
          "metadata": {},
          "execution_count": 52
        }
      ],
      "source": [
        "df.sample(3)"
      ]
    },
    {
      "cell_type": "markdown",
      "metadata": {
        "id": "cjzd8jXdWlLq"
      },
      "source": [
        "Outliers after imputation"
      ]
    },
    {
      "cell_type": "code",
      "execution_count": null,
      "metadata": {
        "colab": {
          "base_uri": "https://localhost:8080/"
        },
        "id": "E1s1_nuPWiNj",
        "outputId": "8c285527-87d9-48b2-8b79-077024dfa843"
      },
      "outputs": [
        {
          "output_type": "stream",
          "name": "stdout",
          "text": [
            "Number of outliers in each numeric column:\n",
            "Data_Value                  0\n",
            "Low_Confidence_Limit     2882\n",
            "High_Confidence_Limit       0\n",
            "Year                        0\n",
            "dtype: int64\n"
          ]
        }
      ],
      "source": [
        "numeric_columns = [\"Data_Value\", \"Low_Confidence_Limit\", \"High_Confidence_Limit\", \"Year\"]\n",
        "\n",
        "df[numeric_columns] = df[numeric_columns].apply(pd.to_numeric, errors='coerce')\n",
        "z_scores = df[numeric_columns].apply(zscore)\n",
        "threshold = 3\n",
        "outliers = z_scores.abs() > threshold\n",
        "num_outliers = outliers.sum()\n",
        "\n",
        "\n",
        "print(\"Number of outliers in each numeric column:\")\n",
        "print(num_outliers)\n",
        "\n"
      ]
    },
    {
      "cell_type": "code",
      "source": [
        "# Computeing the 99th percentile of the 'Low_Confidence_Limit' column\n",
        "percentile_99 = df['Low_Confidence_Limit'].quantile(0.99)\n",
        "df['Low_Confidence_Limit'] = np.where(df['Low_Confidence_Limit'] > percentile_99, percentile_99, df['Low_Confidence_Limit'])\n",
        "num_outliers_after = (df['Low_Confidence_Limit'] > percentile_99).sum()\n",
        "\n",
        "print(\"Number of outliers in 'Low_Confidence_Limit' column after replacing outliers:\", num_outliers_after)\n"
      ],
      "metadata": {
        "colab": {
          "base_uri": "https://localhost:8080/"
        },
        "id": "oP4hbGhi4egU",
        "outputId": "e8d580ee-ce00-4ff6-9eea-a9e5da831f68"
      },
      "execution_count": null,
      "outputs": [
        {
          "output_type": "stream",
          "name": "stdout",
          "text": [
            "Number of outliers in 'Low_Confidence_Limit' column after replacing outliers: 0\n"
          ]
        }
      ]
    },
    {
      "cell_type": "markdown",
      "metadata": {
        "id": "EWPYrN6eqn7v"
      },
      "source": [
        "# Analysing the data"
      ]
    },
    {
      "cell_type": "code",
      "execution_count": null,
      "metadata": {
        "colab": {
          "base_uri": "https://localhost:8080/"
        },
        "id": "ooTrrZV7T-GK",
        "outputId": "e1226612-cd9b-4ea0-acb4-25c64ed3f196"
      },
      "outputs": [
        {
          "output_type": "execute_result",
          "data": {
            "text/plain": [
              "Q03    8843\n",
              "Q13    8843\n",
              "Q27    8843\n",
              "Q17    8843\n",
              "Q16    8843\n",
              "Q08    8843\n",
              "Q18    8843\n",
              "Q33    8842\n",
              "Q21    8842\n",
              "Q32    8842\n",
              "Q09    8806\n",
              "Q35    8761\n",
              "Q46    7580\n",
              "Q43    6294\n",
              "Q45    6216\n",
              "Q14    5030\n",
              "Q22    5030\n",
              "Q01    5026\n",
              "Q02    5024\n",
              "Q04    5004\n",
              "Q44    4953\n",
              "Q30    4632\n",
              "Q19    4591\n",
              "Q41    4220\n",
              "Q31    4217\n",
              "Q42    4217\n",
              "Q36    4058\n",
              "Q37    4027\n",
              "Q38    3866\n",
              "Q40    3863\n",
              "Q39    3849\n",
              "Q05    3813\n",
              "Q15    3813\n",
              "Q07    3812\n",
              "Q34    3811\n",
              "Q11    2836\n",
              "Q12    2827\n",
              "Q10    2827\n",
              "Q20    2798\n",
              "Name: QuestionID, dtype: int64"
            ]
          },
          "metadata": {},
          "execution_count": 56
        }
      ],
      "source": [
        "question_stats = df.groupby(\"QuestionID\").describe\n",
        "question_counts = df[\"QuestionID\"].value_counts()\n",
        "question_counts"
      ]
    },
    {
      "cell_type": "code",
      "execution_count": null,
      "metadata": {
        "colab": {
          "base_uri": "https://localhost:8080/",
          "height": 674
        },
        "id": "RCp-698ftPJo",
        "outputId": "e3cb4be5-35c8-4df2-da89-215a7a94a652"
      },
      "outputs": [
        {
          "output_type": "stream",
          "name": "stderr",
          "text": [
            "<ipython-input-57-8d7537e21a98>:2: FutureWarning: \n",
            "\n",
            "Passing `palette` without assigning `hue` is deprecated and will be removed in v0.14.0. Assign the `x` variable to `hue` and set `legend=False` for the same effect.\n",
            "\n",
            "  sns.barplot(x=question_counts.index, y=question_counts.values, palette=\"viridis\")\n"
          ]
        },
        {
          "output_type": "display_data",
          "data": {
            "text/plain": [
              "<Figure size 1000x600 with 1 Axes>"
            ],
            "image/png": "[encoded data removed]"
          },
          "metadata": {}
        }
      ],
      "source": [
        "plt.figure(figsize=(10,6))\n",
        "sns.barplot(x=question_counts.index, y=question_counts.values, palette=\"viridis\")\n",
        "\n",
        "plt.xlabel(\"Question\", fontsize = 14)\n",
        "plt.ylabel(\"Frequency\", fontsize = 14)\n",
        "plt.title(\"Question Frequency Distribution\", fontsize = 16)\n",
        "\n",
        "plt.xticks(rotation=45, ha=\"right\")\n",
        "\n",
        "\n",
        "plt.show()"
      ]
    },
    {
      "cell_type": "code",
      "execution_count": null,
      "metadata": {
        "id": "O74cMn9Kw-ll"
      },
      "outputs": [],
      "source": [
        "old2_df = df.copy()"
      ]
    },
    {
      "cell_type": "code",
      "execution_count": null,
      "metadata": {
        "colab": {
          "base_uri": "https://localhost:8080/",
          "height": 660
        },
        "id": "63GsP2i_ykLh",
        "outputId": "803483c9-80f7-4fef-f2f8-3928b66107fb"
      },
      "outputs": [
        {
          "output_type": "execute_result",
          "data": {
            "text/plain": [
              "     Year LocationDesc           Class                              Topic  \\\n",
              "403  2016  Connecticut  Overall Health  Fall with injury within last year   \n",
              "446  2018    Louisiana  Overall Health  Fall with injury within last year   \n",
              "451  2020    Tennessee  Overall Health  Fall with injury within last year   \n",
              "507  2016      Florida  Overall Health  Fall with injury within last year   \n",
              "586  2020     Illinois  Overall Health  Fall with injury within last year   \n",
              "\n",
              "                                              Question Data_Value_Type  \\\n",
              "403  Percentage of older adults who have fallen and...      Percentage   \n",
              "446  Percentage of older adults who have fallen and...      Percentage   \n",
              "451  Percentage of older adults who have fallen and...      Percentage   \n",
              "507  Percentage of older adults who have fallen and...      Percentage   \n",
              "586  Percentage of older adults who have fallen and...      Percentage   \n",
              "\n",
              "     Data_Value  Low_Confidence_Limit  High_Confidence_Limit  \\\n",
              "403       10.80                   9.4                   12.4   \n",
              "446        7.70                   4.9                   11.7   \n",
              "451       11.08                  30.3                   41.8   \n",
              "507        5.20                   3.1                    8.5   \n",
              "586        6.58                  26.7                   38.4   \n",
              "\n",
              "                                       Geolocation ClassID TopicID QuestionID  \\\n",
              "403   POINT (-72.64984095199964 41.56266102000046)     C01   TOC06        Q05   \n",
              "446   POINT (-92.44568007099969 31.31266064400046)     C01   TOC06        Q05   \n",
              "451   POINT (-85.77449091399967 35.68094058000048)     C01   TOC06        Q05   \n",
              "507  POINT (-81.92896053899966 28.932040377000476)     C01   TOC06        Q05   \n",
              "586   POINT (-88.99771017799969 40.48501028300046)     C01   TOC06        Q05   \n",
              "\n",
              "     LocationID StratificationID1 StratificationCategoryID2 StratificationID2  \n",
              "403           9            65PLUS                    GENDER            FEMALE  \n",
              "446          22            65PLUS                    GENDER              MALE  \n",
              "451          47              5064                      RACE               NAA  \n",
              "507          12            65PLUS                      RACE               BLK  \n",
              "586          17              5064                      RACE               BLK  "
            ],
            "text/html": [
              "\n",
              "  <div id=\"df-7caf9327-e324-4b8e-b2b1-7ba628739113\" class=\"colab-df-container\">\n",
              "    <div>\n",
              "<style scoped>\n",
              "    .dataframe tbody tr th:only-of-type {\n",
              "        vertical-align: middle;\n",
              "    }\n",
              "\n",
              "    .dataframe tbody tr th {\n",
              "        vertical-align: top;\n",
              "    }\n",
              "\n",
              "    .dataframe thead th {\n",
              "        text-align: right;\n",
              "    }\n",
              "</style>\n",
              "<table border=\"1\" class=\"dataframe\">\n",
              "  <thead>\n",
              "    <tr style=\"text-align: right;\">\n",
              "      <th></th>\n",
              "      <th>Year</th>\n",
              "      <th>LocationDesc</th>\n",
              "      <th>Class</th>\n",
              "      <th>Topic</th>\n",
              "      <th>Question</th>\n",
              "      <th>Data_Value_Type</th>\n",
              "      <th>Data_Value</th>\n",
              "      <th>Low_Confidence_Limit</th>\n",
              "      <th>High_Confidence_Limit</th>\n",
              "      <th>Geolocation</th>\n",
              "      <th>ClassID</th>\n",
              "      <th>TopicID</th>\n",
              "      <th>QuestionID</th>\n",
              "      <th>LocationID</th>\n",
              "      <th>StratificationID1</th>\n",
              "      <th>StratificationCategoryID2</th>\n",
              "      <th>StratificationID2</th>\n",
              "    </tr>\n",
              "  </thead>\n",
              "  <tbody>\n",
              "    <tr>\n",
              "      <th>403</th>\n",
              "      <td>2016</td>\n",
              "      <td>Connecticut</td>\n",
              "      <td>Overall Health</td>\n",
              "      <td>Fall with injury within last year</td>\n",
              "      <td>Percentage of older adults who have fallen and...</td>\n",
              "      <td>Percentage</td>\n",
              "      <td>10.80</td>\n",
              "      <td>9.4</td>\n",
              "      <td>12.4</td>\n",
              "      <td>POINT (-72.64984095199964 41.56266102000046)</td>\n",
              "      <td>C01</td>\n",
              "      <td>TOC06</td>\n",
              "      <td>Q05</td>\n",
              "      <td>9</td>\n",
              "      <td>65PLUS</td>\n",
              "      <td>GENDER</td>\n",
              "      <td>FEMALE</td>\n",
              "    </tr>\n",
              "    <tr>\n",
              "      <th>446</th>\n",
              "      <td>2018</td>\n",
              "      <td>Louisiana</td>\n",
              "      <td>Overall Health</td>\n",
              "      <td>Fall with injury within last year</td>\n",
              "      <td>Percentage of older adults who have fallen and...</td>\n",
              "      <td>Percentage</td>\n",
              "      <td>7.70</td>\n",
              "      <td>4.9</td>\n",
              "      <td>11.7</td>\n",
              "      <td>POINT (-92.44568007099969 31.31266064400046)</td>\n",
              "      <td>C01</td>\n",
              "      <td>TOC06</td>\n",
              "      <td>Q05</td>\n",
              "      <td>22</td>\n",
              "      <td>65PLUS</td>\n",
              "      <td>GENDER</td>\n",
              "      <td>MALE</td>\n",
              "    </tr>\n",
              "    <tr>\n",
              "      <th>451</th>\n",
              "      <td>2020</td>\n",
              "      <td>Tennessee</td>\n",
              "      <td>Overall Health</td>\n",
              "      <td>Fall with injury within last year</td>\n",
              "      <td>Percentage of older adults who have fallen and...</td>\n",
              "      <td>Percentage</td>\n",
              "      <td>11.08</td>\n",
              "      <td>30.3</td>\n",
              "      <td>41.8</td>\n",
              "      <td>POINT (-85.77449091399967 35.68094058000048)</td>\n",
              "      <td>C01</td>\n",
              "      <td>TOC06</td>\n",
              "      <td>Q05</td>\n",
              "      <td>47</td>\n",
              "      <td>5064</td>\n",
              "      <td>RACE</td>\n",
              "      <td>NAA</td>\n",
              "    </tr>\n",
              "    <tr>\n",
              "      <th>507</th>\n",
              "      <td>2016</td>\n",
              "      <td>Florida</td>\n",
              "      <td>Overall Health</td>\n",
              "      <td>Fall with injury within last year</td>\n",
              "      <td>Percentage of older adults who have fallen and...</td>\n",
              "      <td>Percentage</td>\n",
              "      <td>5.20</td>\n",
              "      <td>3.1</td>\n",
              "      <td>8.5</td>\n",
              "      <td>POINT (-81.92896053899966 28.932040377000476)</td>\n",
              "      <td>C01</td>\n",
              "      <td>TOC06</td>\n",
              "      <td>Q05</td>\n",
              "      <td>12</td>\n",
              "      <td>65PLUS</td>\n",
              "      <td>RACE</td>\n",
              "      <td>BLK</td>\n",
              "    </tr>\n",
              "    <tr>\n",
              "      <th>586</th>\n",
              "      <td>2020</td>\n",
              "      <td>Illinois</td>\n",
              "      <td>Overall Health</td>\n",
              "      <td>Fall with injury within last year</td>\n",
              "      <td>Percentage of older adults who have fallen and...</td>\n",
              "      <td>Percentage</td>\n",
              "      <td>6.58</td>\n",
              "      <td>26.7</td>\n",
              "      <td>38.4</td>\n",
              "      <td>POINT (-88.99771017799969 40.48501028300046)</td>\n",
              "      <td>C01</td>\n",
              "      <td>TOC06</td>\n",
              "      <td>Q05</td>\n",
              "      <td>17</td>\n",
              "      <td>5064</td>\n",
              "      <td>RACE</td>\n",
              "      <td>BLK</td>\n",
              "    </tr>\n",
              "  </tbody>\n",
              "</table>\n",
              "</div>\n",
              "    <div class=\"colab-df-buttons\">\n",
              "\n",
              "  <div class=\"colab-df-container\">\n",
              "    <button class=\"colab-df-convert\" onclick=\"convertToInteractive('df-7caf9327-e324-4b8e-b2b1-7ba628739113')\"\n",
              "            title=\"Convert this dataframe to an interactive table.\"\n",
              "            style=\"display:none;\">\n",
              "\n",
              "  <svg xmlns=\"http://www.w3.org/2000/svg\" height=\"24px\" viewBox=\"0 -960 960 960\">\n",
              "    <path d=\"M120-120v-720h720v720H120Zm60-500h600v-160H180v160Zm220 220h160v-160H400v160Zm0 220h160v-160H400v160ZM180-400h160v-160H180v160Zm440 0h160v-160H620v160ZM180-180h160v-160H180v160Zm440 0h160v-160H620v160Z\"/>\n",
              "  </svg>\n",
              "    </button>\n",
              "\n",
              "  <style>\n",
              "    .colab-df-container {\n",
              "      display:flex;\n",
              "      gap: 12px;\n",
              "    }\n",
              "\n",
              "    .colab-df-convert {\n",
              "      background-color: #E8F0FE;\n",
              "      border: none;\n",
              "      border-radius: 50%;\n",
              "      cursor: pointer;\n",
              "      display: none;\n",
              "      fill: #1967D2;\n",
              "      height: 32px;\n",
              "      padding: 0 0 0 0;\n",
              "      width: 32px;\n",
              "    }\n",
              "\n",
              "    .colab-df-convert:hover {\n",
              "      background-color: #E2EBFA;\n",
              "      box-shadow: 0px 1px 2px rgba(60, 64, 67, 0.3), 0px 1px 3px 1px rgba(60, 64, 67, 0.15);\n",
              "      fill: #174EA6;\n",
              "    }\n",
              "\n",
              "    .colab-df-buttons div {\n",
              "      margin-bottom: 4px;\n",
              "    }\n",
              "\n",
              "    [theme=dark] .colab-df-convert {\n",
              "      background-color: #3B4455;\n",
              "      fill: #D2E3FC;\n",
              "    }\n",
              "\n",
              "    [theme=dark] .colab-df-convert:hover {\n",
              "      background-color: #434B5C;\n",
              "      box-shadow: 0px 1px 3px 1px rgba(0, 0, 0, 0.15);\n",
              "      filter: drop-shadow(0px 1px 2px rgba(0, 0, 0, 0.3));\n",
              "      fill: #FFFFFF;\n",
              "    }\n",
              "  </style>\n",
              "\n",
              "    <script>\n",
              "      const buttonEl =\n",
              "        document.querySelector('#df-7caf9327-e324-4b8e-b2b1-7ba628739113 button.colab-df-convert');\n",
              "      buttonEl.style.display =\n",
              "        google.colab.kernel.accessAllowed ? 'block' : 'none';\n",
              "\n",
              "      async function convertToInteractive(key) {\n",
              "        const element = document.querySelector('#df-7caf9327-e324-4b8e-b2b1-7ba628739113');\n",
              "        const dataTable =\n",
              "          await google.colab.kernel.invokeFunction('convertToInteractive',\n",
              "                                                    [key], {});\n",
              "        if (!dataTable) return;\n",
              "\n",
              "        const docLinkHtml = 'Like what you see? Visit the ' +\n",
              "          '<a target=\"_blank\" href=https://colab.research.google.com/notebooks/data_table.ipynb>data table notebook</a>'\n",
              "          + ' to learn more about interactive tables.';\n",
              "        element.innerHTML = '';\n",
              "        dataTable['output_type'] = 'display_data';\n",
              "        await google.colab.output.renderOutput(dataTable, element);\n",
              "        const docLink = document.createElement('div');\n",
              "        docLink.innerHTML = docLinkHtml;\n",
              "        element.appendChild(docLink);\n",
              "      }\n",
              "    </script>\n",
              "  </div>\n",
              "\n",
              "\n",
              "<div id=\"df-93e32725-fa53-415d-8f3c-eae5cd7d1d06\">\n",
              "  <button class=\"colab-df-quickchart\" onclick=\"quickchart('df-93e32725-fa53-415d-8f3c-eae5cd7d1d06')\"\n",
              "            title=\"Suggest charts\"\n",
              "            style=\"display:none;\">\n",
              "\n",
              "<svg xmlns=\"http://www.w3.org/2000/svg\" height=\"24px\"viewBox=\"0 0 24 24\"\n",
              "     width=\"24px\">\n",
              "    <g>\n",
              "        <path d=\"M19 3H5c-1.1 0-2 .9-2 2v14c0 1.1.9 2 2 2h14c1.1 0 2-.9 2-2V5c0-1.1-.9-2-2-2zM9 17H7v-7h2v7zm4 0h-2V7h2v10zm4 0h-2v-4h2v4z\"/>\n",
              "    </g>\n",
              "</svg>\n",
              "  </button>\n",
              "\n",
              "<style>\n",
              "  .colab-df-quickchart {\n",
              "      --bg-color: #E8F0FE;\n",
              "      --fill-color: #1967D2;\n",
              "      --hover-bg-color: #E2EBFA;\n",
              "      --hover-fill-color: #174EA6;\n",
              "      --disabled-fill-color: #AAA;\n",
              "      --disabled-bg-color: #DDD;\n",
              "  }\n",
              "\n",
              "  [theme=dark] .colab-df-quickchart {\n",
              "      --bg-color: #3B4455;\n",
              "      --fill-color: #D2E3FC;\n",
              "      --hover-bg-color: #434B5C;\n",
              "      --hover-fill-color: #FFFFFF;\n",
              "      --disabled-bg-color: #3B4455;\n",
              "      --disabled-fill-color: #666;\n",
              "  }\n",
              "\n",
              "  .colab-df-quickchart {\n",
              "    background-color: var(--bg-color);\n",
              "    border: none;\n",
              "    border-radius: 50%;\n",
              "    cursor: pointer;\n",
              "    display: none;\n",
              "    fill: var(--fill-color);\n",
              "    height: 32px;\n",
              "    padding: 0;\n",
              "    width: 32px;\n",
              "  }\n",
              "\n",
              "  .colab-df-quickchart:hover {\n",
              "    background-color: var(--hover-bg-color);\n",
              "    box-shadow: 0 1px 2px rgba(60, 64, 67, 0.3), 0 1px 3px 1px rgba(60, 64, 67, 0.15);\n",
              "    fill: var(--button-hover-fill-color);\n",
              "  }\n",
              "\n",
              "  .colab-df-quickchart-complete:disabled,\n",
              "  .colab-df-quickchart-complete:disabled:hover {\n",
              "    background-color: var(--disabled-bg-color);\n",
              "    fill: var(--disabled-fill-color);\n",
              "    box-shadow: none;\n",
              "  }\n",
              "\n",
              "  .colab-df-spinner {\n",
              "    border: 2px solid var(--fill-color);\n",
              "    border-color: transparent;\n",
              "    border-bottom-color: var(--fill-color);\n",
              "    animation:\n",
              "      spin 1s steps(1) infinite;\n",
              "  }\n",
              "\n",
              "  @keyframes spin {\n",
              "    0% {\n",
              "      border-color: transparent;\n",
              "      border-bottom-color: var(--fill-color);\n",
              "      border-left-color: var(--fill-color);\n",
              "    }\n",
              "    20% {\n",
              "      border-color: transparent;\n",
              "      border-left-color: var(--fill-color);\n",
              "      border-top-color: var(--fill-color);\n",
              "    }\n",
              "    30% {\n",
              "      border-color: transparent;\n",
              "      border-left-color: var(--fill-color);\n",
              "      border-top-color: var(--fill-color);\n",
              "      border-right-color: var(--fill-color);\n",
              "    }\n",
              "    40% {\n",
              "      border-color: transparent;\n",
              "      border-right-color: var(--fill-color);\n",
              "      border-top-color: var(--fill-color);\n",
              "    }\n",
              "    60% {\n",
              "      border-color: transparent;\n",
              "      border-right-color: var(--fill-color);\n",
              "    }\n",
              "    80% {\n",
              "      border-color: transparent;\n",
              "      border-right-color: var(--fill-color);\n",
              "      border-bottom-color: var(--fill-color);\n",
              "    }\n",
              "    90% {\n",
              "      border-color: transparent;\n",
              "      border-bottom-color: var(--fill-color);\n",
              "    }\n",
              "  }\n",
              "</style>\n",
              "\n",
              "  <script>\n",
              "    async function quickchart(key) {\n",
              "      const quickchartButtonEl =\n",
              "        document.querySelector('#' + key + ' button');\n",
              "      quickchartButtonEl.disabled = true;  // To prevent multiple clicks.\n",
              "      quickchartButtonEl.classList.add('colab-df-spinner');\n",
              "      try {\n",
              "        const charts = await google.colab.kernel.invokeFunction(\n",
              "            'suggestCharts', [key], {});\n",
              "      } catch (error) {\n",
              "        console.error('Error during call to suggestCharts:', error);\n",
              "      }\n",
              "      quickchartButtonEl.classList.remove('colab-df-spinner');\n",
              "      quickchartButtonEl.classList.add('colab-df-quickchart-complete');\n",
              "    }\n",
              "    (() => {\n",
              "      let quickchartButtonEl =\n",
              "        document.querySelector('#df-93e32725-fa53-415d-8f3c-eae5cd7d1d06 button');\n",
              "      quickchartButtonEl.style.display =\n",
              "        google.colab.kernel.accessAllowed ? 'block' : 'none';\n",
              "    })();\n",
              "  </script>\n",
              "</div>\n",
              "    </div>\n",
              "  </div>\n"
            ],
            "application/vnd.google.colaboratory.intrinsic+json": {
              "type": "dataframe",
              "variable_name": "selected_question_data",
              "summary": "{\n  \"name\": \"selected_question_data\",\n  \"rows\": 3813,\n  \"fields\": [\n    {\n      \"column\": \"Year\",\n      \"properties\": {\n        \"dtype\": \"number\",\n        \"std\": 1,\n        \"min\": 2016,\n        \"max\": 2020,\n        \"samples\": [\n          2016,\n          2018,\n          2020\n        ],\n        \"num_unique_values\": 3,\n        \"semantic_type\": \"\",\n        \"description\": \"\"\n      }\n    },\n    {\n      \"column\": \"LocationDesc\",\n      \"properties\": {\n        \"dtype\": \"category\",\n        \"samples\": [\n          \"Alaska\",\n          \"Nevada\",\n          \"Massachusetts\"\n        ],\n        \"num_unique_values\": 54,\n        \"semantic_type\": \"\",\n        \"description\": \"\"\n      }\n    },\n    {\n      \"column\": \"Class\",\n      \"properties\": {\n        \"dtype\": \"category\",\n        \"samples\": [\n          \"Overall Health\"\n        ],\n        \"num_unique_values\": 1,\n        \"semantic_type\": \"\",\n        \"description\": \"\"\n      }\n    },\n    {\n      \"column\": \"Topic\",\n      \"properties\": {\n        \"dtype\": \"category\",\n        \"samples\": [\n          \"Fall with injury within last year\"\n        ],\n        \"num_unique_values\": 1,\n        \"semantic_type\": \"\",\n        \"description\": \"\"\n      }\n    },\n    {\n      \"column\": \"Question\",\n      \"properties\": {\n        \"dtype\": \"category\",\n        \"samples\": [\n          \"Percentage of older adults who have fallen and sustained an injury within last year\"\n        ],\n        \"num_unique_values\": 1,\n        \"semantic_type\": \"\",\n        \"description\": \"\"\n      }\n    },\n    {\n      \"column\": \"Data_Value_Type\",\n      \"properties\": {\n        \"dtype\": \"category\",\n        \"samples\": [\n          \"Percentage\"\n        ],\n        \"num_unique_values\": 1,\n        \"semantic_type\": \"\",\n        \"description\": \"\"\n      }\n    },\n    {\n      \"column\": \"Data_Value\",\n      \"properties\": {\n        \"dtype\": \"number\",\n        \"std\": 2.5070675321901486,\n        \"min\": 2.9,\n        \"max\": 27.6,\n        \"samples\": [\n          8.43\n        ],\n        \"num_unique_values\": 301,\n        \"semantic_type\": \"\",\n        \"description\": \"\"\n      }\n    },\n    {\n      \"column\": \"Low_Confidence_Limit\",\n      \"properties\": {\n        \"dtype\": \"number\",\n        \"std\": 9.340893461546894,\n        \"min\": 1.7,\n        \"max\": 33.95,\n        \"samples\": [\n          8.9\n        ],\n        \"num_unique_values\": 180,\n        \"semantic_type\": \"\",\n        \"description\": \"\"\n      }\n    },\n    {\n      \"column\": \"High_Confidence_Limit\",\n      \"properties\": {\n        \"dtype\": \"number\",\n        \"std\": 12.87672667746378,\n        \"min\": 4.9,\n        \"max\": 52.05,\n        \"samples\": [\n          37.9\n        ],\n        \"num_unique_values\": 260,\n        \"semantic_type\": \"\",\n        \"description\": \"\"\n      }\n    },\n    {\n      \"column\": \"Geolocation\",\n      \"properties\": {\n        \"dtype\": \"category\",\n        \"samples\": [\n          \"POINT (-147.72205903599973 64.84507995700051)\"\n        ],\n        \"num_unique_values\": 54,\n        \"semantic_type\": \"\",\n        \"description\": \"\"\n      }\n    },\n    {\n      \"column\": \"ClassID\",\n      \"properties\": {\n        \"dtype\": \"category\",\n        \"samples\": [\n          \"C01\"\n        ],\n        \"num_unique_values\": 1,\n        \"semantic_type\": \"\",\n        \"description\": \"\"\n      }\n    },\n    {\n      \"column\": \"TopicID\",\n      \"properties\": {\n        \"dtype\": \"category\",\n        \"samples\": [\n          \"TOC06\"\n        ],\n        \"num_unique_values\": 1,\n        \"semantic_type\": \"\",\n        \"description\": \"\"\n      }\n    },\n    {\n      \"column\": \"QuestionID\",\n      \"properties\": {\n        \"dtype\": \"category\",\n        \"samples\": [\n          \"Q05\"\n        ],\n        \"num_unique_values\": 1,\n        \"semantic_type\": \"\",\n        \"description\": \"\"\n      }\n    },\n    {\n      \"column\": \"LocationID\",\n      \"properties\": {\n        \"dtype\": \"number\",\n        \"std\": 17,\n        \"min\": 1,\n        \"max\": 78,\n        \"samples\": [\n          2\n        ],\n        \"num_unique_values\": 54,\n        \"semantic_type\": \"\",\n        \"description\": \"\"\n      }\n    },\n    {\n      \"column\": \"StratificationID1\",\n      \"properties\": {\n        \"dtype\": \"category\",\n        \"samples\": [\n          \"65PLUS\"\n        ],\n        \"num_unique_values\": 3,\n        \"semantic_type\": \"\",\n        \"description\": \"\"\n      }\n    },\n    {\n      \"column\": \"StratificationCategoryID2\",\n      \"properties\": {\n        \"dtype\": \"category\",\n        \"samples\": [\n          \"GENDER\"\n        ],\n        \"num_unique_values\": 3,\n        \"semantic_type\": \"\",\n        \"description\": \"\"\n      }\n    },\n    {\n      \"column\": \"StratificationID2\",\n      \"properties\": {\n        \"dtype\": \"category\",\n        \"samples\": [\n          \"MALE\"\n        ],\n        \"num_unique_values\": 8,\n        \"semantic_type\": \"\",\n        \"description\": \"\"\n      }\n    }\n  ]\n}"
            }
          },
          "metadata": {},
          "execution_count": 59
        }
      ],
      "source": [
        "selected_question = 'Q05'\n",
        "selected_question_data = df[df['QuestionID'] == selected_question]\n",
        "selected_question_data.head()\n"
      ]
    },
    {
      "cell_type": "code",
      "execution_count": null,
      "metadata": {
        "colab": {
          "base_uri": "https://localhost:8080/"
        },
        "id": "AX7QATdNyvPV",
        "outputId": "3e538698-8fa8-495d-ae0b-10876dc7a5f3"
      },
      "outputs": [
        {
          "output_type": "stream",
          "name": "stdout",
          "text": [
            "StratificationID2\n",
            "ASN        10.466387\n",
            "BLK        10.466653\n",
            "FEMALE     12.347625\n",
            "HIS        10.691333\n",
            "MALE        8.257375\n",
            "NAA        11.197706\n",
            "OVERALL    10.400042\n",
            "WHT        10.444687\n",
            "Name: Data_Value, dtype: float64\n"
          ]
        }
      ],
      "source": [
        "fall_data = df[df['QuestionID'] == 'Q05']\n",
        "gender_fall_mean = fall_data.groupby('StratificationID2')['Data_Value'].mean()\n",
        "print(gender_fall_mean)\n"
      ]
    },
    {
      "cell_type": "code",
      "execution_count": null,
      "metadata": {
        "id": "sv_PiteF3pQF",
        "colab": {
          "base_uri": "https://localhost:8080/",
          "height": 1000
        },
        "outputId": "39d5b5b0-246f-4612-e47c-ad99ff46b2c3"
      },
      "outputs": [
        {
          "output_type": "stream",
          "name": "stderr",
          "text": [
            "WARNING:matplotlib.legend:No artists with labels found to put in legend.  Note that artists whose label start with an underscore are ignored when legend() is called with no argument.\n"
          ]
        },
        {
          "output_type": "display_data",
          "data": {
            "text/plain": [
              "<Figure size 1000x600 with 1 Axes>"
            ],
            "image/png": "[encoded data removed]"
          },
          "metadata": {}
        },
        {
          "output_type": "stream",
          "name": "stderr",
          "text": [
            "WARNING:matplotlib.legend:No artists with labels found to put in legend.  Note that artists whose label start with an underscore are ignored when legend() is called with no argument.\n"
          ]
        },
        {
          "output_type": "display_data",
          "data": {
            "text/plain": [
              "<Figure size 1200x800 with 1 Axes>"
            ],
            "image/png": "[encoded data removed]"
          },
          "metadata": {}
        }
      ],
      "source": [
        "\n",
        "def add_value_labels(ax, spacing=5):\n",
        "    \"\"\"Add labels on top of bars.\"\"\"\n",
        "    for rect in ax.patches:\n",
        "        y_value = rect.get_height()\n",
        "        x_value = rect.get_x() + rect.get_width() / 2\n",
        "\n",
        "        label = \"{:.1f}\".format(y_value)\n",
        "        ax.annotate(label, (x_value, y_value), xytext=(0, spacing), textcoords=\"offset points\",\n",
        "                    ha='center', va='bottom')\n",
        "\n",
        "\n",
        "plt.figure(figsize=(10, 6))\n",
        "ax1 = sns.barplot(x=\"StratificationID2\", y=\"Data_Value\", hue=\"StratificationID2\",\n",
        "                  data=df[(df[\"QuestionID\"] == \"Q05\") & (df[\"StratificationCategoryID2\"] == \"GENDER\")])\n",
        "plt.title(\"Percentage of Older Adults Falling with Injury by Gender\")\n",
        "plt.xlabel(\"Gender\")\n",
        "plt.ylabel(\"Average Percentage\")\n",
        "plt.legend(title=\"Gender\")\n",
        "add_value_labels(ax1)\n",
        "plt.show()\n",
        "\n",
        "plt.figure(figsize=(12, 8))\n",
        "ax2 = sns.barplot(x=\"StratificationID2\", y=\"Data_Value\", hue=\"StratificationID2\",\n",
        "                  data=df[(df[\"QuestionID\"] == \"Q05\") & (df[\"StratificationCategoryID2\"] == \"RACE\")])\n",
        "plt.title(\"Percentage of Older Adults Falling with Injury by Race\")\n",
        "plt.xlabel(\"Race\")\n",
        "plt.ylabel(\"Average Percentage\")\n",
        "plt.legend(title=\"Race\")\n",
        "add_value_labels(ax2)\n",
        "plt.show()\n"
      ]
    },
    {
      "cell_type": "markdown",
      "metadata": {
        "id": "VmGFamHx2vRH"
      },
      "source": [
        "The \"Percentage of Older Adults Falling with Injury by Gender\" plot shows that, on average, females have a higher percentage of falling with injury compared to males.\n",
        "The \"Percentage of Older Adults Falling with Injury by Race\" plot indicates variations in the percentage of falling with injury among different races. Asians and Native Americans/Alaskan Native have the higest percentage of falling with injuries compare to other races."
      ]
    },
    {
      "cell_type": "code",
      "execution_count": null,
      "metadata": {
        "id": "lJCskv9FCpQk",
        "colab": {
          "base_uri": "https://localhost:8080/"
        },
        "outputId": "a6c5502a-d477-4291-ef27-c984f300092c"
      },
      "outputs": [
        {
          "output_type": "stream",
          "name": "stdout",
          "text": [
            "Percentage difference in fall injuries between genders:\n",
            "Women have 49.5% higher probability of injuries when falling than men.\n",
            "\n",
            "Percentage difference in fall injuries between races:\n",
            "The race with higher fall injury probability: NAA has 7.2% more probability of injuries than the race with lower fall injury probability: WHT.\n"
          ]
        }
      ],
      "source": [
        "gender_values = df[(df[\"QuestionID\"] == \"Q05\") & (df[\"StratificationCategoryID2\"] == \"GENDER\")].groupby(\"StratificationID2\")[\"Data_Value\"].mean()\n",
        "percentage_difference_gender = ((gender_values[\"FEMALE\"] - gender_values[\"MALE\"]) / gender_values[\"MALE\"]) * 100\n",
        "\n",
        "print(\"Percentage difference in fall injuries between genders:\")\n",
        "print(\"Women have {:.1f}% higher probability of injuries when falling than men.\".format(percentage_difference_gender))\n",
        "\n",
        "\n",
        "race_values = df[(df[\"QuestionID\"] == \"Q05\") & (df[\"StratificationCategoryID2\"] == \"RACE\")].groupby(\"StratificationID2\")[\"Data_Value\"].mean()\n",
        "percentage_difference_race = ((race_values.max() - race_values.min()) / race_values.min()) * 100\n",
        "\n",
        "race_max = race_values.idxmax()\n",
        "race_min = race_values.idxmin()\n",
        "print(\"\\nPercentage difference in fall injuries between races:\")\n",
        "print(\"The race with higher fall injury probability: {} has {:.1f}% more probability of injuries than the race with lower fall injury probability: {}.\".format(race_max, percentage_difference_race, race_min))\n"
      ]
    },
    {
      "cell_type": "code",
      "source": [
        "depression_question_id = df.loc[df['Question'] == 'Percentage of older adults with a lifetime diagnosis of depression', 'QuestionID'].iloc[0]\n",
        "print(\"QuestionID for the question 'Percentage of older adults with a lifetime diagnosis of depression':\", depression_question_id)\n"
      ],
      "metadata": {
        "colab": {
          "base_uri": "https://localhost:8080/"
        },
        "id": "ZwgSULi5-lUS",
        "outputId": "2f6795e3-f35a-48db-d97c-50ce241e0f01"
      },
      "execution_count": null,
      "outputs": [
        {
          "output_type": "stream",
          "name": "stdout",
          "text": [
            "QuestionID for the question 'Percentage of older adults with a lifetime diagnosis of depression': Q27\n"
          ]
        }
      ]
    },
    {
      "cell_type": "code",
      "source": [
        "\n",
        "def add_value_labels(ax, spacing=5):\n",
        "    \"\"\"Add labels on top of bars.\"\"\"\n",
        "    for rect in ax.patches:\n",
        "        y_value = rect.get_height()\n",
        "        x_value = rect.get_x() + rect.get_width() / 2\n",
        "\n",
        "        label = \"{:.1f}%\".format(y_value)\n",
        "        ax.annotate(label, (x_value, y_value), xytext=(0, spacing), textcoords=\"offset points\",\n",
        "                    ha='center', va='bottom')\n",
        "\n",
        "depression_gender_data = df[(df['QuestionID'] == 'Q27') & (df['StratificationCategoryID2'] == 'GENDER')]\n",
        "\n",
        "plt.figure(figsize=(10, 6))\n",
        "ax = sns.barplot(x='StratificationID2', y='Data_Value', data=depression_gender_data,\n",
        "                 palette={'FEMALE': 'red', 'MALE': 'green'})\n",
        "plt.title(\"Percentage of Older Adults with Lifetime Diagnosis of Depression by Gender\")\n",
        "plt.xlabel(\"Gender\")\n",
        "plt.ylabel(\"Percentage\")\n",
        "add_value_labels(ax)\n",
        "plt.show()\n",
        "\n"
      ],
      "metadata": {
        "colab": {
          "base_uri": "https://localhost:8080/",
          "height": 651
        },
        "id": "0WdEDmVG_HUH",
        "outputId": "9bb5c02d-f63c-493e-8d83-04aebc84c1be"
      },
      "execution_count": null,
      "outputs": [
        {
          "output_type": "stream",
          "name": "stderr",
          "text": [
            "<ipython-input-64-729361bd5963>:14: FutureWarning: \n",
            "\n",
            "Passing `palette` without assigning `hue` is deprecated and will be removed in v0.14.0. Assign the `x` variable to `hue` and set `legend=False` for the same effect.\n",
            "\n",
            "  ax = sns.barplot(x='StratificationID2', y='Data_Value', data=depression_gender_data,\n"
          ]
        },
        {
          "output_type": "display_data",
          "data": {
            "text/plain": [
              "<Figure size 1000x600 with 1 Axes>"
            ],
            "image/png": "[encoded data removed]"
          },
          "metadata": {}
        }
      ]
    },
    {
      "cell_type": "code",
      "source": [
        "depression_age_data = df[(df['QuestionID'] == 'Q27') & (df['StratificationID1'] != 'AGE_OVERALL')]\n",
        "\n",
        "def format_age_range(age_group):\n",
        "    if age_group == '65PLUS':\n",
        "        return '65+'\n",
        "    else:\n",
        "                 return \"50-60\"\n",
        "\n",
        "depression_age_data['Age_Group'] = depression_age_data['StratificationID1'].apply(format_age_range)\n",
        "\n",
        "plt.figure(figsize=(12, 8))\n",
        "ax = sns.barplot(x='Age_Group', y='Data_Value', data=depression_age_data, palette='viridis')\n",
        "plt.title(\"Percentage of Older Adults with Lifetime Diagnosis of Depression by Age Group\")\n",
        "plt.xlabel(\"Age Group\")\n",
        "plt.ylabel(\"Percentage\")\n",
        "\n",
        "def add_value_labels(ax, spacing=5):\n",
        "    for rect in ax.patches:\n",
        "        y_value = rect.get_height()\n",
        "        x_value = rect.get_x() + rect.get_width() / 2\n",
        "        label = \"{:.1f}%\".format(y_value)\n",
        "        ax.annotate(label, (x_value, y_value), xytext=(0, spacing), textcoords=\"offset points\",\n",
        "                    ha='center', va='bottom')\n",
        "\n",
        "add_value_labels(ax)\n",
        "plt.show()\n"
      ],
      "metadata": {
        "colab": {
          "base_uri": "https://localhost:8080/",
          "height": 909
        },
        "id": "CMk_fsVNCjh8",
        "outputId": "baa41391-5a5a-499c-cc8c-16df4bba8698"
      },
      "execution_count": null,
      "outputs": [
        {
          "output_type": "stream",
          "name": "stderr",
          "text": [
            "<ipython-input-65-f260df082180>:9: SettingWithCopyWarning: \n",
            "A value is trying to be set on a copy of a slice from a DataFrame.\n",
            "Try using .loc[row_indexer,col_indexer] = value instead\n",
            "\n",
            "See the caveats in the documentation: https://pandas.pydata.org/pandas-docs/stable/user_guide/indexing.html#returning-a-view-versus-a-copy\n",
            "  depression_age_data['Age_Group'] = depression_age_data['StratificationID1'].apply(format_age_range)\n",
            "<ipython-input-65-f260df082180>:12: FutureWarning: \n",
            "\n",
            "Passing `palette` without assigning `hue` is deprecated and will be removed in v0.14.0. Assign the `x` variable to `hue` and set `legend=False` for the same effect.\n",
            "\n",
            "  ax = sns.barplot(x='Age_Group', y='Data_Value', data=depression_age_data, palette='viridis')\n"
          ]
        },
        {
          "output_type": "display_data",
          "data": {
            "text/plain": [
              "<Figure size 1200x800 with 1 Axes>"
            ],
            "image/png": "[encoded data removed]"
          },
          "metadata": {}
        }
      ]
    },
    {
      "cell_type": "code",
      "source": [
        "\n",
        "depression_race_data = df[(df['QuestionID'] == 'Q27') & (~df['StratificationID2'].isin(['OVERALL', 'FEMALE', 'MALE']))]\n",
        "\n",
        "plt.figure(figsize=(12, 8))\n",
        "ax = sns.barplot(x='StratificationID2', y='Data_Value', data=depression_race_data, palette='viridis')\n",
        "plt.title(\"Percentage of Older Adults with Lifetime Diagnosis of Depression by Race\")\n",
        "plt.xlabel(\"Race\")\n",
        "plt.ylabel(\"Percentage\")\n",
        "\n",
        "\n",
        "def add_value_labels(ax, spacing=5):\n",
        "    for rect in ax.patches:\n",
        "        y_value = rect.get_height()\n",
        "        x_value = rect.get_x() + rect.get_width() / 2\n",
        "        label = \"{:.1f}%\".format(y_value)\n",
        "        ax.annotate(label, (x_value, y_value), xytext=(0, spacing), textcoords=\"offset points\",\n",
        "                    ha='center', va='bottom')\n",
        "\n",
        "add_value_labels(ax)\n",
        "plt.show()\n"
      ],
      "metadata": {
        "colab": {
          "base_uri": "https://localhost:8080/",
          "height": 805
        },
        "id": "QLnFEDvaDM2s",
        "outputId": "48937f69-778e-40dc-ba7e-053fb026c633"
      },
      "execution_count": null,
      "outputs": [
        {
          "output_type": "stream",
          "name": "stderr",
          "text": [
            "<ipython-input-66-9caa381b93dd>:4: FutureWarning: \n",
            "\n",
            "Passing `palette` without assigning `hue` is deprecated and will be removed in v0.14.0. Assign the `x` variable to `hue` and set `legend=False` for the same effect.\n",
            "\n",
            "  ax = sns.barplot(x='StratificationID2', y='Data_Value', data=depression_race_data, palette='viridis')\n"
          ]
        },
        {
          "output_type": "display_data",
          "data": {
            "text/plain": [
              "<Figure size 1200x800 with 1 Axes>"
            ],
            "image/png": "[encoded data removed]"
          },
          "metadata": {}
        }
      ]
    },
    {
      "cell_type": "code",
      "source": [
        "from sklearn.linear_model import LinearRegression\n",
        "sns.set_style(\"whitegrid\")\n",
        "df_q27 = df[(df['QuestionID'] == 'Q27') & (df['StratificationID2'].isin(['FEMALE', 'MALE']))]\n",
        "grouped_data = df_q27.groupby(['StratificationID2', 'Year'])['Data_Value'].mean().reset_index()\n",
        "\n",
        "# Fiting a regression model to the historical data to predict future depression diagnosis rates for each gender\n",
        "predicted_data = pd.DataFrame(columns=['StratificationID2', 'Year', 'Data_Value'])\n",
        "for gender in ['FEMALE', 'MALE']:\n",
        "    gender_data = grouped_data[grouped_data['StratificationID2'] == gender]\n",
        "    X_train = gender_data[['Year']]\n",
        "    y_train = gender_data['Data_Value']\n",
        "\n",
        "    model = LinearRegression()\n",
        "    model.fit(X_train, y_train)\n",
        "\n",
        "    future_years = pd.DataFrame({'Year': range(2022, 2026)})\n",
        "    future_predictions = model.predict(future_years)\n",
        "\n",
        "    future_data = pd.DataFrame({'StratificationID2': [gender] * len(future_years),\n",
        "                                'Year': future_years['Year'],\n",
        "                                'Data_Value': future_predictions})\n",
        "\n",
        "    predicted_data = pd.concat([predicted_data, future_data], ignore_index=True)\n",
        "\n",
        "# Concatenateing historical and predicted data for plotting\n",
        "combined_data = pd.concat([grouped_data, predicted_data], ignore_index=True)\n",
        "\n",
        "colors = {'FEMALE': 'blue', 'MALE': 'red'}\n",
        "markers = {'FEMALE': 'o', 'MALE': 's'}\n",
        "line_styles = {'FEMALE': '-', 'MALE': '--'}\n",
        "\n",
        "plt.figure(figsize=(12, 6))\n",
        "for gender in ['FEMALE', 'MALE']:\n",
        "    gender_data = combined_data[combined_data['StratificationID2'] == gender]\n",
        "    plt.plot(gender_data['Year'], gender_data['Data_Value'], marker=markers[gender], linestyle=line_styles[gender], color=colors[gender], label=gender, alpha=0.7, markersize=8)\n",
        "\n",
        "\n",
        "    for i in range(len(gender_data)):\n",
        "        plt.text(gender_data.iloc[i]['Year'], gender_data.iloc[i]['Data_Value'], f'{gender_data.iloc[i][\"Data_Value\"]:.2f}', ha='center', va='bottom', fontsize=8)\n",
        "\n",
        "plt.title('Depression Diagnosis Rate Trends for Females and Males (Q27)')\n",
        "plt.xlabel('Year')\n",
        "plt.ylabel('Mean Depression Diagnosis Rate')\n",
        "plt.legend()\n",
        "plt.grid(True)\n",
        "plt.tight_layout()\n",
        "plt.show()\n"
      ],
      "metadata": {
        "colab": {
          "base_uri": "https://localhost:8080/",
          "height": 607
        },
        "id": "IqmyViJFQyPZ",
        "outputId": "02b9f5bd-8458-43e8-cace-82572cd5fa33"
      },
      "execution_count": null,
      "outputs": [
        {
          "output_type": "display_data",
          "data": {
            "text/plain": [
              "<Figure size 1200x600 with 1 Axes>"
            ],
            "image/png": "[encoded data removed]"
          },
          "metadata": {}
        }
      ]
    },
    {
      "cell_type": "code",
      "source": [
        "# Calculating the average rate of change for each gender\n",
        "for gender in ['FEMALE', 'MALE']:\n",
        "    gender_data = combined_data[combined_data['StratificationID2'] == gender]\n",
        "    avg_rate_of_change = (gender_data['Data_Value'].iloc[-1] - gender_data['Data_Value'].iloc[0]) / len(gender_data)\n",
        "    print(f\"Average rate of change for {gender}: {avg_rate_of_change:.2f} per year\")\n",
        "\n",
        "# Calculating the percentage change in depression diagnosis rate from the first to the last year for each gender\n",
        "for gender in ['FEMALE', 'MALE']:\n",
        "    gender_data = combined_data[combined_data['StratificationID2'] == gender]\n",
        "    initial_rate = gender_data['Data_Value'].iloc[0]\n",
        "    final_rate = gender_data['Data_Value'].iloc[-1]\n",
        "    percentage_change = ((final_rate - initial_rate) / initial_rate) * 100\n",
        "    print(f\"Percentage change in depression diagnosis rate for {gender}: {percentage_change:.2f}%\")\n",
        "\n"
      ],
      "metadata": {
        "colab": {
          "base_uri": "https://localhost:8080/"
        },
        "id": "Hwib2Xb0RBN7",
        "outputId": "d24eae19-9cc8-47f3-cd98-723f96dc1f23"
      },
      "execution_count": null,
      "outputs": [
        {
          "output_type": "stream",
          "name": "stdout",
          "text": [
            "Average rate of change for FEMALE: -0.13 per year\n",
            "Average rate of change for MALE: -0.23 per year\n",
            "Percentage change in depression diagnosis rate for FEMALE: -6.12%\n",
            "Percentage change in depression diagnosis rate for MALE: -18.08%\n"
          ]
        }
      ]
    },
    {
      "cell_type": "code",
      "source": [
        "df.Geolocation.head()"
      ],
      "metadata": {
        "colab": {
          "base_uri": "https://localhost:8080/"
        },
        "id": "LAJ1NpqmiZI-",
        "outputId": "d933b639-1705-4f16-a51d-410978faab2a"
      },
      "execution_count": null,
      "outputs": [
        {
          "output_type": "execute_result",
          "data": {
            "text/plain": [
              "4       POINT (-71.50036091999965 43.65595011300047)\n",
              "8       POINT (-88.99771017799969 40.48501028300046)\n",
              "9       POINT (-72.51764079099962 43.62538123900049)\n",
              "10      POINT (-72.64984095199964 41.56266102000046)\n",
              "11    POINT (-111.58713063499971 39.360700171000474)\n",
              "Name: Geolocation, dtype: object"
            ]
          },
          "metadata": {},
          "execution_count": 69
        }
      ]
    },
    {
      "cell_type": "code",
      "source": [
        "df[['Latitude', 'Longitude']] = df['Geolocation'].str.extract(r'POINT \\(([-.\\d]+) ([-.\\d]+)\\)', expand=True)\n",
        "df['Latitude'] = pd.to_numeric(df['Latitude'])\n",
        "df['Longitude'] = pd.to_numeric(df['Longitude'])\n",
        "\n",
        "\n",
        "print(df[['Latitude', 'Longitude']])"
      ],
      "metadata": {
        "colab": {
          "base_uri": "https://localhost:8080/"
        },
        "id": "im_iwVABoCvW",
        "outputId": "83e8d6e2-ed0c-4dd7-b0f3-643e36ef84ca"
      },
      "execution_count": null,
      "outputs": [
        {
          "output_type": "stream",
          "name": "stdout",
          "text": [
            "          Latitude  Longitude\n",
            "4       -71.500361  43.655950\n",
            "8       -88.997710  40.485010\n",
            "9       -72.517641  43.625381\n",
            "10      -72.649841  41.562661\n",
            "11     -111.587131  39.360700\n",
            "...            ...        ...\n",
            "250932  -80.712640  38.665510\n",
            "250933  -97.521070  35.472031\n",
            "250934  -71.500361  43.655950\n",
            "250935  -78.457890  37.542681\n",
            "250936 -111.587131  39.360700\n",
            "\n",
            "[224228 rows x 2 columns]\n"
          ]
        }
      ]
    },
    {
      "cell_type": "code",
      "source": [],
      "metadata": {
        "id": "yMVeg41XtHF8"
      },
      "execution_count": null,
      "outputs": []
    },
    {
      "cell_type": "code",
      "source": [
        "df.columns"
      ],
      "metadata": {
        "colab": {
          "base_uri": "https://localhost:8080/"
        },
        "id": "ZzTFpHyYoLI7",
        "outputId": "0a209a4c-55de-4230-d00d-9c3f74fca526"
      },
      "execution_count": null,
      "outputs": [
        {
          "output_type": "execute_result",
          "data": {
            "text/plain": [
              "Index(['Year', 'LocationDesc', 'Class', 'Topic', 'Question', 'Data_Value_Type',\n",
              "       'Data_Value', 'Low_Confidence_Limit', 'High_Confidence_Limit',\n",
              "       'Geolocation', 'ClassID', 'TopicID', 'QuestionID', 'LocationID',\n",
              "       'StratificationID1', 'StratificationCategoryID2', 'StratificationID2',\n",
              "       'Latitude', 'Longitude'],\n",
              "      dtype='object')"
            ]
          },
          "metadata": {},
          "execution_count": 71
        }
      ]
    },
    {
      "cell_type": "code",
      "source": [
        "output_file_path = \"/content/drive/MyDrive/Colab Notebooks/Alzheimer_s_Disease_and_Healthy_Aging_Data_modified.csv\"\n",
        "df.to_csv(output_file_path, index=False)"
      ],
      "metadata": {
        "id": "MhJs3BQUocSo"
      },
      "execution_count": null,
      "outputs": []
    },
    {
      "cell_type": "code",
      "source": [
        "df.Latitude.sample(10)"
      ],
      "metadata": {
        "colab": {
          "base_uri": "https://localhost:8080/"
        },
        "id": "KeDdFMbmrprZ",
        "outputId": "f92ae2d4-665c-4b09-93bd-f7ae989d6e0a"
      },
      "execution_count": null,
      "outputs": [
        {
          "output_type": "execute_result",
          "data": {
            "text/plain": [
              "180026    -80.712640\n",
              "37842     -93.816491\n",
              "106508    -86.631861\n",
              "41863    -106.133611\n",
              "110795    144.793731\n",
              "108183    -84.714390\n",
              "103422    -75.577741\n",
              "226725   -120.470011\n",
              "54910    -111.587131\n",
              "99099     -88.997710\n",
              "Name: Latitude, dtype: float64"
            ]
          },
          "metadata": {},
          "execution_count": 73
        }
      ]
    },
    {
      "cell_type": "code",
      "source": [
        "df.Longitude.sample(10)"
      ],
      "metadata": {
        "colab": {
          "base_uri": "https://localhost:8080/"
        },
        "id": "F0Eihb4at0WK",
        "outputId": "1406e18b-b960-4b27-cedf-577594542c64"
      },
      "execution_count": null,
      "outputs": [
        {
          "output_type": "execute_result",
          "data": {
            "text/plain": [
              "137683    39.290581\n",
              "160315    38.347740\n",
              "105145    46.355649\n",
              "19341     34.520881\n",
              "206986    41.708280\n",
              "84684     35.680941\n",
              "134848    38.347740\n",
              "4238      42.276870\n",
              "71543     32.839681\n",
              "23028     44.661320\n",
              "Name: Longitude, dtype: float64"
            ]
          },
          "metadata": {},
          "execution_count": 74
        }
      ]
    },
    {
      "cell_type": "code",
      "source": [
        "df.columns"
      ],
      "metadata": {
        "colab": {
          "base_uri": "https://localhost:8080/"
        },
        "id": "EiheGTqGgs0K",
        "outputId": "0a7ee91b-42c0-4d99-eaca-ee0b6bc56f88"
      },
      "execution_count": null,
      "outputs": [
        {
          "output_type": "execute_result",
          "data": {
            "text/plain": [
              "Index(['Year', 'LocationDesc', 'Class', 'Topic', 'Question', 'Data_Value_Type',\n",
              "       'Data_Value', 'Low_Confidence_Limit', 'High_Confidence_Limit',\n",
              "       'Geolocation', 'ClassID', 'TopicID', 'QuestionID', 'LocationID',\n",
              "       'StratificationID1', 'StratificationCategoryID2', 'StratificationID2',\n",
              "       'Latitude', 'Longitude'],\n",
              "      dtype='object')"
            ]
          },
          "metadata": {},
          "execution_count": 77
        }
      ]
    }
  ],
  "metadata": {
    "colab": {
      "provenance": []
    },
    "kernelspec": {
      "display_name": "Python 3",
      "name": "python3"
    },
    "language_info": {
      "name": "python"
    }
  },
  "nbformat": 4,
  "nbformat_minor": 0
}